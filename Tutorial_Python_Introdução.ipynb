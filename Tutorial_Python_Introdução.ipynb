{
  "cells": [
    {
      "cell_type": "markdown",
      "metadata": {
        "id": "view-in-github",
        "colab_type": "text"
      },
      "source": [
        "<a href=\"https://colab.research.google.com/github/VielF/ColabProjects/blob/main/Tutorial_Python_Introdu%C3%A7%C3%A3o.ipynb\" target=\"_parent\"><img src=\"https://colab.research.google.com/assets/colab-badge.svg\" alt=\"Open In Colab\"/></a>"
      ]
    },
    {
      "cell_type": "markdown",
      "metadata": {
        "id": "WriFIcN6p6rI"
      },
      "source": [
        "Universidade do Vale do Itajaí<br>\n",
        "Escola do Mar, Ciência e Tecnologia<br>\n",
        "Engenharia de Computação - Processamento Digital de Sinais: Imagens\n",
        "\n",
        "# Introdução a Jupyter, Python, NumPy e Scipy\n",
        "\n",
        "## Recursos úteis\n",
        "\n",
        "### Ambientes\n",
        "\n",
        "- Anaconda (instalação local): https://www.anaconda.com/products/individual#Downloads\n",
        "- Google Colab (nuvem): https://colab.research.google.com/\n",
        "- OpenCV: https://pypi.org/project/opencv-python/\n",
        "- Gimp: https://www.gimp.org\n",
        "\n",
        "### Tutoriais de Python\n",
        "\n",
        "- https://docs.python.org/3/tutorial/ (oficial)\n",
        "- https://www.kaggle.com/learn/python\n",
        "- https://www.tutorialspoint.com/python\n",
        "- https://www.pythonforbeginners.com/python-tutorial\n",
        "- https://colab.research.google.com/drive/1qH2RUurym6O-OGiHBgJp1bmMS8UNEjhx\n",
        "- https://www.youtube.com/results?search_query=python\n",
        "\n",
        "### Cursos de Python\n",
        "\n",
        "- https://www.coursera.org/learn/ciencia-computacao-python-conceitos\n",
        "- https://www.datacamp.com/courses/intro-to-python-for-data-science (pago)\n",
        "- https://www.codecademy.com/learn/learn-python-3 (pago?)\n",
        "- https://opencv.org/courses/#price\n",
        "\n",
        "### Tutoriais de Jupyter\n",
        "\n",
        "- https://medium.com/codingthesmartway-com-blog/getting-started-with-jupyter-notebook-for-python-4e7082bd5d46\n",
        "- https://www.dataquest.io/blog/jupyter-notebook-tutorial/\n",
        "- https://realpython.com/jupyter-notebook-introduction/\n",
        "- https://www.youtube.com/results?search_query=jupyter\n",
        "\n",
        "### Tutoriais de NumPy\n",
        "\n",
        "- https://cs231n.github.io/python-numpy-tutorial/\n",
        "- https://numpy.org/doc/stable/user/quickstart.html\n",
        "- http://scipy-lectures.org/intro/numpy/index.html\n",
        "\n",
        "### Tutoriais da OpenCV\n",
        "\n",
        "- https://docs.opencv.org/master/d9/df8/tutorial_root.html\n",
        "- https://www.geeksforgeeks.org/opencv-python-tutorial/\n",
        "\n",
        "### Outros tutoriais\n",
        "\n",
        "- Matplotlib: https://matplotlib.org/tutorials/introductory/pyplot.html\n",
        "- Pandas: https://pandas.pydata.org/pandas-docs/stable/user_guide/10min.html\n"
      ]
    },
    {
      "cell_type": "markdown",
      "metadata": {
        "id": "9nazrAewp6rL"
      },
      "source": [
        "## Markdown\n",
        "\n",
        "Podemos escrever em *itálico* ou **negrito** ou `largura fixa`, usar listas de bullets\n",
        "- item 1\n",
        "- item 2\n",
        "- item 3\n",
        "\n",
        "ou numeradas\n",
        "1. item 1\n",
        "1. item 2\n",
        "1. item 3\n",
        "\n",
        "e até mesmo usar equações em $\\LaTeX$, que podem ser inline ($f(x) = c_0 + c_1 x + c_2 x^2$) ou displayed:\n",
        "\n",
        "$$\n",
        "E = mc^2\n",
        "$$"
      ]
    },
    {
      "cell_type": "markdown",
      "metadata": {
        "id": "YPAyPR8dp6rL"
      },
      "source": [
        "Jupyter command pallete: `ctrl-shift-p`"
      ]
    },
    {
      "cell_type": "markdown",
      "metadata": {
        "id": "AFqeYpu0p6rM"
      },
      "source": [
        "## Python"
      ]
    },
    {
      "cell_type": "code",
      "execution_count": null,
      "metadata": {
        "id": "Y4a7vK_Sp6rM"
      },
      "outputs": [],
      "source": [
        "2 + 2"
      ]
    },
    {
      "cell_type": "code",
      "execution_count": null,
      "metadata": {
        "id": "u1ieqCwDp6rO"
      },
      "outputs": [],
      "source": [
        "# comentário\n",
        "a = 0.\n",
        "x = 0\n",
        "x\n",
        "a"
      ]
    },
    {
      "cell_type": "code",
      "execution_count": null,
      "metadata": {
        "id": "c58p9njip6rP"
      },
      "outputs": [],
      "source": [
        "a"
      ]
    },
    {
      "cell_type": "code",
      "execution_count": null,
      "metadata": {
        "id": "vxadQ_YJp6rP"
      },
      "outputs": [],
      "source": [
        "a == 0"
      ]
    },
    {
      "cell_type": "code",
      "execution_count": null,
      "metadata": {
        "id": "-VZS2QV2p6rQ"
      },
      "outputs": [],
      "source": [
        "print(type(a))"
      ]
    },
    {
      "cell_type": "code",
      "execution_count": null,
      "metadata": {
        "id": "4nBVH_O2p6rQ"
      },
      "outputs": [],
      "source": [
        "type(x)"
      ]
    },
    {
      "cell_type": "code",
      "execution_count": null,
      "metadata": {
        "id": "ThOqchAxp6rR"
      },
      "outputs": [],
      "source": [
        "b = .5"
      ]
    },
    {
      "cell_type": "code",
      "execution_count": null,
      "metadata": {
        "id": "mey2Ysm9p6rR"
      },
      "outputs": [],
      "source": [
        "b"
      ]
    },
    {
      "cell_type": "code",
      "execution_count": null,
      "metadata": {
        "id": "xRM7TMRsp6rS"
      },
      "outputs": [],
      "source": [
        "type(b)"
      ]
    },
    {
      "cell_type": "code",
      "execution_count": null,
      "metadata": {
        "id": "DyQBMsC7p6rS"
      },
      "outputs": [],
      "source": [
        "b == 0"
      ]
    },
    {
      "cell_type": "code",
      "execution_count": null,
      "metadata": {
        "id": "_BPfXztNp6rT"
      },
      "outputs": [],
      "source": [
        "a = 2\n",
        "b = 3.5\n",
        "c = a + b\n",
        "#2 + 3.5\n",
        "print(c)"
      ]
    },
    {
      "cell_type": "code",
      "execution_count": null,
      "metadata": {
        "id": "0IlaLotWp6rT"
      },
      "outputs": [],
      "source": [
        "saida = 3/2\n",
        "saida"
      ]
    },
    {
      "cell_type": "code",
      "execution_count": null,
      "metadata": {
        "id": "ik-A_KWOp6rU"
      },
      "outputs": [],
      "source": [
        "d = 2\n",
        "float(d) # (float)d"
      ]
    },
    {
      "cell_type": "code",
      "execution_count": null,
      "metadata": {
        "id": "Sks0hk7lp6rU"
      },
      "outputs": [],
      "source": [
        "int(1.8)"
      ]
    },
    {
      "cell_type": "code",
      "execution_count": null,
      "metadata": {
        "id": "yQwO4xxVp6rV"
      },
      "outputs": [],
      "source": [
        "a\n",
        "b"
      ]
    },
    {
      "cell_type": "code",
      "execution_count": null,
      "metadata": {
        "id": "3rRm_wmbp6rV"
      },
      "outputs": [],
      "source": [
        "print(a)\n",
        "print(b)\n",
        "print(\"Var a: \",a,\" Var b: \",b)"
      ]
    },
    {
      "cell_type": "code",
      "execution_count": null,
      "metadata": {
        "scrolled": true,
        "id": "zoU9GCwYp6rW"
      },
      "outputs": [],
      "source": [
        "t = True\n",
        "f = False\n",
        "print(t or f) #não usa || e && #bitwise & | ^ ~\n",
        "print(t and f)"
      ]
    },
    {
      "cell_type": "code",
      "execution_count": null,
      "metadata": {
        "id": "lLeifcChp6rW"
      },
      "outputs": [],
      "source": [
        "a > -1 and b < 2"
      ]
    },
    {
      "cell_type": "code",
      "execution_count": null,
      "metadata": {
        "id": "nvozsDejp6rX"
      },
      "outputs": [],
      "source": [
        "s = 5\n",
        "s = 'Hello world'\n",
        "s"
      ]
    },
    {
      "cell_type": "code",
      "execution_count": null,
      "metadata": {
        "id": "Uje3SmcAp6rX"
      },
      "outputs": [],
      "source": [
        "print(s)"
      ]
    },
    {
      "cell_type": "code",
      "execution_count": null,
      "metadata": {
        "id": "-OR6sKQbp6rX"
      },
      "outputs": [],
      "source": [
        "type(s)"
      ]
    },
    {
      "cell_type": "code",
      "execution_count": null,
      "metadata": {
        "id": "0WXPoRaXp6rY"
      },
      "outputs": [],
      "source": [
        "s = \"Hello world\"\n",
        "s"
      ]
    },
    {
      "cell_type": "code",
      "execution_count": null,
      "metadata": {
        "id": "aE8fqoGTp6rY"
      },
      "outputs": [],
      "source": [
        "s = \"it's interesting\"\n",
        "print(s)"
      ]
    },
    {
      "cell_type": "code",
      "execution_count": null,
      "metadata": {
        "id": "hkMG0kGAp6rY"
      },
      "outputs": [],
      "source": [
        "s.upper()"
      ]
    },
    {
      "cell_type": "code",
      "execution_count": null,
      "metadata": {
        "id": "58La2RrTp6rZ"
      },
      "outputs": [],
      "source": [
        "str1 = 'this'\n",
        "str2 = ' is '\n",
        "str3 = 'interesting'\n",
        "str_res = str1 + str2 + str3\n",
        "print(str_res)\n",
        "'this' + ' is ' + 'interesting'"
      ]
    },
    {
      "cell_type": "code",
      "execution_count": null,
      "metadata": {
        "id": "fVQM_yJ7p6rZ"
      },
      "outputs": [],
      "source": [
        "'42.5'"
      ]
    },
    {
      "cell_type": "code",
      "execution_count": null,
      "metadata": {
        "id": "Qj1N9niHp6ra"
      },
      "outputs": [],
      "source": [
        "int(float('42.5'))"
      ]
    },
    {
      "cell_type": "code",
      "execution_count": null,
      "metadata": {
        "id": "cpZBZcYxp6ra"
      },
      "outputs": [],
      "source": [
        "str(42.5)"
      ]
    },
    {
      "cell_type": "code",
      "execution_count": null,
      "metadata": {
        "id": "17QDm2vep6ra"
      },
      "outputs": [],
      "source": [
        "c = 1 + 1j\n",
        "c"
      ]
    },
    {
      "cell_type": "code",
      "execution_count": null,
      "metadata": {
        "id": "oTXbO9B8p6ra"
      },
      "outputs": [],
      "source": [
        "type(c)"
      ]
    },
    {
      "cell_type": "code",
      "execution_count": null,
      "metadata": {
        "id": "OIFIB4_Bp6rb"
      },
      "outputs": [],
      "source": [
        "c.conjugate()"
      ]
    },
    {
      "cell_type": "code",
      "execution_count": null,
      "metadata": {
        "id": "WxHLZ7Xrp6rb"
      },
      "outputs": [],
      "source": [
        "def quadrado(x):\n",
        "    '''\n",
        "    Retorna x elevado ao quadrado\n",
        "    '''\n",
        "    y = x**2\n",
        "    return y"
      ]
    },
    {
      "cell_type": "code",
      "execution_count": null,
      "metadata": {
        "id": "Z1eGV9Vrp6rc"
      },
      "outputs": [],
      "source": [
        "quadrado(3)"
      ]
    },
    {
      "cell_type": "code",
      "execution_count": null,
      "metadata": {
        "id": "XHZMsyxAp6rc"
      },
      "outputs": [],
      "source": [
        "type(quadrado)"
      ]
    },
    {
      "cell_type": "code",
      "execution_count": null,
      "metadata": {
        "id": "R-A5mGbkp6rc"
      },
      "outputs": [],
      "source": [
        "def quadrado(x, arred=False):\n",
        "    '''\n",
        "    Retorna x elevado ao quadrado,\n",
        "    opcionalmente arredondando para um inteiro\n",
        "    arred é bool\n",
        "    '''\n",
        "    if arred:\n",
        "        y = x**2\n",
        "        y = int(round(y))\n",
        "    else:\n",
        "        y = x**2        \n",
        "    return y"
      ]
    },
    {
      "cell_type": "code",
      "execution_count": null,
      "metadata": {
        "id": "XNBEgOvmp6rd"
      },
      "outputs": [],
      "source": [
        "quadrado(1.75, arred=True)"
      ]
    },
    {
      "cell_type": "code",
      "execution_count": null,
      "metadata": {
        "id": "d5haY8sLp6rd"
      },
      "outputs": [],
      "source": [
        "quadrado(1.5, arred=True)"
      ]
    },
    {
      "cell_type": "code",
      "execution_count": null,
      "metadata": {
        "id": "obETWCxnp6rd"
      },
      "outputs": [],
      "source": [
        "#shift-tab, shift-tab-tab\n",
        "quadrado?"
      ]
    },
    {
      "cell_type": "code",
      "execution_count": null,
      "metadata": {
        "id": "DGh31AT1p6rd"
      },
      "outputs": [],
      "source": []
    },
    {
      "cell_type": "code",
      "execution_count": null,
      "metadata": {
        "id": "qXZ_MhPsp6re"
      },
      "outputs": [],
      "source": [
        "L = [1, 'texto', 5.6]\n",
        "L"
      ]
    },
    {
      "cell_type": "code",
      "execution_count": null,
      "metadata": {
        "id": "0BnDe-OUp6re"
      },
      "outputs": [],
      "source": [
        "type(L)"
      ]
    },
    {
      "cell_type": "code",
      "execution_count": null,
      "metadata": {
        "id": "lRdqk1fbp6re"
      },
      "outputs": [],
      "source": [
        "L[0]"
      ]
    },
    {
      "cell_type": "code",
      "execution_count": null,
      "metadata": {
        "id": "Js9g5jT1p6rf"
      },
      "outputs": [],
      "source": [
        "L[1]"
      ]
    },
    {
      "cell_type": "code",
      "execution_count": null,
      "metadata": {
        "id": "thI5Pu6Gp6rf"
      },
      "outputs": [],
      "source": [
        "L[2]"
      ]
    },
    {
      "cell_type": "code",
      "execution_count": null,
      "metadata": {
        "id": "mo0sE-w-p6rf"
      },
      "outputs": [],
      "source": [
        "L[-1]"
      ]
    },
    {
      "cell_type": "code",
      "execution_count": null,
      "metadata": {
        "id": "maXsb3Tup6rf"
      },
      "outputs": [],
      "source": [
        "L[2] = 5.7"
      ]
    },
    {
      "cell_type": "code",
      "execution_count": null,
      "metadata": {
        "id": "o-mUMKHYp6rh"
      },
      "outputs": [],
      "source": [
        "L"
      ]
    },
    {
      "cell_type": "code",
      "execution_count": null,
      "metadata": {
        "id": "wWg_S3oPp6ri"
      },
      "outputs": [],
      "source": [
        "len(L)"
      ]
    },
    {
      "cell_type": "code",
      "execution_count": null,
      "metadata": {
        "id": "KEcUoPd6p6ri"
      },
      "outputs": [],
      "source": [
        "L.append('novo')"
      ]
    },
    {
      "cell_type": "code",
      "execution_count": null,
      "metadata": {
        "id": "KSZuEKI4p6ri"
      },
      "outputs": [],
      "source": [
        "L"
      ]
    },
    {
      "cell_type": "code",
      "execution_count": null,
      "metadata": {
        "scrolled": true,
        "id": "uRRLaDm7p6ri"
      },
      "outputs": [],
      "source": [
        "L + 123"
      ]
    },
    {
      "cell_type": "code",
      "execution_count": null,
      "metadata": {
        "id": "TQqiE6j2p6rj"
      },
      "outputs": [],
      "source": [
        "L + [123]"
      ]
    },
    {
      "cell_type": "code",
      "execution_count": null,
      "metadata": {
        "id": "bw57nwxmp6rj"
      },
      "outputs": [],
      "source": [
        "L"
      ]
    },
    {
      "cell_type": "code",
      "execution_count": null,
      "metadata": {
        "id": "CwoVI5k-p6rj"
      },
      "outputs": [],
      "source": [
        "L = L + [123]"
      ]
    },
    {
      "cell_type": "code",
      "execution_count": null,
      "metadata": {
        "id": "VWAwcdaSp6rk"
      },
      "outputs": [],
      "source": [
        "L"
      ]
    },
    {
      "cell_type": "code",
      "execution_count": null,
      "metadata": {
        "id": "uIKyE4URp6rk"
      },
      "outputs": [],
      "source": [
        "list(range(10)) # o valor final não é incluído"
      ]
    },
    {
      "cell_type": "code",
      "execution_count": null,
      "metadata": {
        "id": "KRsaSrG2p6rk"
      },
      "outputs": [],
      "source": [
        "list(range(1,10)) # o valor final não é incluído"
      ]
    },
    {
      "cell_type": "code",
      "execution_count": null,
      "metadata": {
        "id": "bk9gVFisp6rl"
      },
      "outputs": [],
      "source": [
        "range(10)"
      ]
    },
    {
      "cell_type": "code",
      "execution_count": null,
      "metadata": {
        "id": "fwuUIw4Wp6rl"
      },
      "outputs": [],
      "source": [
        "for i in range(10):\n",
        "    print(i)"
      ]
    },
    {
      "cell_type": "code",
      "execution_count": null,
      "metadata": {
        "scrolled": true,
        "id": "t-jBzFXop6rl"
      },
      "outputs": [],
      "source": [
        "L[1:3] # a última posição não é considerada 1 < in e fim > 3"
      ]
    },
    {
      "cell_type": "code",
      "execution_count": null,
      "metadata": {
        "id": "T3T0kRKyp6rl"
      },
      "outputs": [],
      "source": [
        "v = list(range(10))\n",
        "v"
      ]
    },
    {
      "cell_type": "code",
      "execution_count": null,
      "metadata": {
        "id": "JTAl6agAp6rm"
      },
      "outputs": [],
      "source": [
        "v[1:5]"
      ]
    },
    {
      "cell_type": "code",
      "execution_count": null,
      "metadata": {
        "id": "YslFW56Xp6rm"
      },
      "outputs": [],
      "source": [
        "v[:5]"
      ]
    },
    {
      "cell_type": "code",
      "execution_count": null,
      "metadata": {
        "id": "1nfOj1Cbp6rm"
      },
      "outputs": [],
      "source": [
        "v[3:]"
      ]
    },
    {
      "cell_type": "code",
      "execution_count": null,
      "metadata": {
        "id": "KB-hkjkmp6rn"
      },
      "outputs": [],
      "source": [
        "v[3:-1]"
      ]
    },
    {
      "cell_type": "code",
      "execution_count": null,
      "metadata": {
        "id": "WoOBr2-sp6rn"
      },
      "outputs": [],
      "source": [
        "v[:-2]"
      ]
    },
    {
      "cell_type": "code",
      "execution_count": null,
      "metadata": {
        "id": "CMHLxRPrp6rn"
      },
      "outputs": [],
      "source": [
        "v[::2]"
      ]
    },
    {
      "cell_type": "code",
      "execution_count": null,
      "metadata": {
        "id": "UQJYJFwmp6ro"
      },
      "outputs": [],
      "source": [
        "v[::-1]"
      ]
    },
    {
      "cell_type": "code",
      "execution_count": null,
      "metadata": {
        "id": "u7AHHmkYp6ro"
      },
      "outputs": [],
      "source": [
        "sum(v)"
      ]
    },
    {
      "cell_type": "code",
      "execution_count": null,
      "metadata": {
        "id": "R5KUeSKyp6ro"
      },
      "outputs": [],
      "source": [
        "t = (1, 'dois', 'dois',3.0, 4)\n",
        "t"
      ]
    },
    {
      "cell_type": "code",
      "execution_count": null,
      "metadata": {
        "id": "6NRrUvaup6ro"
      },
      "outputs": [],
      "source": [
        "type(t)"
      ]
    },
    {
      "cell_type": "code",
      "execution_count": null,
      "metadata": {
        "id": "71a6g0rXp6rp"
      },
      "outputs": [],
      "source": [
        "t[1:]"
      ]
    },
    {
      "cell_type": "code",
      "execution_count": null,
      "metadata": {
        "id": "S2AKqRnxp6rp"
      },
      "outputs": [],
      "source": [
        "len(t)"
      ]
    },
    {
      "cell_type": "code",
      "execution_count": null,
      "metadata": {
        "id": "UDdmdCCVp6rp"
      },
      "outputs": [],
      "source": [
        "t.count('dois')"
      ]
    },
    {
      "cell_type": "code",
      "execution_count": null,
      "metadata": {
        "id": "UKKgw4Adp6rq"
      },
      "outputs": [],
      "source": [
        "# tupla não é mutável\n",
        "t[2] = 9"
      ]
    },
    {
      "cell_type": "code",
      "execution_count": null,
      "metadata": {
        "id": "fKtOk-8Yp6rq"
      },
      "outputs": [],
      "source": [
        "list(t)"
      ]
    },
    {
      "cell_type": "code",
      "execution_count": null,
      "metadata": {
        "id": "i-7jcMHEp6rq"
      },
      "outputs": [],
      "source": [
        "list(s)"
      ]
    },
    {
      "cell_type": "code",
      "execution_count": null,
      "metadata": {
        "id": "DUBXMY9gp6rq"
      },
      "outputs": [],
      "source": [
        "s[5:-3]"
      ]
    },
    {
      "cell_type": "code",
      "execution_count": null,
      "metadata": {
        "id": "ttAwz8y3p6rr"
      },
      "outputs": [],
      "source": [
        "a, b, v, s"
      ]
    },
    {
      "cell_type": "code",
      "execution_count": null,
      "metadata": {
        "id": "etoIbxKFp6rr"
      },
      "outputs": [],
      "source": [
        "x, y, z = 1, 2, 3\n",
        "print(x)\n",
        "print(y)\n",
        "print(z)"
      ]
    },
    {
      "cell_type": "code",
      "execution_count": null,
      "metadata": {
        "id": "T42hd3Ptp6rr"
      },
      "outputs": [],
      "source": [
        "d = {'nome':'Fulano', 'idade':22}\n",
        "d"
      ]
    },
    {
      "cell_type": "code",
      "execution_count": null,
      "metadata": {
        "id": "LYJAcy0gp6rs"
      },
      "outputs": [],
      "source": [
        "type(d)"
      ]
    },
    {
      "cell_type": "code",
      "execution_count": null,
      "metadata": {
        "id": "03_AldBGp6rs"
      },
      "outputs": [],
      "source": [
        "d['nome']"
      ]
    },
    {
      "cell_type": "code",
      "execution_count": null,
      "metadata": {
        "id": "cJ7rvIv4p6rs"
      },
      "outputs": [],
      "source": [
        "d['idade']"
      ]
    },
    {
      "cell_type": "code",
      "execution_count": null,
      "metadata": {
        "id": "at1II8Q2p6rt"
      },
      "outputs": [],
      "source": [
        "list(d.keys())"
      ]
    },
    {
      "cell_type": "code",
      "execution_count": null,
      "metadata": {
        "id": "5UBZpLqHp6rt"
      },
      "outputs": [],
      "source": [
        "list(d.values())"
      ]
    },
    {
      "cell_type": "code",
      "execution_count": null,
      "metadata": {
        "id": "d10k9oGup6rt"
      },
      "outputs": [],
      "source": [
        "[n**2 for n in range(10)] # list compreehension"
      ]
    },
    {
      "cell_type": "code",
      "execution_count": null,
      "metadata": {
        "id": "S2xgQ8sOp6ru"
      },
      "outputs": [],
      "source": [
        "[n**2 for n in range(10) if n % 2 == 0]"
      ]
    },
    {
      "cell_type": "code",
      "execution_count": null,
      "metadata": {
        "id": "rI9QSk6Zp6ru"
      },
      "outputs": [],
      "source": [
        "class Aluno(object):\n",
        "    \n",
        "    def __init__(self, nome):\n",
        "        self.nome = nome\n",
        "    \n",
        "    def entra_nota(self, nota):\n",
        "        nota = round(2*nota)/2 # arredondamento Univali\n",
        "        self.nota = nota\n",
        "    \n",
        "    def aprovado(self):\n",
        "        return self.nota >= 5.75"
      ]
    },
    {
      "cell_type": "code",
      "execution_count": null,
      "metadata": {
        "id": "7uCGK-3Xp6ru"
      },
      "outputs": [],
      "source": [
        "aluno = Aluno('Fulano')\n",
        "aluno.nome"
      ]
    },
    {
      "cell_type": "code",
      "execution_count": null,
      "metadata": {
        "id": "h9yVeCWYp6rv"
      },
      "outputs": [],
      "source": [
        "aluno.entra_nota(5.75)\n",
        "aluno.nota"
      ]
    },
    {
      "cell_type": "code",
      "execution_count": null,
      "metadata": {
        "id": "30qvwNdPp6rv"
      },
      "outputs": [],
      "source": [
        "aluno.aprovado()"
      ]
    },
    {
      "cell_type": "code",
      "execution_count": null,
      "metadata": {
        "id": "-SAOOObLp6rv"
      },
      "outputs": [],
      "source": []
    },
    {
      "cell_type": "markdown",
      "metadata": {
        "id": "pZ1wPw3Kp6rv"
      },
      "source": [
        "## NumPy"
      ]
    },
    {
      "cell_type": "code",
      "execution_count": null,
      "metadata": {
        "id": "tqvlqvKzp6rw"
      },
      "outputs": [],
      "source": [
        "import numpy as np"
      ]
    },
    {
      "cell_type": "code",
      "execution_count": null,
      "metadata": {
        "id": "dH_vPgpJp6rw"
      },
      "outputs": [],
      "source": [
        "np.abs(-3)"
      ]
    },
    {
      "cell_type": "code",
      "execution_count": null,
      "metadata": {
        "id": "VVF1kfyKp6rw"
      },
      "outputs": [],
      "source": [
        "import numpy as np"
      ]
    },
    {
      "cell_type": "code",
      "execution_count": null,
      "metadata": {
        "id": "grOem7Nup6rx"
      },
      "outputs": [],
      "source": [
        "np.abs(-3)"
      ]
    },
    {
      "cell_type": "code",
      "execution_count": null,
      "metadata": {
        "id": "4vsM9hGPp6rx"
      },
      "outputs": [],
      "source": [
        "np.min([1, 2, 3, 4])"
      ]
    },
    {
      "cell_type": "code",
      "execution_count": null,
      "metadata": {
        "id": "Jy45c2Mbp6rx"
      },
      "outputs": [],
      "source": [
        "a = np.array([1, 2, 3, 4])\n",
        "a"
      ]
    },
    {
      "cell_type": "code",
      "execution_count": null,
      "metadata": {
        "id": "hBKCTGYSp6ry"
      },
      "outputs": [],
      "source": [
        "a.dtype"
      ]
    },
    {
      "cell_type": "code",
      "execution_count": null,
      "metadata": {
        "id": "8kzLA6AOp6ry"
      },
      "outputs": [],
      "source": [
        "a = np.array([1, 2, 3, 4.0])\n",
        "a"
      ]
    },
    {
      "cell_type": "code",
      "execution_count": null,
      "metadata": {
        "id": "F4dQi4Fjp6ry"
      },
      "outputs": [],
      "source": [
        "a.dtype"
      ]
    },
    {
      "cell_type": "code",
      "execution_count": null,
      "metadata": {
        "id": "iNeaZWvKp6rz"
      },
      "outputs": [],
      "source": [
        "type(a)"
      ]
    },
    {
      "cell_type": "code",
      "execution_count": null,
      "metadata": {
        "id": "z0cXH_Ajp6rz"
      },
      "outputs": [],
      "source": [
        "a.shape"
      ]
    },
    {
      "cell_type": "code",
      "execution_count": null,
      "metadata": {
        "id": "azRPqesAp6r0"
      },
      "outputs": [],
      "source": [
        "sum(a)"
      ]
    },
    {
      "cell_type": "code",
      "execution_count": null,
      "metadata": {
        "id": "Tyaysb1Ep6r0"
      },
      "outputs": [],
      "source": [
        "np.sum(a)"
      ]
    },
    {
      "cell_type": "code",
      "execution_count": null,
      "metadata": {
        "id": "Q_tS1R8Zp6r0"
      },
      "outputs": [],
      "source": [
        "a.sum()"
      ]
    },
    {
      "cell_type": "code",
      "execution_count": null,
      "metadata": {
        "id": "-owNnPNOp6r2"
      },
      "outputs": [],
      "source": [
        "a.argmax()"
      ]
    },
    {
      "cell_type": "code",
      "execution_count": null,
      "metadata": {
        "id": "pSYI08fDp6r3"
      },
      "outputs": [],
      "source": [
        "a.ndim"
      ]
    },
    {
      "cell_type": "code",
      "execution_count": null,
      "metadata": {
        "id": "TB8uqrDNp6r3"
      },
      "outputs": [],
      "source": [
        "a.shape"
      ]
    },
    {
      "cell_type": "code",
      "execution_count": null,
      "metadata": {
        "id": "PuRLnjCqp6r3"
      },
      "outputs": [],
      "source": [
        "a[3] = 4.6"
      ]
    },
    {
      "cell_type": "code",
      "execution_count": null,
      "metadata": {
        "id": "5_qCFyobp6r4"
      },
      "outputs": [],
      "source": [
        "a = np.array([1, 2, 3, 4])\n",
        "a[0] = 0.7\n",
        "c =a.copy()\n",
        "c = np.array([c])\n",
        "aux = c.T\n",
        "print(a.shape)\n",
        "print(c.shape)\n",
        "print(aux)"
      ]
    },
    {
      "cell_type": "code",
      "execution_count": null,
      "metadata": {
        "id": "-vHMhsjAp6r4"
      },
      "outputs": [],
      "source": [
        "#a = np.array([1, 2, 3, 4.0])\n",
        "#a = np.array([1, 2, 3, 4], dtype=float)\n",
        "a = np.array([1, 2, 3, 4])\n",
        "a = a.astype(float)\n",
        "a[0] = 0.7\n",
        "a"
      ]
    },
    {
      "cell_type": "code",
      "execution_count": null,
      "metadata": {
        "id": "r7UiFm5Lp6r5"
      },
      "outputs": [],
      "source": [
        "a = np.array([1, 2, 3, 4], dtype=float)\n",
        "b = a\n",
        "a[0] = 5\n",
        "a"
      ]
    },
    {
      "cell_type": "code",
      "execution_count": null,
      "metadata": {
        "id": "VOw1l5z8p6r5"
      },
      "outputs": [],
      "source": [
        "b"
      ]
    },
    {
      "cell_type": "code",
      "execution_count": null,
      "metadata": {
        "id": "r3xfnwKUp6r5"
      },
      "outputs": [],
      "source": [
        "b is a"
      ]
    },
    {
      "cell_type": "code",
      "execution_count": null,
      "metadata": {
        "id": "Sggywnh7p6r6"
      },
      "outputs": [],
      "source": [
        "a = np.array([1, 2, 3, 4], dtype=float)\n",
        "b = a.copy()\n",
        "print(b is a)\n",
        "a[0] = 5\n",
        "a"
      ]
    },
    {
      "cell_type": "code",
      "execution_count": null,
      "metadata": {
        "id": "Q14SZY0Qp6r6"
      },
      "outputs": [],
      "source": [
        "b"
      ]
    },
    {
      "cell_type": "code",
      "execution_count": null,
      "metadata": {
        "id": "mNTIeRWBp6r7"
      },
      "outputs": [],
      "source": [
        "a + 1"
      ]
    },
    {
      "cell_type": "code",
      "execution_count": null,
      "metadata": {
        "id": "nROAvjYjp6r7"
      },
      "outputs": [],
      "source": [
        "a*a"
      ]
    },
    {
      "cell_type": "code",
      "execution_count": null,
      "metadata": {
        "id": "tbY2n81fp6r8"
      },
      "outputs": [],
      "source": [
        "a**2"
      ]
    },
    {
      "cell_type": "code",
      "execution_count": null,
      "metadata": {
        "id": "7oYUvPXOp6r8"
      },
      "outputs": [],
      "source": [
        "x = np.array([[0,1,2,3],[4,5,6,7]])\n",
        "x"
      ]
    },
    {
      "cell_type": "code",
      "execution_count": null,
      "metadata": {
        "id": "F7jwqr5Tp6r9"
      },
      "outputs": [],
      "source": [
        "x.shape"
      ]
    },
    {
      "cell_type": "code",
      "execution_count": null,
      "metadata": {
        "id": "gOM2PDWSp6r9"
      },
      "outputs": [],
      "source": [
        "x[1,2]"
      ]
    },
    {
      "cell_type": "code",
      "execution_count": null,
      "metadata": {
        "id": "owg9i97Jp6r-"
      },
      "outputs": [],
      "source": [
        "x[1][2]"
      ]
    },
    {
      "cell_type": "code",
      "execution_count": null,
      "metadata": {
        "id": "2pmeajt9p6r-"
      },
      "outputs": [],
      "source": [
        "x.T"
      ]
    },
    {
      "cell_type": "code",
      "execution_count": null,
      "metadata": {
        "id": "rQpxVvh2p6r_"
      },
      "outputs": [],
      "source": [
        "x.T.shape"
      ]
    },
    {
      "cell_type": "code",
      "execution_count": null,
      "metadata": {
        "id": "sAxbFfajp6r_"
      },
      "outputs": [],
      "source": [
        "y = np.array([[[0, 1, 2, 3], [4, 5, 6, 7]], [[8, 9, 10, 11], [12, 13, 14, 15]], [[16, 17, 18, 19], [20, 21, 22, 23]]])\n",
        "y"
      ]
    },
    {
      "cell_type": "code",
      "execution_count": null,
      "metadata": {
        "id": "3lB21AUFp6r_"
      },
      "outputs": [],
      "source": [
        "y.shape"
      ]
    },
    {
      "cell_type": "code",
      "execution_count": null,
      "metadata": {
        "scrolled": true,
        "id": "YEN7rDJJp6sA"
      },
      "outputs": [],
      "source": [
        "y[1][0][2]"
      ]
    },
    {
      "cell_type": "code",
      "execution_count": null,
      "metadata": {
        "id": "cyGn8u9pp6sA"
      },
      "outputs": [],
      "source": [
        "y[1,0,2]"
      ]
    },
    {
      "cell_type": "code",
      "execution_count": null,
      "metadata": {
        "id": "leGXkJr7p6sB"
      },
      "outputs": [],
      "source": [
        "y = np.arange(2*3*4)\n",
        "y"
      ]
    },
    {
      "cell_type": "code",
      "execution_count": null,
      "metadata": {
        "id": "V1IpZZtNp6sB"
      },
      "outputs": [],
      "source": [
        "y.reshape(3,2,4)"
      ]
    },
    {
      "cell_type": "markdown",
      "metadata": {
        "id": "Yk6-qveEp6sB"
      },
      "source": [
        "Examples of NumPy arrays:\n",
        "\n",
        "![test.png](attachment:test.png)"
      ]
    },
    {
      "cell_type": "code",
      "execution_count": null,
      "metadata": {
        "id": "1Xoh3QTCp6sC"
      },
      "outputs": [],
      "source": [
        "y"
      ]
    },
    {
      "cell_type": "code",
      "execution_count": null,
      "metadata": {
        "id": "seU1x8dUp6sC"
      },
      "outputs": [],
      "source": [
        "y = y.reshape(3,2,4)\n",
        "y"
      ]
    },
    {
      "cell_type": "code",
      "execution_count": null,
      "metadata": {
        "id": "UoUcgDsrp6sC"
      },
      "outputs": [],
      "source": [
        "x"
      ]
    },
    {
      "cell_type": "code",
      "execution_count": null,
      "metadata": {
        "id": "qFThsqLOp6sD"
      },
      "outputs": [],
      "source": [
        "z = np.array([x, x+8, x+16])\n",
        "z"
      ]
    },
    {
      "cell_type": "code",
      "execution_count": null,
      "metadata": {
        "id": "DrGyPjvhp6sD"
      },
      "outputs": [],
      "source": [
        "np.r_[x, x+8, x+16]"
      ]
    },
    {
      "cell_type": "code",
      "execution_count": null,
      "metadata": {
        "id": "eO4FbZrMp6sE"
      },
      "outputs": [],
      "source": [
        "np.r_[x, x[1:]]\n",
        "#a = np.array([1,2,4,5,6])\n",
        "#print(a)\n",
        "#aux2=a[1:].copy()\n",
        "#aux2.append(0)\n",
        "#np.r_[a,a[1:]+[0]].reshape(2,5)"
      ]
    },
    {
      "cell_type": "code",
      "execution_count": null,
      "metadata": {
        "id": "Rk5CClYGp6sE"
      },
      "outputs": [],
      "source": [
        "np.c_[x, x+8, x+16]"
      ]
    },
    {
      "cell_type": "code",
      "execution_count": null,
      "metadata": {
        "id": "pGQdqvOBp6sF"
      },
      "outputs": [],
      "source": []
    },
    {
      "cell_type": "code",
      "execution_count": null,
      "metadata": {
        "id": "9fx0sAJXp6sF"
      },
      "outputs": [],
      "source": [
        "a = np.array([1,2,3])\n",
        "print(a)\n",
        "a.shape"
      ]
    },
    {
      "cell_type": "code",
      "execution_count": null,
      "metadata": {
        "id": "_C4_-7MOp6sF"
      },
      "outputs": [],
      "source": [
        "aux2 = a[1:].copy()\n",
        "aux2"
      ]
    },
    {
      "cell_type": "code",
      "execution_count": null,
      "metadata": {
        "id": "EhRuQfUGp6sG"
      },
      "outputs": [],
      "source": [
        "a.T"
      ]
    },
    {
      "cell_type": "code",
      "execution_count": null,
      "metadata": {
        "id": "YGaZL5Svp6sG"
      },
      "outputs": [],
      "source": [
        "b = np.array([[1,2,3]])\n",
        "print(b)\n",
        "b.shape"
      ]
    },
    {
      "cell_type": "code",
      "execution_count": null,
      "metadata": {
        "id": "BYxswo6Rp6sH"
      },
      "outputs": [],
      "source": [
        "b.T"
      ]
    },
    {
      "cell_type": "code",
      "execution_count": null,
      "metadata": {
        "id": "RvZV_DOgp6sH"
      },
      "outputs": [],
      "source": [
        "b.T.shape"
      ]
    },
    {
      "cell_type": "code",
      "execution_count": null,
      "metadata": {
        "id": "fEgY9H7sp6sI"
      },
      "outputs": [],
      "source": [
        "c = np.array([[1],[2],[3]])\n",
        "print(c)\n",
        "c.shape"
      ]
    },
    {
      "cell_type": "code",
      "execution_count": null,
      "metadata": {
        "id": "DJvFrdc9p6sI"
      },
      "outputs": [],
      "source": [
        "print(c.reshape(1,-1))"
      ]
    },
    {
      "cell_type": "code",
      "execution_count": null,
      "metadata": {
        "id": "pq0XWbJap6sI"
      },
      "outputs": [],
      "source": [
        "print(c.reshape(-1))"
      ]
    },
    {
      "cell_type": "code",
      "execution_count": null,
      "metadata": {
        "id": "weUxgJmbp6sJ"
      },
      "outputs": [],
      "source": []
    },
    {
      "cell_type": "code",
      "execution_count": null,
      "metadata": {
        "id": "QOFomAHmp6sJ"
      },
      "outputs": [],
      "source": [
        "x"
      ]
    },
    {
      "cell_type": "code",
      "execution_count": null,
      "metadata": {
        "id": "8BKzUg-Sp6sJ"
      },
      "outputs": [],
      "source": [
        "x[0]"
      ]
    },
    {
      "cell_type": "code",
      "execution_count": null,
      "metadata": {
        "id": "0Z_Rg59wp6sK"
      },
      "outputs": [],
      "source": [
        "x[0,:]"
      ]
    },
    {
      "cell_type": "code",
      "execution_count": null,
      "metadata": {
        "id": "X7xwWVeWp6sK"
      },
      "outputs": [],
      "source": [
        "x[:,0]"
      ]
    },
    {
      "cell_type": "code",
      "execution_count": null,
      "metadata": {
        "id": "ry21amWBp6sK"
      },
      "outputs": [],
      "source": [
        "x[:,[1,2,0,0,0,2]]"
      ]
    },
    {
      "cell_type": "code",
      "execution_count": null,
      "metadata": {
        "id": "vAK3V6g_p6sL"
      },
      "outputs": [],
      "source": [
        "x[[1,0,1],:]"
      ]
    },
    {
      "cell_type": "code",
      "execution_count": null,
      "metadata": {
        "id": "hf50Fqg5p6sL"
      },
      "outputs": [],
      "source": [
        "x[:,0]"
      ]
    },
    {
      "cell_type": "code",
      "execution_count": null,
      "metadata": {
        "id": "K9s7IDOGp6sM"
      },
      "outputs": [],
      "source": [
        "x[:,[0]]"
      ]
    },
    {
      "cell_type": "code",
      "execution_count": null,
      "metadata": {
        "id": "Qxj4hj9Np6sM"
      },
      "outputs": [],
      "source": []
    },
    {
      "cell_type": "code",
      "execution_count": null,
      "metadata": {
        "id": "eyo2u3njp6sM"
      },
      "outputs": [],
      "source": [
        "b = np.array([0,1,2])\n",
        "b"
      ]
    },
    {
      "cell_type": "code",
      "execution_count": null,
      "metadata": {
        "id": "6k9gmK6yp6sN"
      },
      "outputs": [],
      "source": [
        "A = np.array([[0,1,2],[3,4,5]])\n",
        "A"
      ]
    },
    {
      "cell_type": "code",
      "execution_count": null,
      "metadata": {
        "id": "s6e6VD_Lp6sN"
      },
      "outputs": [],
      "source": [
        "A @ b #no.dot()"
      ]
    },
    {
      "cell_type": "code",
      "execution_count": null,
      "metadata": {
        "id": "nebD2sFop6sO"
      },
      "outputs": [],
      "source": [
        "c = np.array([10,20])"
      ]
    },
    {
      "cell_type": "code",
      "execution_count": null,
      "metadata": {
        "id": "AKYJvIt5p6sO"
      },
      "outputs": [],
      "source": [
        "c @ A"
      ]
    },
    {
      "cell_type": "code",
      "execution_count": null,
      "metadata": {
        "id": "rLPMEMv2p6sO"
      },
      "outputs": [],
      "source": []
    },
    {
      "cell_type": "code",
      "execution_count": null,
      "metadata": {
        "id": "xSAOnOr-p6sP"
      },
      "outputs": [],
      "source": [
        "B = 3*A.T\n",
        "B"
      ]
    },
    {
      "cell_type": "code",
      "execution_count": null,
      "metadata": {
        "id": "UTtRE4zEp6sP"
      },
      "outputs": [],
      "source": [
        "A @ B"
      ]
    },
    {
      "cell_type": "code",
      "execution_count": null,
      "metadata": {
        "id": "qje-QNv-p6sP"
      },
      "outputs": [],
      "source": []
    },
    {
      "cell_type": "code",
      "execution_count": null,
      "metadata": {
        "id": "tDjoWdWJp6sQ"
      },
      "outputs": [],
      "source": [
        "import matplotlib.pyplot as plt\n",
        "%matplotlib inline"
      ]
    },
    {
      "cell_type": "code",
      "execution_count": null,
      "metadata": {
        "id": "eIwp-t7Wp6sQ"
      },
      "outputs": [],
      "source": [
        "v = np.ones(4)\n",
        "v"
      ]
    },
    {
      "cell_type": "code",
      "execution_count": null,
      "metadata": {
        "id": "bWay2Vbdp6sQ"
      },
      "outputs": [],
      "source": [
        "v = np.ones((1,4))\n",
        "v"
      ]
    },
    {
      "cell_type": "code",
      "execution_count": null,
      "metadata": {
        "id": "fgYo8ZG3p6sR"
      },
      "outputs": [],
      "source": [
        "v = np.ones((4,1))\n",
        "v"
      ]
    },
    {
      "cell_type": "code",
      "execution_count": null,
      "metadata": {
        "id": "lJQbP0XWp6sR"
      },
      "outputs": [],
      "source": [
        "v = np.zeros((2,3))\n",
        "v"
      ]
    },
    {
      "cell_type": "markdown",
      "metadata": {
        "id": "0k1E2BB9p6sR"
      },
      "source": [
        "#### Broadcasting\n",
        "\n",
        "Veja mais em:\n",
        "- https://numpy.org/doc/stable/user/basics.broadcasting.html\n",
        "- http://scipy-lectures.org/intro/numpy/operations.html#broadcasting"
      ]
    },
    {
      "cell_type": "code",
      "execution_count": null,
      "metadata": {
        "id": "oh2jKWbmp6sS"
      },
      "outputs": [],
      "source": [
        "v = np.arange(4).reshape(1,4)\n",
        "v"
      ]
    },
    {
      "cell_type": "code",
      "execution_count": null,
      "metadata": {
        "id": "LeGH295Qp6sU"
      },
      "outputs": [],
      "source": [
        "v + 10"
      ]
    },
    {
      "cell_type": "code",
      "execution_count": null,
      "metadata": {
        "id": "Awuguhhop6sV"
      },
      "outputs": [],
      "source": [
        "v.T"
      ]
    },
    {
      "cell_type": "code",
      "execution_count": null,
      "metadata": {
        "id": "c5r-LN2jp6sV"
      },
      "outputs": [],
      "source": [
        "# por que isso acontece?\n",
        "v + v.T"
      ]
    },
    {
      "cell_type": "code",
      "execution_count": null,
      "metadata": {
        "id": "s7Kd0Ejtp6sV"
      },
      "outputs": [],
      "source": [
        "M = np.arange(8).reshape(2,-1)\n",
        "M"
      ]
    },
    {
      "cell_type": "code",
      "execution_count": null,
      "metadata": {
        "id": "bAx3IHvSp6sW"
      },
      "outputs": [],
      "source": [
        "M + v"
      ]
    },
    {
      "cell_type": "code",
      "execution_count": null,
      "metadata": {
        "id": "BcxJyFo7p6sW"
      },
      "outputs": [],
      "source": [
        "M + v.T"
      ]
    },
    {
      "cell_type": "code",
      "execution_count": null,
      "metadata": {
        "id": "-7MWjPn4p6sW"
      },
      "outputs": [],
      "source": [
        "v = np.arange(4)\n",
        "v"
      ]
    },
    {
      "cell_type": "code",
      "execution_count": null,
      "metadata": {
        "id": "T_dBDZW_p6sX"
      },
      "outputs": [],
      "source": [
        "M + v"
      ]
    },
    {
      "cell_type": "code",
      "execution_count": null,
      "metadata": {
        "id": "phOwfvgVp6sX"
      },
      "outputs": [],
      "source": [
        "v = np.arange(2)\n",
        "v"
      ]
    },
    {
      "cell_type": "code",
      "execution_count": null,
      "metadata": {
        "id": "QGZdBot8p6sY"
      },
      "outputs": [],
      "source": [
        "M + v"
      ]
    },
    {
      "cell_type": "markdown",
      "metadata": {
        "id": "DTD8aX3_p6sY"
      },
      "source": [
        "## Matplotlib"
      ]
    },
    {
      "cell_type": "code",
      "execution_count": null,
      "metadata": {
        "id": "SQqPwyRjp6sY"
      },
      "outputs": [],
      "source": [
        "import matplotlib.pyplot as plt\n",
        "%matplotlib inline"
      ]
    },
    {
      "cell_type": "code",
      "execution_count": null,
      "metadata": {
        "id": "LMRp8xuyp6sY"
      },
      "outputs": [],
      "source": [
        "x = np.linspace(0,1,10)"
      ]
    },
    {
      "cell_type": "code",
      "execution_count": null,
      "metadata": {
        "id": "c4d-RqPDp6sZ"
      },
      "outputs": [],
      "source": [
        "plt.plot(x, x**2, 'b.-', label='quadrado')\n",
        "plt.plot(x, np.sqrt(x), 'r.-', label='raiz quadrada')\n",
        "plt.xlabel('x');\n",
        "plt.ylabel('y');\n",
        "plt.title('Título');\n",
        "plt.legend();\n",
        "plt.show()"
      ]
    },
    {
      "cell_type": "code",
      "execution_count": null,
      "metadata": {
        "id": "exUhllCQp6sZ"
      },
      "outputs": [],
      "source": [
        "image = np.random.randn(200,200)\n",
        "plt.imshow(image, cmap=plt.cm.gray)\n",
        "plt.colorbar()\n",
        "plt.axis('off');"
      ]
    },
    {
      "cell_type": "markdown",
      "metadata": {
        "id": "CqWUVNuMp6sa"
      },
      "source": [
        "#### Mais\n",
        "- NumPy (https://numpy.org/doc/stable/user/quickstart.html#less-basic), por exemplo *Indexing with Boolean Arrays*\n",
        "- Pandas\n",
        "- JupyterLab"
      ]
    },
    {
      "cell_type": "markdown",
      "metadata": {
        "id": "11gfY7oRp6sa"
      },
      "source": [
        "## OpenCV"
      ]
    },
    {
      "cell_type": "code",
      "execution_count": null,
      "metadata": {
        "id": "GUxgzEJ0p6sa"
      },
      "outputs": [],
      "source": [
        "import cv2"
      ]
    },
    {
      "cell_type": "code",
      "execution_count": null,
      "metadata": {
        "id": "99D_tqYgp6sa"
      },
      "outputs": [],
      "source": [
        "img = cv2.imread('Fig0312(a)(kidney).tif',0)"
      ]
    },
    {
      "cell_type": "markdown",
      "metadata": {
        "id": "TGC4OXv0p6sb"
      },
      "source": [
        "Não use ícone `X vermelho` para fechar a janela da imagem, isso irá travar o kernel do Jupyter. Para fechar uma imagem, use aperte alguma tecla (ex: epaço ou enter)."
      ]
    },
    {
      "cell_type": "code",
      "source": [
        "from google.colab.patches import cv2_imshow"
      ],
      "metadata": {
        "id": "AWf_L9gQPsup"
      },
      "execution_count": null,
      "outputs": []
    },
    {
      "cell_type": "code",
      "execution_count": null,
      "metadata": {
        "id": "urHKZUBkp6sb"
      },
      "outputs": [],
      "source": [
        "cv2_imshow(img)\n",
        "#cv2.waitKey(0)\n",
        "#cv2.destroyAllWindows()"
      ]
    },
    {
      "cell_type": "markdown",
      "metadata": {
        "id": "UXttehcap6sc"
      },
      "source": [
        "#### Observação\n",
        "\n",
        "No Google Colab, você defe importar a `cv2_imshow` para poder exibir uma imagem, caso contrário você irá travar o kernel do Colab.\n",
        "\n",
        "use:\n",
        "\n",
        "`from google.colab.patches import cv2_imshow`\n",
        "\n",
        "...\n",
        "\n",
        "`img = cv2.imread(<imagem>,0)`\n",
        "\n",
        "....\n",
        "\n",
        "`cv2_imshow(img) \n",
        "cv2.waitKey(0)\n",
        "cv2.destroyAllWindows()`"
      ]
    },
    {
      "cell_type": "code",
      "execution_count": null,
      "metadata": {
        "id": "pEDFSa0kp6sc"
      },
      "outputs": [],
      "source": [
        "type(img)"
      ]
    },
    {
      "cell_type": "code",
      "execution_count": null,
      "metadata": {
        "id": "Sgl9OahZp6sc"
      },
      "outputs": [],
      "source": [
        "img.shape  #lembrando que retorna (linhas, colunas)"
      ]
    },
    {
      "cell_type": "code",
      "execution_count": null,
      "metadata": {
        "id": "3RHBS9qup6sd"
      },
      "outputs": [],
      "source": [
        "cv2.imwrite('img_after_save.png', img)"
      ]
    },
    {
      "cell_type": "code",
      "execution_count": null,
      "metadata": {
        "id": "ZGrqWr7Pp6sd"
      },
      "outputs": [],
      "source": [
        "B, G, R = cv2.split(img)"
      ]
    },
    {
      "cell_type": "code",
      "execution_count": null,
      "metadata": {
        "id": "V6Hg-dRKp6sd"
      },
      "outputs": [],
      "source": [
        "cv2_imshow(img) \n",
        "cv2.waitKey(0) \n",
        "  \n",
        "cv2_imshow( B) \n",
        "cv2.waitKey(0) \n",
        "  \n",
        "cv2_imshow(G) \n",
        "cv2.waitKey(0) \n",
        "  \n",
        "cv2_imshow(R) \n",
        "cv2.waitKey(0) \n",
        "  \n",
        "#cv2.destroyAllWindows() "
      ]
    },
    {
      "cell_type": "code",
      "execution_count": null,
      "metadata": {
        "id": "qCsctBeSp6se"
      },
      "outputs": [],
      "source": [
        "image1 = cv2.imread('data/t1.jpg',0)  \n",
        "image2 = cv2.imread('data/t2.jpg',0) \n",
        " \n",
        "weightedSum = cv2.addWeighted(image1, 0.5, image2, 0.4, 0) \n",
        "\n",
        "cv2.imshow('Weighted Image', weightedSum) \n",
        "  \n",
        "cv2.waitKey(0)\n",
        "cv2.destroyAllWindows()  \n",
        "\n",
        "print(weightedSum)"
      ]
    },
    {
      "cell_type": "code",
      "execution_count": null,
      "metadata": {
        "id": "_gdVpiNip6se"
      },
      "outputs": [],
      "source": [
        "print(image1.shape)\n",
        "print(image2.shape)\n",
        "\n",
        "lines1, rows1 = image1.shape\n",
        "lines2, rows2 = image2.shape\n",
        "print(image1)"
      ]
    },
    {
      "cell_type": "code",
      "execution_count": null,
      "metadata": {
        "id": "24xekd4Np6se"
      },
      "outputs": [],
      "source": [
        "import numpy as np\n",
        "\n",
        "image_aux = np.zeros([lines1, rows1])\n",
        "image_out = np.zeros([lines1, rows1])\n",
        "print(image_out.shape)\n",
        "for i in range(lines1):\n",
        "    for j in range(rows1):\n",
        "        image_aux[i][j] = 0.5*image1[i][j]+0.4*image2[i][j]\n",
        "\n",
        "#image_aux = 0.5*image1+0.4*image2\n",
        "        \n",
        "image_out = np.array(image_aux, dtype=np.uint8)\n",
        "print(image_out)\n",
        "cv2.imshow('Image Out', image_out) \n",
        "\n",
        "cv2.waitKey(0)\n",
        "cv2.destroyAllWindows()\n"
      ]
    },
    {
      "cell_type": "code",
      "execution_count": null,
      "metadata": {
        "id": "UPXJ7cVQp6sf"
      },
      "outputs": [],
      "source": [
        "image1 = cv2.imread('data/t3.jpg',0)  \n",
        "image2 = cv2.imread('data/t4.jpg',0) \n",
        "   \n",
        "sub = cv2.subtract(image1, image2) \n",
        "  \n",
        "cv2.imshow('Subtracted Image', sub) \n",
        "\n",
        "cv2.waitKey(0)\n",
        "cv2.destroyAllWindows()  "
      ]
    },
    {
      "cell_type": "code",
      "execution_count": null,
      "metadata": {
        "id": "5cyDuce9p6sf"
      },
      "outputs": [],
      "source": [
        "print(image1.shape)\n",
        "print(image2.shape)\n",
        "\n",
        "lines1, rows1 = image1.shape\n",
        "lines2, rows2 = image2.shape\n",
        "print(image1)"
      ]
    },
    {
      "cell_type": "code",
      "execution_count": null,
      "metadata": {
        "id": "-2SCXgn3p6sg"
      },
      "outputs": [],
      "source": [
        "image_aux1 = np.zeros([lines1, rows1])\n",
        "image_out1 = np.zeros([lines1, rows1])\n",
        "\n",
        "print(image_out1.shape)\n",
        "\n",
        "for i in range(lines1):\n",
        "    for j in range(rows1):\n",
        "        if (int(image1[i][j])-int(image2[i][j]) >= 0) and (int(image1[i][j])-int(image2[i][j]) <= 255):\n",
        "            image_aux1[i][j] = int(image1[i][j])-int(image2[i][j])\n",
        "        else:\n",
        "            image_aux1[i][j] = 0\n",
        "        \n",
        "image_out1 = np.array(image_aux1, dtype=np.uint8)\n",
        "print(image_out1)\n",
        "cv2.imshow('Image Out', image_out1) \n",
        "  \n",
        "cv2.waitKey(0)\n",
        "cv2.destroyAllWindows()"
      ]
    },
    {
      "cell_type": "code",
      "execution_count": null,
      "metadata": {
        "id": "bQhERvxgp6sg"
      },
      "outputs": [],
      "source": [
        "imgColored = cv2.imread('data/t1.jpg')\n",
        "gray_img = cv2.cvtColor(imgColored, cv2.COLOR_BGR2GRAY)\n",
        "\n",
        "cv2.imshow('Image in', imgColored) \n",
        "cv2.waitKey(0)\n",
        "\n",
        "cv2.imshow('Image Out', gray_img)  \n",
        "cv2.waitKey(0)\n",
        "\n",
        "cv2.destroyAllWindows()"
      ]
    },
    {
      "cell_type": "code",
      "execution_count": null,
      "metadata": {
        "id": "DxKCBBkDp6sg"
      },
      "outputs": [],
      "source": [
        "image1 = cv2.imread('data/t5.png',0)  \n",
        "image2 = cv2.imread('data/t6.png',0) \n",
        "\n",
        "dest_and = cv2.bitwise_and(image1, image2, mask = None)\n",
        "\n",
        "cv2.imshow('AND Image', dest_and) \n",
        "\n",
        "cv2.waitKey(0)  \n",
        "cv2.destroyAllWindows()\n",
        "\n",
        "print(image1.shape)\n",
        "print(image2.shape)"
      ]
    },
    {
      "cell_type": "code",
      "execution_count": null,
      "metadata": {
        "id": "or7ynNPAp6sh"
      },
      "outputs": [],
      "source": [
        "lines1, rows1 = image1.shape\n",
        "lines2, rows2 = image2.shape\n",
        "\n",
        "image_aux = np.zeros([lines1, rows1])\n",
        "image_out = np.zeros([lines1, rows1])\n",
        "\n",
        "print(image_out.shape)\n",
        "for i in range(lines1):\n",
        "    for j in range(rows1):\n",
        "        image_aux[i][j] = image1[i][j] & image2[i][j]  # tente com OR: |, XOR: ^, NOT: ~\n",
        "\n",
        "#image_aux = image1 & image2\n",
        "\n",
        "image_out = np.array(image_aux, dtype=np.uint8)\n",
        "print(image_out)\n",
        "cv2.imshow('AND Image', image_out)\n",
        "\n",
        "cv2.waitKey(0)  \n",
        "cv2.destroyAllWindows()"
      ]
    },
    {
      "cell_type": "code",
      "execution_count": null,
      "metadata": {
        "id": "_K6Nb8Cmp6sh"
      },
      "outputs": [],
      "source": []
    }
  ],
  "metadata": {
    "kernelspec": {
      "display_name": "Python 3",
      "language": "python",
      "name": "python3"
    },
    "language_info": {
      "codemirror_mode": {
        "name": "ipython",
        "version": 3
      },
      "file_extension": ".py",
      "mimetype": "text/x-python",
      "name": "python",
      "nbconvert_exporter": "python",
      "pygments_lexer": "ipython3",
      "version": "3.8.5"
    },
    "colab": {
      "provenance": [],
      "collapsed_sections": [
        "pZ1wPw3Kp6rv",
        "0k1E2BB9p6sR",
        "DTD8aX3_p6sY",
        "CqWUVNuMp6sa",
        "11gfY7oRp6sa",
        "UXttehcap6sc"
      ],
      "include_colab_link": true
    }
  },
  "nbformat": 4,
  "nbformat_minor": 0
}