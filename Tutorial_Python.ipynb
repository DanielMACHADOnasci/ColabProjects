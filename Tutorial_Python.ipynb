{
  "nbformat": 4,
  "nbformat_minor": 0,
  "metadata": {
    "kernelspec": {
      "display_name": "Python 3",
      "language": "python",
      "name": "python3"
    },
    "language_info": {
      "codemirror_mode": {
        "name": "ipython",
        "version": 3
      },
      "file_extension": ".py",
      "mimetype": "text/x-python",
      "name": "python",
      "nbconvert_exporter": "python",
      "pygments_lexer": "ipython3",
      "version": "3.8.5"
    },
    "colab": {
      "name": "Tutorial_Python.ipynb",
      "provenance": [],
      "include_colab_link": true
    },
    "accelerator": "GPU"
  },
  "cells": [
    {
      "cell_type": "markdown",
      "metadata": {
        "id": "view-in-github",
        "colab_type": "text"
      },
      "source": [
        "<a href=\"https://colab.research.google.com/github/VielF/ColabProjects/blob/main/Tutorial_Python.ipynb\" target=\"_parent\"><img src=\"https://colab.research.google.com/assets/colab-badge.svg\" alt=\"Open In Colab\"/></a>"
      ]
    },
    {
      "cell_type": "markdown",
      "metadata": {
        "id": "WTUXxhKwVOwP"
      },
      "source": [
        "Universidade do Vale do Itajaí<br>\n",
        "Escola do Mar, Ciência e Tecnologia<br>\n",
        "\n",
        "# Introdução a Jupyter, Python, NumPy e Scipy\n",
        "\n",
        "## Recursos úteis\n",
        "\n",
        "### Ambientes\n",
        "\n",
        "- Anaconda (instalação local): https://www.anaconda.com/products/individual#Downloads\n",
        "- Google Colab (nuvem): https://colab.research.google.com/\n",
        "- OpenCV: https://pypi.org/project/opencv-python/\n",
        "- Gimp: https://www.gimp.org\n",
        "\n",
        "### Tutoriais de Python\n",
        "\n",
        "- https://docs.python.org/3/tutorial/ (oficial)\n",
        "- https://www.kaggle.com/learn/python\n",
        "- https://www.tutorialspoint.com/python\n",
        "- https://www.pythonforbeginners.com/python-tutorial\n",
        "- https://colab.research.google.com/drive/1qH2RUurym6O-OGiHBgJp1bmMS8UNEjhx\n",
        "- https://www.youtube.com/results?search_query=python\n",
        "\n",
        "### Cursos de Python\n",
        "\n",
        "- https://www.coursera.org/learn/ciencia-computacao-python-conceitos\n",
        "- https://www.datacamp.com/courses/intro-to-python-for-data-science (pago)\n",
        "- https://www.codecademy.com/learn/learn-python-3 (pago?)\n",
        "- https://opencv.org/courses/#price\n",
        "\n",
        "### Tutoriais de Jupyter\n",
        "\n",
        "- https://medium.com/codingthesmartway-com-blog/getting-started-with-jupyter-notebook-for-python-4e7082bd5d46\n",
        "- https://www.dataquest.io/blog/jupyter-notebook-tutorial/\n",
        "- https://realpython.com/jupyter-notebook-introduction/\n",
        "- https://www.youtube.com/results?search_query=jupyter\n",
        "\n",
        "### Tutoriais de NumPy\n",
        "\n",
        "- https://cs231n.github.io/python-numpy-tutorial/\n",
        "- https://numpy.org/doc/stable/user/quickstart.html\n",
        "- http://scipy-lectures.org/intro/numpy/index.html\n",
        "\n",
        "### Tutoriais da OpenCV\n",
        "\n",
        "- https://docs.opencv.org/master/d9/df8/tutorial_root.html\n",
        "- https://www.geeksforgeeks.org/opencv-python-tutorial/\n",
        "\n",
        "### Outros tutoriais\n",
        "\n",
        "- Matplotlib: https://matplotlib.org/tutorials/introductory/pyplot.html\n",
        "- Pandas: https://pandas.pydata.org/pandas-docs/stable/user_guide/10min.html\n"
      ]
    },
    {
      "cell_type": "code",
      "metadata": {
        "colab": {
          "base_uri": "https://localhost:8080/"
        },
        "id": "E3kaM71iWub1",
        "outputId": "782ece57-2138-471f-e263-5e49c8e41e2c"
      },
      "source": [
        "print(\"Olá Mundo\")"
      ],
      "execution_count": null,
      "outputs": [
        {
          "output_type": "stream",
          "name": "stdout",
          "text": [
            "Olá Mundo\n"
          ]
        }
      ]
    },
    {
      "cell_type": "markdown",
      "metadata": {
        "id": "Ws3xRG-uVOwW"
      },
      "source": [
        "## Markdown\n",
        "\n",
        "Podemos escrever em *itálico* ou **negrito** ou `largura fixa`, usar listas de bullets\n",
        "- item 1\n",
        "- item 2\n",
        "- item 3\n",
        "\n",
        "ou numeradas\n",
        "1. item 1\n",
        "1. item 2\n",
        "1. item 3\n",
        "\n",
        "e até mesmo usar equações em $\\LaTeX$, que podem ser inline ($f(x) = c_0 + c_1 x + c_2 x^2$) ou displayed:\n",
        "\n",
        "$$\n",
        "E = mc^2\n",
        "$$"
      ]
    },
    {
      "cell_type": "markdown",
      "metadata": {
        "id": "4NecGQCiVOwY"
      },
      "source": [
        "Jupyter command pallete: `ctrl-shift-p`"
      ]
    },
    {
      "cell_type": "markdown",
      "metadata": {
        "id": "IyLGPWUNVOwZ"
      },
      "source": [
        "## Python"
      ]
    },
    {
      "cell_type": "code",
      "metadata": {
        "colab": {
          "base_uri": "https://localhost:8080/"
        },
        "id": "PUA3fLPMVOwa",
        "outputId": "d73690f1-0d0e-4f2d-a635-8bd561da92ff"
      },
      "source": [
        "2 + 2"
      ],
      "execution_count": null,
      "outputs": [
        {
          "output_type": "execute_result",
          "data": {
            "text/plain": [
              "4"
            ]
          },
          "metadata": {},
          "execution_count": 2
        }
      ]
    },
    {
      "cell_type": "code",
      "source": [
        "'''\n",
        "Olá\n",
        "Esse \n",
        "É o meu primeiro código\n",
        "'''\n",
        "x = 'carro' # criando variável\n",
        "y = ' moto'\n",
        "z = x + y"
      ],
      "metadata": {
        "id": "nrTiuN-F72Lw"
      },
      "execution_count": null,
      "outputs": []
    },
    {
      "cell_type": "code",
      "source": [
        "print(z)"
      ],
      "metadata": {
        "colab": {
          "base_uri": "https://localhost:8080/"
        },
        "id": "T1Vt_AVf8LGE",
        "outputId": "514d98bd-eba3-47ad-ce05-6254a5d8e062"
      },
      "execution_count": null,
      "outputs": [
        {
          "output_type": "stream",
          "name": "stdout",
          "text": [
            "carro moto\n"
          ]
        }
      ]
    },
    {
      "cell_type": "code",
      "metadata": {
        "id": "LZ-i5BjWVOwd"
      },
      "source": [
        "# comentário\n",
        "'''\n",
        "dsadasdasasd\n",
        "'''\n",
        "\n",
        "# Sempre comente código\n",
        "\n",
        "\n",
        "'''\n",
        "Sempre \n",
        "comente\n",
        "código\n",
        "'''\n",
        "\n",
        "\n",
        "a = 0."
      ],
      "execution_count": null,
      "outputs": []
    },
    {
      "cell_type": "code",
      "metadata": {
        "colab": {
          "base_uri": "https://localhost:8080/"
        },
        "id": "bVoPPMDTVOwf",
        "outputId": "fa903377-623f-4d67-9ba5-48ffa0bc0f43"
      },
      "source": [
        "a"
      ],
      "execution_count": null,
      "outputs": [
        {
          "output_type": "execute_result",
          "data": {
            "text/plain": [
              "0.0"
            ]
          },
          "metadata": {},
          "execution_count": 17
        }
      ]
    },
    {
      "cell_type": "code",
      "source": [
        "print(type(x))\n",
        "print(type(a))"
      ],
      "metadata": {
        "colab": {
          "base_uri": "https://localhost:8080/"
        },
        "id": "QSOKDKRt9K3U",
        "outputId": "6ff592ae-fb96-48fc-c1b1-efa7f30ca26d"
      },
      "execution_count": null,
      "outputs": [
        {
          "output_type": "stream",
          "name": "stdout",
          "text": [
            "<class 'str'>\n",
            "<class 'float'>\n"
          ]
        }
      ]
    },
    {
      "cell_type": "code",
      "source": [
        "if a == 0.0 and y == ' moto':\n",
        "  x = 1\n",
        "else:\n",
        "  x = 5"
      ],
      "metadata": {
        "id": "xjgBxXBa-NIu"
      },
      "execution_count": null,
      "outputs": []
    },
    {
      "cell_type": "code",
      "source": [
        "print(x)"
      ],
      "metadata": {
        "colab": {
          "base_uri": "https://localhost:8080/"
        },
        "id": "1gwkykPG--Pa",
        "outputId": "508fd103-77d6-4d17-9b51-8dafe5d7ab7c"
      },
      "execution_count": null,
      "outputs": [
        {
          "output_type": "stream",
          "name": "stdout",
          "text": [
            "1\n"
          ]
        }
      ]
    },
    {
      "cell_type": "code",
      "metadata": {
        "colab": {
          "base_uri": "https://localhost:8080/"
        },
        "id": "Kl6N3Rr1VOwi",
        "outputId": "6b29699c-7981-4791-dbc1-508c1619e9be"
      },
      "source": [
        "a == 0.0"
      ],
      "execution_count": null,
      "outputs": [
        {
          "output_type": "execute_result",
          "data": {
            "text/plain": [
              "True"
            ]
          },
          "metadata": {},
          "execution_count": 26
        }
      ]
    },
    {
      "cell_type": "code",
      "metadata": {
        "colab": {
          "base_uri": "https://localhost:8080/"
        },
        "id": "wG8KQI7fVOwj",
        "outputId": "3d074a04-4d62-4573-9235-b3a636c94fa3"
      },
      "source": [
        "print(type(a))"
      ],
      "execution_count": null,
      "outputs": [
        {
          "output_type": "stream",
          "text": [
            "<class 'float'>\n"
          ],
          "name": "stdout"
        }
      ]
    },
    {
      "cell_type": "code",
      "metadata": {
        "id": "VzoF2togVOwn"
      },
      "source": [
        "b = 0.0"
      ],
      "execution_count": null,
      "outputs": []
    },
    {
      "cell_type": "code",
      "metadata": {
        "id": "nG7-Jr1HVOwp",
        "outputId": "6831b0dc-a093-468b-8899-9b46d7c5016a"
      },
      "source": [
        "b"
      ],
      "execution_count": null,
      "outputs": [
        {
          "output_type": "execute_result",
          "data": {
            "text/plain": [
              "0.0"
            ]
          },
          "metadata": {
            "tags": []
          },
          "execution_count": 7
        }
      ]
    },
    {
      "cell_type": "code",
      "metadata": {
        "colab": {
          "base_uri": "https://localhost:8080/"
        },
        "id": "T1OmwKdeVOwq",
        "outputId": "ec02c813-4080-4fe2-c9d6-40fce823075a"
      },
      "source": [
        "type(b)"
      ],
      "execution_count": null,
      "outputs": [
        {
          "output_type": "execute_result",
          "data": {
            "text/plain": [
              "float"
            ]
          },
          "metadata": {
            "tags": []
          },
          "execution_count": 10
        }
      ]
    },
    {
      "cell_type": "code",
      "metadata": {
        "colab": {
          "base_uri": "https://localhost:8080/"
        },
        "id": "qklpQM95VOwr",
        "outputId": "2464280b-7c19-45ec-995a-197f1df07c35"
      },
      "source": [
        "b == 0"
      ],
      "execution_count": null,
      "outputs": [
        {
          "output_type": "execute_result",
          "data": {
            "text/plain": [
              "True"
            ]
          },
          "metadata": {
            "tags": []
          },
          "execution_count": 11
        }
      ]
    },
    {
      "cell_type": "code",
      "metadata": {
        "colab": {
          "base_uri": "https://localhost:8080/"
        },
        "id": "lj6DAxQFVOws",
        "outputId": "e2acf515-53b5-4523-c4e8-9a16b358b129"
      },
      "source": [
        "a = 2\n",
        "b = 3.5\n",
        "c = a+b\n",
        "#2 + 3.5\n",
        "print(c)"
      ],
      "execution_count": null,
      "outputs": [
        {
          "output_type": "stream",
          "name": "stdout",
          "text": [
            "5.5\n"
          ]
        }
      ]
    },
    {
      "cell_type": "code",
      "metadata": {
        "colab": {
          "base_uri": "https://localhost:8080/"
        },
        "id": "K6Rdp6fLVOw1",
        "outputId": "ca55f6d4-2ef5-4b11-86fc-6111891d85f1"
      },
      "source": [
        "3/2"
      ],
      "execution_count": null,
      "outputs": [
        {
          "output_type": "execute_result",
          "data": {
            "text/plain": [
              "1.5"
            ]
          },
          "metadata": {},
          "execution_count": 29
        }
      ]
    },
    {
      "cell_type": "code",
      "metadata": {
        "colab": {
          "base_uri": "https://localhost:8080/"
        },
        "id": "6P38LQ3xVOw3",
        "outputId": "70c27f2e-2dc6-45a6-fbc3-56fac5c54aa6"
      },
      "source": [
        "d = 2\n",
        "type(d)"
      ],
      "execution_count": null,
      "outputs": [
        {
          "output_type": "execute_result",
          "data": {
            "text/plain": [
              "int"
            ]
          },
          "metadata": {},
          "execution_count": 30
        }
      ]
    },
    {
      "cell_type": "code",
      "metadata": {
        "colab": {
          "base_uri": "https://localhost:8080/"
        },
        "id": "0h0GINHpf923",
        "outputId": "094f69a9-01f6-49ff-c0ad-b9aa97ae8adb"
      },
      "source": [
        "float(d)"
      ],
      "execution_count": null,
      "outputs": [
        {
          "output_type": "execute_result",
          "data": {
            "text/plain": [
              "2.0"
            ]
          },
          "metadata": {},
          "execution_count": 31
        }
      ]
    },
    {
      "cell_type": "code",
      "metadata": {
        "colab": {
          "base_uri": "https://localhost:8080/"
        },
        "id": "izBIC4TSVOw4",
        "outputId": "3498a7a7-4773-458e-fd2c-08d48385501e"
      },
      "source": [
        "int(1.9)"
      ],
      "execution_count": null,
      "outputs": [
        {
          "output_type": "execute_result",
          "data": {
            "text/plain": [
              "1"
            ]
          },
          "metadata": {},
          "execution_count": 33
        }
      ]
    },
    {
      "cell_type": "code",
      "metadata": {
        "colab": {
          "base_uri": "https://localhost:8080/"
        },
        "id": "LpBSMPtYVOw5",
        "outputId": "6bfaf461-5253-4912-9ed6-7d1ea4e9549b"
      },
      "source": [
        "a\n",
        "b"
      ],
      "execution_count": null,
      "outputs": [
        {
          "output_type": "execute_result",
          "data": {
            "text/plain": [
              "3.5"
            ]
          },
          "metadata": {},
          "execution_count": 34
        }
      ]
    },
    {
      "cell_type": "code",
      "metadata": {
        "colab": {
          "base_uri": "https://localhost:8080/"
        },
        "id": "LruoGlr7VOxD",
        "outputId": "8dfd4615-fec0-4bf8-e6be-3b58ab2a96a7"
      },
      "source": [
        "print(a)\n",
        "print(b)"
      ],
      "execution_count": null,
      "outputs": [
        {
          "output_type": "stream",
          "name": "stdout",
          "text": [
            "2\n",
            "3.5\n"
          ]
        }
      ]
    },
    {
      "cell_type": "code",
      "metadata": {
        "scrolled": true,
        "colab": {
          "base_uri": "https://localhost:8080/"
        },
        "id": "ygB-rxGtVOxF",
        "outputId": "53c821fd-ade9-47be-af44-04ba1b813f28"
      },
      "source": [
        "t = True\n",
        "f = False\n",
        "print(t or f) #não usa || e &&\n",
        "print(t and f)"
      ],
      "execution_count": null,
      "outputs": [
        {
          "output_type": "stream",
          "name": "stdout",
          "text": [
            "True\n",
            "False\n"
          ]
        }
      ]
    },
    {
      "cell_type": "code",
      "source": [
        "type(t)"
      ],
      "metadata": {
        "colab": {
          "base_uri": "https://localhost:8080/"
        },
        "id": "hB13yJH4BgiG",
        "outputId": "6f4e84fe-098a-41e7-9c93-e6665e7f731f"
      },
      "execution_count": null,
      "outputs": [
        {
          "output_type": "execute_result",
          "data": {
            "text/plain": [
              "bool"
            ]
          },
          "metadata": {},
          "execution_count": 38
        }
      ]
    },
    {
      "cell_type": "code",
      "metadata": {
        "colab": {
          "base_uri": "https://localhost:8080/"
        },
        "id": "n6EAscUIVOxO",
        "outputId": "4a39c828-498e-4208-e923-7fff3f0092e0"
      },
      "source": [
        "a > -1 and b > 2"
      ],
      "execution_count": null,
      "outputs": [
        {
          "output_type": "execute_result",
          "data": {
            "text/plain": [
              "True"
            ]
          },
          "metadata": {},
          "execution_count": 40
        }
      ]
    },
    {
      "cell_type": "code",
      "metadata": {
        "colab": {
          "base_uri": "https://localhost:8080/",
          "height": 35
        },
        "id": "-uCb05KbVOxQ",
        "outputId": "ae997377-6de8-4127-ffc8-54573b3f5628"
      },
      "source": [
        "s = 'Hello world'\n",
        "s"
      ],
      "execution_count": null,
      "outputs": [
        {
          "output_type": "execute_result",
          "data": {
            "text/plain": [
              "'Hello world'"
            ],
            "application/vnd.google.colaboratory.intrinsic+json": {
              "type": "string"
            }
          },
          "metadata": {},
          "execution_count": 41
        }
      ]
    },
    {
      "cell_type": "code",
      "metadata": {
        "colab": {
          "base_uri": "https://localhost:8080/"
        },
        "id": "uQZKljYuVOxS",
        "outputId": "22aae0ed-a1cb-4ba6-832d-5890b47f857f"
      },
      "source": [
        "print(s)"
      ],
      "execution_count": null,
      "outputs": [
        {
          "output_type": "stream",
          "name": "stdout",
          "text": [
            "Hello world\n"
          ]
        }
      ]
    },
    {
      "cell_type": "code",
      "metadata": {
        "colab": {
          "base_uri": "https://localhost:8080/"
        },
        "id": "iTtOq_atVOxT",
        "outputId": "f324a0a4-b2d0-4b20-d787-ff9ff6657241"
      },
      "source": [
        "type(s)"
      ],
      "execution_count": null,
      "outputs": [
        {
          "output_type": "execute_result",
          "data": {
            "text/plain": [
              "str"
            ]
          },
          "metadata": {},
          "execution_count": 43
        }
      ]
    },
    {
      "cell_type": "code",
      "metadata": {
        "colab": {
          "base_uri": "https://localhost:8080/",
          "height": 35
        },
        "id": "fBypKgTUVOxV",
        "outputId": "fea7bbb6-dc92-42d1-ddd0-2d4749579772"
      },
      "source": [
        "s = \"Hello world\"\n",
        "s"
      ],
      "execution_count": null,
      "outputs": [
        {
          "output_type": "execute_result",
          "data": {
            "text/plain": [
              "'Hello world'"
            ],
            "application/vnd.google.colaboratory.intrinsic+json": {
              "type": "string"
            }
          },
          "metadata": {},
          "execution_count": 61
        }
      ]
    },
    {
      "cell_type": "code",
      "metadata": {
        "colab": {
          "base_uri": "https://localhost:8080/"
        },
        "id": "mlPYPwlUVOxc",
        "outputId": "d85a81f3-8fc7-452f-ff92-8c2b8b44e497"
      },
      "source": [
        "s = \"it's interesting\"\n",
        "print(s)"
      ],
      "execution_count": null,
      "outputs": [
        {
          "output_type": "stream",
          "name": "stdout",
          "text": [
            "it's interesting\n"
          ]
        }
      ]
    },
    {
      "cell_type": "code",
      "metadata": {
        "colab": {
          "base_uri": "https://localhost:8080/",
          "height": 35
        },
        "id": "olsUqWmzVOxd",
        "outputId": "67cdb957-2f53-446d-aea0-3469de4252f0"
      },
      "source": [
        "s.upper()"
      ],
      "execution_count": null,
      "outputs": [
        {
          "output_type": "execute_result",
          "data": {
            "text/plain": [
              "\"IT'S INTERESTING\""
            ],
            "application/vnd.google.colaboratory.intrinsic+json": {
              "type": "string"
            }
          },
          "metadata": {},
          "execution_count": 47
        }
      ]
    },
    {
      "cell_type": "code",
      "source": [
        "s = s[0].upper() + s[1:]\n",
        "print(s)"
      ],
      "metadata": {
        "colab": {
          "base_uri": "https://localhost:8080/"
        },
        "id": "2L0ufBSrDEMR",
        "outputId": "ba66456a-4133-4bec-8254-983ecedc4c34"
      },
      "execution_count": null,
      "outputs": [
        {
          "output_type": "stream",
          "name": "stdout",
          "text": [
            "It's interesting\n"
          ]
        }
      ]
    },
    {
      "cell_type": "code",
      "metadata": {
        "colab": {
          "base_uri": "https://localhost:8080/",
          "height": 53
        },
        "id": "XXu18LDBVOxf",
        "outputId": "a0cae09e-ec2d-41d5-ae58-cdd0df79ddc9"
      },
      "source": [
        "str1 = 'this'\n",
        "str2 = ' is '\n",
        "str3 = 'interesting'\n",
        "str_res = str1 + str2 + str3\n",
        "print(str_res)\n",
        "'this' + ' is ' + 'interesting'"
      ],
      "execution_count": null,
      "outputs": [
        {
          "output_type": "stream",
          "name": "stdout",
          "text": [
            "this is interesting\n"
          ]
        },
        {
          "output_type": "execute_result",
          "data": {
            "text/plain": [
              "'this is interesting'"
            ],
            "application/vnd.google.colaboratory.intrinsic+json": {
              "type": "string"
            }
          },
          "metadata": {},
          "execution_count": 66
        }
      ]
    },
    {
      "cell_type": "code",
      "metadata": {
        "id": "qHHWKZhMVOxg",
        "colab": {
          "base_uri": "https://localhost:8080/",
          "height": 35
        },
        "outputId": "5d21b6d5-ecec-47dc-a37f-50c6217708cc"
      },
      "source": [
        "'42'"
      ],
      "execution_count": null,
      "outputs": [
        {
          "output_type": "execute_result",
          "data": {
            "text/plain": [
              "'42'"
            ],
            "application/vnd.google.colaboratory.intrinsic+json": {
              "type": "string"
            }
          },
          "metadata": {},
          "execution_count": 67
        }
      ]
    },
    {
      "cell_type": "code",
      "metadata": {
        "colab": {
          "base_uri": "https://localhost:8080/"
        },
        "id": "To4JAN8FVOxh",
        "outputId": "393092bd-3fbd-4c5f-dbcf-f71805e36138"
      },
      "source": [
        "novo_valor = int('42')\n",
        "print(\"Valor: \", novo_valor, \" - Tipo: \", type(novo_valor))"
      ],
      "execution_count": null,
      "outputs": [
        {
          "output_type": "stream",
          "name": "stdout",
          "text": [
            "Valor:  42  - Tipo:  <class 'int'>\n"
          ]
        }
      ]
    },
    {
      "cell_type": "code",
      "metadata": {
        "colab": {
          "base_uri": "https://localhost:8080/",
          "height": 35
        },
        "id": "ToN0W5qfVOxi",
        "outputId": "45435822-1b54-4119-e8ac-01d4e772f27a"
      },
      "source": [
        "str(42.0)"
      ],
      "execution_count": null,
      "outputs": [
        {
          "output_type": "execute_result",
          "data": {
            "text/plain": [
              "'42.0'"
            ],
            "application/vnd.google.colaboratory.intrinsic+json": {
              "type": "string"
            }
          },
          "metadata": {},
          "execution_count": 71
        }
      ]
    },
    {
      "cell_type": "code",
      "source": [
        "a = str(42.0)\n",
        "type(a)"
      ],
      "metadata": {
        "colab": {
          "base_uri": "https://localhost:8080/"
        },
        "id": "N61S6swVFr6k",
        "outputId": "53cf923e-0e10-4f18-f13d-c6f407864cb3"
      },
      "execution_count": null,
      "outputs": [
        {
          "output_type": "execute_result",
          "data": {
            "text/plain": [
              "str"
            ]
          },
          "metadata": {},
          "execution_count": 73
        }
      ]
    },
    {
      "cell_type": "code",
      "metadata": {
        "colab": {
          "base_uri": "https://localhost:8080/"
        },
        "id": "IGk95ifTVOxn",
        "outputId": "f4cff995-ffa1-4ff3-df9b-7b5363930de3"
      },
      "source": [
        "c = 1 + 1j\n",
        "c"
      ],
      "execution_count": null,
      "outputs": [
        {
          "output_type": "execute_result",
          "data": {
            "text/plain": [
              "(1+1j)"
            ]
          },
          "metadata": {
            "tags": []
          },
          "execution_count": 30
        }
      ]
    },
    {
      "cell_type": "code",
      "metadata": {
        "colab": {
          "base_uri": "https://localhost:8080/"
        },
        "id": "zAFYyrLzVOxq",
        "outputId": "ec769d60-584c-4cb1-8f83-4ea9889d1742"
      },
      "source": [
        "c.conjugate()"
      ],
      "execution_count": null,
      "outputs": [
        {
          "output_type": "execute_result",
          "data": {
            "text/plain": [
              "(1-1j)"
            ]
          },
          "metadata": {
            "tags": []
          },
          "execution_count": 31
        }
      ]
    },
    {
      "cell_type": "code",
      "metadata": {
        "id": "iycQ8MwiVOxr"
      },
      "source": [
        "def quadrado(x):\n",
        "    '''\n",
        "    Retorna x elevado ao quadrado\n",
        "    '''\n",
        "    y = x**2\n",
        "    return y"
      ],
      "execution_count": null,
      "outputs": []
    },
    {
      "cell_type": "code",
      "metadata": {
        "colab": {
          "base_uri": "https://localhost:8080/"
        },
        "id": "Yhrzt6LcVOxs",
        "outputId": "112a338d-3006-40a0-f265-1d2c3e310228"
      },
      "source": [
        "quadrado(3)"
      ],
      "execution_count": null,
      "outputs": [
        {
          "output_type": "execute_result",
          "data": {
            "text/plain": [
              "9"
            ]
          },
          "metadata": {},
          "execution_count": 79
        }
      ]
    },
    {
      "cell_type": "code",
      "metadata": {
        "colab": {
          "base_uri": "https://localhost:8080/"
        },
        "id": "oPpP9oegVOxt",
        "outputId": "7830eed0-1e90-4a9e-fe37-194aeee7e1a1"
      },
      "source": [
        "type(quadrado)"
      ],
      "execution_count": null,
      "outputs": [
        {
          "output_type": "execute_result",
          "data": {
            "text/plain": [
              "function"
            ]
          },
          "metadata": {
            "tags": []
          },
          "execution_count": 37
        }
      ]
    },
    {
      "cell_type": "code",
      "metadata": {
        "id": "Sm0hO_pHVOxt"
      },
      "source": [
        "def quadrado(x, arred=False):\n",
        "    '''\n",
        "    Retorna x elevado ao quadrado,\n",
        "    opcionalmente arredondando para um inteiro\n",
        "    arred é bool\n",
        "    '''\n",
        "    if arred:\n",
        "        y = x**2\n",
        "        y = int(round(y))\n",
        "    else:\n",
        "        y = x**2        \n",
        "    return y"
      ],
      "execution_count": null,
      "outputs": []
    },
    {
      "cell_type": "code",
      "metadata": {
        "colab": {
          "base_uri": "https://localhost:8080/"
        },
        "id": "wpAh5yAaVOxv",
        "outputId": "7694f568-6383-4f9b-80f7-b11263fd98e5"
      },
      "source": [
        "quadrado(x = 1.5, arred = True)"
      ],
      "execution_count": null,
      "outputs": [
        {
          "output_type": "execute_result",
          "data": {
            "text/plain": [
              "2"
            ]
          },
          "metadata": {},
          "execution_count": 87
        }
      ]
    },
    {
      "cell_type": "code",
      "metadata": {
        "colab": {
          "base_uri": "https://localhost:8080/"
        },
        "id": "zc9okOQRVOxw",
        "outputId": "f6ff90f9-9990-4b12-f4bb-9e80cf215c5d"
      },
      "source": [
        "quadrado(x=1.5, arred=True)"
      ],
      "execution_count": null,
      "outputs": [
        {
          "output_type": "execute_result",
          "data": {
            "text/plain": [
              "2"
            ]
          },
          "metadata": {},
          "execution_count": 86
        }
      ]
    },
    {
      "cell_type": "code",
      "metadata": {
        "id": "T_58lXykVOx5"
      },
      "source": [
        "#shift-tab, shift-tab-tab\n",
        "quadrado?"
      ],
      "execution_count": null,
      "outputs": []
    },
    {
      "cell_type": "code",
      "metadata": {
        "id": "4_rl9ZfhVOyG"
      },
      "source": [
        ""
      ],
      "execution_count": null,
      "outputs": []
    },
    {
      "cell_type": "code",
      "metadata": {
        "colab": {
          "base_uri": "https://localhost:8080/"
        },
        "id": "_Om2J1n2VOyI",
        "outputId": "f23901d2-4894-4a54-d119-18d75e9b0c91"
      },
      "source": [
        "L = [1, 'texto', 5.6]\n",
        "L"
      ],
      "execution_count": null,
      "outputs": [
        {
          "output_type": "execute_result",
          "data": {
            "text/plain": [
              "[1, 'texto', 5.6]"
            ]
          },
          "metadata": {},
          "execution_count": 89
        }
      ]
    },
    {
      "cell_type": "code",
      "metadata": {
        "colab": {
          "base_uri": "https://localhost:8080/"
        },
        "id": "UKFQQfUrVOyJ",
        "outputId": "d6cb3a6b-0380-43a4-a674-3cea4c1dd4d0"
      },
      "source": [
        "type(L)"
      ],
      "execution_count": null,
      "outputs": [
        {
          "output_type": "execute_result",
          "data": {
            "text/plain": [
              "list"
            ]
          },
          "metadata": {},
          "execution_count": 92
        }
      ]
    },
    {
      "cell_type": "code",
      "metadata": {
        "colab": {
          "base_uri": "https://localhost:8080/"
        },
        "id": "lw_7qWm_VOyO",
        "outputId": "95c91f11-f6c2-48c9-8350-001acbb44116"
      },
      "source": [
        "L[0]"
      ],
      "execution_count": null,
      "outputs": [
        {
          "output_type": "execute_result",
          "data": {
            "text/plain": [
              "1"
            ]
          },
          "metadata": {},
          "execution_count": 93
        }
      ]
    },
    {
      "cell_type": "code",
      "metadata": {
        "colab": {
          "base_uri": "https://localhost:8080/",
          "height": 35
        },
        "id": "5o9dM1uQVOyS",
        "outputId": "84e7575e-d674-4007-b44b-ab4b6535e256"
      },
      "source": [
        "L[1]"
      ],
      "execution_count": null,
      "outputs": [
        {
          "output_type": "execute_result",
          "data": {
            "text/plain": [
              "'texto'"
            ],
            "application/vnd.google.colaboratory.intrinsic+json": {
              "type": "string"
            }
          },
          "metadata": {},
          "execution_count": 94
        }
      ]
    },
    {
      "cell_type": "code",
      "metadata": {
        "colab": {
          "base_uri": "https://localhost:8080/"
        },
        "id": "A-7UvTJZVOyU",
        "outputId": "861a4184-aaed-4444-be3b-d2fadb3eaf04"
      },
      "source": [
        "L[2]"
      ],
      "execution_count": null,
      "outputs": [
        {
          "output_type": "execute_result",
          "data": {
            "text/plain": [
              "5.6"
            ]
          },
          "metadata": {},
          "execution_count": 95
        }
      ]
    },
    {
      "cell_type": "code",
      "metadata": {
        "colab": {
          "base_uri": "https://localhost:8080/"
        },
        "id": "u_TJj5NgVOyV",
        "outputId": "c7b2f543-b93e-4356-eb4f-a6ca2f2a07be"
      },
      "source": [
        "L[-1]"
      ],
      "execution_count": null,
      "outputs": [
        {
          "output_type": "execute_result",
          "data": {
            "text/plain": [
              "5.6"
            ]
          },
          "metadata": {},
          "execution_count": 96
        }
      ]
    },
    {
      "cell_type": "code",
      "metadata": {
        "id": "XPZ17iiGVOyX"
      },
      "source": [
        "L[2] = 5.7"
      ],
      "execution_count": null,
      "outputs": []
    },
    {
      "cell_type": "code",
      "metadata": {
        "colab": {
          "base_uri": "https://localhost:8080/"
        },
        "id": "mqKof1rSVOyX",
        "outputId": "72e9c1b4-6386-4f10-cab4-540d8ed9ac33"
      },
      "source": [
        "L"
      ],
      "execution_count": null,
      "outputs": [
        {
          "output_type": "execute_result",
          "data": {
            "text/plain": [
              "[1, 'texto', 5.7]"
            ]
          },
          "metadata": {},
          "execution_count": 98
        }
      ]
    },
    {
      "cell_type": "code",
      "metadata": {
        "colab": {
          "base_uri": "https://localhost:8080/"
        },
        "id": "dVhulJYPVOyb",
        "outputId": "bced73a0-2ae5-4689-cc29-45d5d9fadb30"
      },
      "source": [
        "len(L)"
      ],
      "execution_count": null,
      "outputs": [
        {
          "output_type": "execute_result",
          "data": {
            "text/plain": [
              "4"
            ]
          },
          "metadata": {},
          "execution_count": 100
        }
      ]
    },
    {
      "cell_type": "code",
      "metadata": {
        "id": "-ICkERSWVOyc"
      },
      "source": [
        "L.append('novo')"
      ],
      "execution_count": null,
      "outputs": []
    },
    {
      "cell_type": "code",
      "metadata": {
        "colab": {
          "base_uri": "https://localhost:8080/"
        },
        "id": "RJCr9_TrVOyd",
        "outputId": "7bda3e84-6877-4e21-ecc2-a3318baf9580"
      },
      "source": [
        "L"
      ],
      "execution_count": null,
      "outputs": [
        {
          "output_type": "execute_result",
          "data": {
            "text/plain": [
              "[1, 'texto', 5.7, 'novo', 'novo']"
            ]
          },
          "metadata": {},
          "execution_count": 102
        }
      ]
    },
    {
      "cell_type": "code",
      "source": [
        "L[-1]"
      ],
      "metadata": {
        "colab": {
          "base_uri": "https://localhost:8080/",
          "height": 35
        },
        "id": "MeNiavWzJwsm",
        "outputId": "fede5b85-91d5-4500-f316-b68721a3e34d"
      },
      "execution_count": null,
      "outputs": [
        {
          "output_type": "execute_result",
          "data": {
            "text/plain": [
              "'novo'"
            ],
            "application/vnd.google.colaboratory.intrinsic+json": {
              "type": "string"
            }
          },
          "metadata": {},
          "execution_count": 106
        }
      ]
    },
    {
      "cell_type": "code",
      "metadata": {
        "scrolled": true,
        "colab": {
          "base_uri": "https://localhost:8080/",
          "height": 165
        },
        "id": "awnoXygmVOyf",
        "outputId": "b1268f62-eef5-4b47-d7f6-9abbbb1cc67a"
      },
      "source": [
        "L + 123"
      ],
      "execution_count": null,
      "outputs": [
        {
          "output_type": "error",
          "ename": "TypeError",
          "evalue": "ignored",
          "traceback": [
            "\u001b[0;31m---------------------------------------------------------------------------\u001b[0m",
            "\u001b[0;31mTypeError\u001b[0m                                 Traceback (most recent call last)",
            "\u001b[0;32m<ipython-input-107-4dcd9ff3492e>\u001b[0m in \u001b[0;36m<module>\u001b[0;34m()\u001b[0m\n\u001b[0;32m----> 1\u001b[0;31m \u001b[0mL\u001b[0m \u001b[0;34m+\u001b[0m \u001b[0;36m123\u001b[0m\u001b[0;34m\u001b[0m\u001b[0;34m\u001b[0m\u001b[0m\n\u001b[0m",
            "\u001b[0;31mTypeError\u001b[0m: can only concatenate list (not \"int\") to list"
          ]
        }
      ]
    },
    {
      "cell_type": "code",
      "metadata": {
        "id": "TvbVIQ2AVOyh"
      },
      "source": [
        "L = L + [123]"
      ],
      "execution_count": null,
      "outputs": []
    },
    {
      "cell_type": "code",
      "metadata": {
        "id": "-H6SmKFjVOyh",
        "outputId": "c4256e64-7d11-4bd2-dee8-bbd74cbee42d",
        "colab": {
          "base_uri": "https://localhost:8080/"
        }
      },
      "source": [
        "L"
      ],
      "execution_count": null,
      "outputs": [
        {
          "output_type": "execute_result",
          "data": {
            "text/plain": [
              "[1, 'texto', 5.7, 'novo', 'novo', 123]"
            ]
          },
          "metadata": {},
          "execution_count": 113
        }
      ]
    },
    {
      "cell_type": "code",
      "metadata": {
        "id": "FMi8VBefVOyi"
      },
      "source": [
        "L = L + [123]"
      ],
      "execution_count": null,
      "outputs": []
    },
    {
      "cell_type": "code",
      "metadata": {
        "colab": {
          "base_uri": "https://localhost:8080/"
        },
        "id": "kZaFQJTlVOyj",
        "outputId": "4c7a2f3a-cddd-479a-de3c-cb39ea956f84"
      },
      "source": [
        "L"
      ],
      "execution_count": null,
      "outputs": [
        {
          "output_type": "execute_result",
          "data": {
            "text/plain": [
              "[1, 'texto', 5.7, 'novo', 'novo', 123, 123]"
            ]
          },
          "metadata": {},
          "execution_count": 115
        }
      ]
    },
    {
      "cell_type": "code",
      "metadata": {
        "colab": {
          "base_uri": "https://localhost:8080/"
        },
        "id": "YCy_nZL_VOyk",
        "outputId": "b2db0706-2f91-4c51-cb6f-02d32e192830"
      },
      "source": [
        "list(range(10)) # o valor final não é incluído"
      ],
      "execution_count": null,
      "outputs": [
        {
          "output_type": "execute_result",
          "data": {
            "text/plain": [
              "[0, 1, 2, 3, 4, 5, 6, 7, 8, 9]"
            ]
          },
          "metadata": {},
          "execution_count": 116
        }
      ]
    },
    {
      "cell_type": "code",
      "metadata": {
        "colab": {
          "base_uri": "https://localhost:8080/"
        },
        "id": "0ofNOQZ4VOyl",
        "outputId": "51a96ccf-07ac-481e-e593-4ca619dc2ded"
      },
      "source": [
        "list(range(1,10)) # o valor final não é incluído"
      ],
      "execution_count": null,
      "outputs": [
        {
          "output_type": "execute_result",
          "data": {
            "text/plain": [
              "[1, 2, 3, 4, 5, 6, 7, 8, 9]"
            ]
          },
          "metadata": {},
          "execution_count": 117
        }
      ]
    },
    {
      "cell_type": "code",
      "metadata": {
        "colab": {
          "base_uri": "https://localhost:8080/"
        },
        "id": "IyoQanf8VOyt",
        "outputId": "733ce334-e4fc-4388-d3cb-6c2ccad681f5"
      },
      "source": [
        "range(10)"
      ],
      "execution_count": null,
      "outputs": [
        {
          "output_type": "execute_result",
          "data": {
            "text/plain": [
              "range(0, 10)"
            ]
          },
          "metadata": {},
          "execution_count": 118
        }
      ]
    },
    {
      "cell_type": "code",
      "source": [
        "'''\n",
        "for # você conhece o começo e o fim\n",
        "while # você não sabe se repete e nem quando acaba\n",
        "do while #você só tem certeza que acontece uma vez, mas não sabe quando acaba\n",
        "'''"
      ],
      "metadata": {
        "id": "hQPMbv4kKtNH"
      },
      "execution_count": null,
      "outputs": []
    },
    {
      "cell_type": "code",
      "metadata": {
        "colab": {
          "base_uri": "https://localhost:8080/"
        },
        "id": "te1Dw5KdVOyw",
        "outputId": "18dfa677-cb69-412a-d1d7-12a5c8a5e48a"
      },
      "source": [
        "for i in range(len(L)):\n",
        "    print(i+1)"
      ],
      "execution_count": null,
      "outputs": [
        {
          "output_type": "stream",
          "name": "stdout",
          "text": [
            "1\n",
            "2\n",
            "3\n",
            "4\n",
            "5\n",
            "6\n",
            "7\n"
          ]
        }
      ]
    },
    {
      "cell_type": "code",
      "metadata": {
        "scrolled": true,
        "colab": {
          "base_uri": "https://localhost:8080/"
        },
        "id": "IyU-BlpkVOy7",
        "outputId": "e1949119-90a3-450a-e8c0-0a46371a2a9d"
      },
      "source": [
        "L[1:3] # a última posição não é considerada 1 < in e fim > 3"
      ],
      "execution_count": null,
      "outputs": [
        {
          "output_type": "execute_result",
          "data": {
            "text/plain": [
              "['texto', 5.7]"
            ]
          },
          "metadata": {},
          "execution_count": 123
        }
      ]
    },
    {
      "cell_type": "code",
      "metadata": {
        "colab": {
          "base_uri": "https://localhost:8080/"
        },
        "id": "RC-KaTsdVOzA",
        "outputId": "d21802de-df85-4a1b-c07f-74f6b0408f65"
      },
      "source": [
        "v = list(range(10))\n",
        "v"
      ],
      "execution_count": null,
      "outputs": [
        {
          "output_type": "execute_result",
          "data": {
            "text/plain": [
              "[0, 1, 2, 3, 4, 5, 6, 7, 8, 9]"
            ]
          },
          "metadata": {},
          "execution_count": 124
        }
      ]
    },
    {
      "cell_type": "code",
      "metadata": {
        "colab": {
          "base_uri": "https://localhost:8080/"
        },
        "id": "fafjjVjLVOzJ",
        "outputId": "46364c40-5e5c-4a0e-ee05-797770a51fa9"
      },
      "source": [
        "variavel_teste = v[1:5]\n",
        "variavel_teste"
      ],
      "execution_count": null,
      "outputs": [
        {
          "output_type": "execute_result",
          "data": {
            "text/plain": [
              "[1, 2, 3, 4]"
            ]
          },
          "metadata": {},
          "execution_count": 125
        }
      ]
    },
    {
      "cell_type": "code",
      "metadata": {
        "colab": {
          "base_uri": "https://localhost:8080/"
        },
        "id": "s7qEYUIHVOzM",
        "outputId": "d73070d3-b4dc-438a-d514-55e5fa56c162"
      },
      "source": [
        "v[:5]"
      ],
      "execution_count": null,
      "outputs": [
        {
          "output_type": "execute_result",
          "data": {
            "text/plain": [
              "[0, 1, 2, 3, 4]"
            ]
          },
          "metadata": {},
          "execution_count": 126
        }
      ]
    },
    {
      "cell_type": "code",
      "metadata": {
        "colab": {
          "base_uri": "https://localhost:8080/"
        },
        "id": "p9SKvTsYVOzW",
        "outputId": "c005b16a-ff99-434b-8631-dee6c6402482"
      },
      "source": [
        "v[3:]"
      ],
      "execution_count": null,
      "outputs": [
        {
          "output_type": "execute_result",
          "data": {
            "text/plain": [
              "[3, 4, 5, 6, 7, 8, 9]"
            ]
          },
          "metadata": {},
          "execution_count": 128
        }
      ]
    },
    {
      "cell_type": "code",
      "metadata": {
        "colab": {
          "base_uri": "https://localhost:8080/"
        },
        "id": "3C9ixc-JVOzX",
        "outputId": "5926a5fe-bc99-4695-dc8e-62a49f8f8849"
      },
      "source": [
        "v[3:-1]"
      ],
      "execution_count": null,
      "outputs": [
        {
          "output_type": "execute_result",
          "data": {
            "text/plain": [
              "[3, 4, 5, 6, 7, 8]"
            ]
          },
          "metadata": {},
          "execution_count": 129
        }
      ]
    },
    {
      "cell_type": "code",
      "metadata": {
        "colab": {
          "base_uri": "https://localhost:8080/"
        },
        "id": "_pT6S_GrVOzZ",
        "outputId": "540d49b7-3cb2-4366-894b-cc8720be76e6"
      },
      "source": [
        "x = v[:-2]\n",
        "x"
      ],
      "execution_count": null,
      "outputs": [
        {
          "output_type": "execute_result",
          "data": {
            "text/plain": [
              "[0, 1, 2, 3, 4, 5, 6, 7]"
            ]
          },
          "metadata": {},
          "execution_count": 132
        }
      ]
    },
    {
      "cell_type": "code",
      "metadata": {
        "colab": {
          "base_uri": "https://localhost:8080/"
        },
        "id": "HtZrlczgVOza",
        "outputId": "d3424d6e-2dba-4e93-fd4d-aec5592c0689"
      },
      "source": [
        "v[::2]"
      ],
      "execution_count": null,
      "outputs": [
        {
          "output_type": "execute_result",
          "data": {
            "text/plain": [
              "[0, 2, 4, 6, 8]"
            ]
          },
          "metadata": {},
          "execution_count": 133
        }
      ]
    },
    {
      "cell_type": "code",
      "metadata": {
        "colab": {
          "base_uri": "https://localhost:8080/"
        },
        "id": "WQcDrgp3VOzq",
        "outputId": "55f6fd8f-4bac-4c75-9ff5-c14edc2f570a"
      },
      "source": [
        "v[::-1]"
      ],
      "execution_count": null,
      "outputs": [
        {
          "output_type": "execute_result",
          "data": {
            "text/plain": [
              "[9, 8, 7, 6, 5, 4, 3, 2, 1, 0]"
            ]
          },
          "metadata": {},
          "execution_count": 135
        }
      ]
    },
    {
      "cell_type": "code",
      "metadata": {
        "colab": {
          "base_uri": "https://localhost:8080/"
        },
        "id": "JsQkPSFBVOzs",
        "outputId": "67ab9ff9-e47b-4382-881c-52daa51bacf6"
      },
      "source": [
        "sum(v)"
      ],
      "execution_count": null,
      "outputs": [
        {
          "output_type": "execute_result",
          "data": {
            "text/plain": [
              "45"
            ]
          },
          "metadata": {},
          "execution_count": 136
        }
      ]
    },
    {
      "cell_type": "code",
      "metadata": {
        "colab": {
          "base_uri": "https://localhost:8080/"
        },
        "id": "S2mVhkVFVOzy",
        "outputId": "700c4470-2229-4490-e3a0-23afce368a92"
      },
      "source": [
        "t = (1, 'dois', 'dois',3.0, 4)\n",
        "t"
      ],
      "execution_count": null,
      "outputs": [
        {
          "output_type": "execute_result",
          "data": {
            "text/plain": [
              "(1, 'dois', 'dois', 3.0, 4)"
            ]
          },
          "metadata": {},
          "execution_count": 137
        }
      ]
    },
    {
      "cell_type": "code",
      "metadata": {
        "colab": {
          "base_uri": "https://localhost:8080/"
        },
        "id": "w1UyskZNVOz0",
        "outputId": "fff56963-f9da-4d11-b9ac-9384ddcff76b"
      },
      "source": [
        "type(t)"
      ],
      "execution_count": null,
      "outputs": [
        {
          "output_type": "execute_result",
          "data": {
            "text/plain": [
              "tuple"
            ]
          },
          "metadata": {},
          "execution_count": 138
        }
      ]
    },
    {
      "cell_type": "code",
      "metadata": {
        "colab": {
          "base_uri": "https://localhost:8080/"
        },
        "id": "ZidAwMxwVOz1",
        "outputId": "72d2e9e5-eb7b-4977-8a75-2a161d135750"
      },
      "source": [
        "t[1:]"
      ],
      "execution_count": null,
      "outputs": [
        {
          "output_type": "execute_result",
          "data": {
            "text/plain": [
              "('dois', 'dois', 3.0, 4)"
            ]
          },
          "metadata": {},
          "execution_count": 139
        }
      ]
    },
    {
      "cell_type": "code",
      "metadata": {
        "colab": {
          "base_uri": "https://localhost:8080/"
        },
        "id": "Qd8oc-N5VOz4",
        "outputId": "ef0730cc-1d42-4584-80c5-a422e2f8b12e"
      },
      "source": [
        "len(t)"
      ],
      "execution_count": null,
      "outputs": [
        {
          "output_type": "execute_result",
          "data": {
            "text/plain": [
              "5"
            ]
          },
          "metadata": {},
          "execution_count": 140
        }
      ]
    },
    {
      "cell_type": "code",
      "metadata": {
        "colab": {
          "base_uri": "https://localhost:8080/"
        },
        "id": "Gs0vOOOGVOz5",
        "outputId": "8ee3adfd-dda1-4722-e2b7-12c65f237cb8"
      },
      "source": [
        "t.count('dois')"
      ],
      "execution_count": null,
      "outputs": [
        {
          "output_type": "execute_result",
          "data": {
            "text/plain": [
              "2"
            ]
          },
          "metadata": {},
          "execution_count": 142
        }
      ]
    },
    {
      "cell_type": "code",
      "metadata": {
        "colab": {
          "base_uri": "https://localhost:8080/",
          "height": 183
        },
        "id": "miy53uwQVOz7",
        "outputId": "8b6b9dbf-9aa2-4946-93ec-0d35aed9cd94"
      },
      "source": [
        "# tupla não é mutável\n",
        "t[2] = 9"
      ],
      "execution_count": null,
      "outputs": [
        {
          "output_type": "error",
          "ename": "TypeError",
          "evalue": "ignored",
          "traceback": [
            "\u001b[0;31m---------------------------------------------------------------------------\u001b[0m",
            "\u001b[0;31mTypeError\u001b[0m                                 Traceback (most recent call last)",
            "\u001b[0;32m<ipython-input-143-5fc8aa39e942>\u001b[0m in \u001b[0;36m<module>\u001b[0;34m()\u001b[0m\n\u001b[1;32m      1\u001b[0m \u001b[0;31m# tupla não é mutável\u001b[0m\u001b[0;34m\u001b[0m\u001b[0;34m\u001b[0m\u001b[0;34m\u001b[0m\u001b[0m\n\u001b[0;32m----> 2\u001b[0;31m \u001b[0mt\u001b[0m\u001b[0;34m[\u001b[0m\u001b[0;36m2\u001b[0m\u001b[0;34m]\u001b[0m \u001b[0;34m=\u001b[0m \u001b[0;36m9\u001b[0m\u001b[0;34m\u001b[0m\u001b[0;34m\u001b[0m\u001b[0m\n\u001b[0m",
            "\u001b[0;31mTypeError\u001b[0m: 'tuple' object does not support item assignment"
          ]
        }
      ]
    },
    {
      "cell_type": "code",
      "metadata": {
        "id": "OO9O-qq3VOz8"
      },
      "source": [
        "x = list(t)"
      ],
      "execution_count": null,
      "outputs": []
    },
    {
      "cell_type": "code",
      "source": [
        "x[2] = 9\n",
        "t = tuple(x)"
      ],
      "metadata": {
        "id": "Eyv9NpmfNKsE"
      },
      "execution_count": null,
      "outputs": []
    },
    {
      "cell_type": "code",
      "source": [
        "print(t)"
      ],
      "metadata": {
        "colab": {
          "base_uri": "https://localhost:8080/"
        },
        "id": "9yY7HJ2sNRAP",
        "outputId": "29285fd0-1eac-4ea7-c3f0-c6fe30a7d0c6"
      },
      "execution_count": null,
      "outputs": [
        {
          "output_type": "stream",
          "name": "stdout",
          "text": [
            "(1, 'dois', 9, 3.0, 4)\n"
          ]
        }
      ]
    },
    {
      "cell_type": "code",
      "metadata": {
        "colab": {
          "base_uri": "https://localhost:8080/"
        },
        "id": "u_gwuyf1VOz9",
        "outputId": "66b2f4a9-f243-45f8-90f1-fcad23efa32c"
      },
      "source": [
        "list(s)"
      ],
      "execution_count": null,
      "outputs": [
        {
          "output_type": "execute_result",
          "data": {
            "text/plain": [
              "['I',\n",
              " 't',\n",
              " \"'\",\n",
              " 's',\n",
              " ' ',\n",
              " 'i',\n",
              " 'n',\n",
              " 't',\n",
              " 'e',\n",
              " 'r',\n",
              " 'e',\n",
              " 's',\n",
              " 't',\n",
              " 'i',\n",
              " 'n',\n",
              " 'g']"
            ]
          },
          "metadata": {},
          "execution_count": 150
        }
      ]
    },
    {
      "cell_type": "code",
      "metadata": {
        "colab": {
          "base_uri": "https://localhost:8080/",
          "height": 35
        },
        "id": "xlizFwX0VOz-",
        "outputId": "006c329e-dbe1-431b-f784-75d797a5689f"
      },
      "source": [
        "s[5:-3]"
      ],
      "execution_count": null,
      "outputs": [
        {
          "output_type": "execute_result",
          "data": {
            "text/plain": [
              "'interest'"
            ],
            "application/vnd.google.colaboratory.intrinsic+json": {
              "type": "string"
            }
          },
          "metadata": {},
          "execution_count": 151
        }
      ]
    },
    {
      "cell_type": "code",
      "metadata": {
        "colab": {
          "base_uri": "https://localhost:8080/"
        },
        "id": "rQc59IsrVOz_",
        "outputId": "d4aff729-d7d6-417c-9833-42aa839f5192"
      },
      "source": [
        "a, b, v, s"
      ],
      "execution_count": null,
      "outputs": [
        {
          "output_type": "execute_result",
          "data": {
            "text/plain": [
              "('42.0', 3.5, [0, 1, 2, 3, 4, 5, 6, 7, 8, 9], \"It's interesting\")"
            ]
          },
          "metadata": {},
          "execution_count": 152
        }
      ]
    },
    {
      "cell_type": "code",
      "metadata": {
        "colab": {
          "base_uri": "https://localhost:8080/"
        },
        "id": "g8PxvHtJVO0A",
        "outputId": "83e3f712-325a-4eb0-9d4b-b93bbc043dd7"
      },
      "source": [
        "x, y, z = 1, 2, 3\n",
        "#x = y = z = 1\n",
        "print(x)\n",
        "print(y)\n",
        "print(z)"
      ],
      "execution_count": null,
      "outputs": [
        {
          "output_type": "stream",
          "name": "stdout",
          "text": [
            "1\n",
            "2\n",
            "3\n"
          ]
        }
      ]
    },
    {
      "cell_type": "code",
      "metadata": {
        "colab": {
          "base_uri": "https://localhost:8080/"
        },
        "id": "auaX6-SOVO0B",
        "outputId": "e928f559-926c-4a44-ad40-2692886d58cb"
      },
      "source": [
        "d = {'nome':'Felipe', 'idade':22, 'altura':181}\n",
        "d"
      ],
      "execution_count": null,
      "outputs": [
        {
          "output_type": "execute_result",
          "data": {
            "text/plain": [
              "{'altura': 181, 'idade': 22, 'nome': 'Felipe'}"
            ]
          },
          "metadata": {},
          "execution_count": 164
        }
      ]
    },
    {
      "cell_type": "code",
      "metadata": {
        "colab": {
          "base_uri": "https://localhost:8080/"
        },
        "id": "X5_f2sQcVO0C",
        "outputId": "089b7052-374f-46f4-c893-924120a937aa"
      },
      "source": [
        "type(d)"
      ],
      "execution_count": null,
      "outputs": [
        {
          "output_type": "execute_result",
          "data": {
            "text/plain": [
              "dict"
            ]
          },
          "metadata": {},
          "execution_count": 158
        }
      ]
    },
    {
      "cell_type": "code",
      "metadata": {
        "colab": {
          "base_uri": "https://localhost:8080/",
          "height": 35
        },
        "id": "ETPMZRXTVO0P",
        "outputId": "0e81cd5d-0b5a-44dd-d631-802ce90f03d5"
      },
      "source": [
        "d['nome']"
      ],
      "execution_count": null,
      "outputs": [
        {
          "output_type": "execute_result",
          "data": {
            "text/plain": [
              "'Felipe'"
            ],
            "application/vnd.google.colaboratory.intrinsic+json": {
              "type": "string"
            }
          },
          "metadata": {},
          "execution_count": 161
        }
      ]
    },
    {
      "cell_type": "code",
      "metadata": {
        "colab": {
          "base_uri": "https://localhost:8080/"
        },
        "id": "59zQzS84VO0U",
        "outputId": "78114370-02f1-4cd6-9eab-ee33eb7a98b1"
      },
      "source": [
        "d['idade']"
      ],
      "execution_count": null,
      "outputs": [
        {
          "output_type": "execute_result",
          "data": {
            "text/plain": [
              "22"
            ]
          },
          "metadata": {},
          "execution_count": 162
        }
      ]
    },
    {
      "cell_type": "code",
      "metadata": {
        "colab": {
          "base_uri": "https://localhost:8080/"
        },
        "id": "BCgtcEvwVO0X",
        "outputId": "23645098-8965-4a2d-fa9b-e615e87303ad"
      },
      "source": [
        "list(d.keys())"
      ],
      "execution_count": null,
      "outputs": [
        {
          "output_type": "execute_result",
          "data": {
            "text/plain": [
              "['nome', 'idade', 'altura']"
            ]
          },
          "metadata": {},
          "execution_count": 165
        }
      ]
    },
    {
      "cell_type": "code",
      "metadata": {
        "id": "TxY9i_2kVO0a",
        "colab": {
          "base_uri": "https://localhost:8080/"
        },
        "outputId": "1b863b12-3bfe-434c-ba1b-3d3332ddb886"
      },
      "source": [
        "list(d.values())"
      ],
      "execution_count": null,
      "outputs": [
        {
          "output_type": "execute_result",
          "data": {
            "text/plain": [
              "['Felipe', 22, 181]"
            ]
          },
          "metadata": {},
          "execution_count": 166
        }
      ]
    },
    {
      "cell_type": "code",
      "metadata": {
        "id": "3tIgJh1pVO0c",
        "outputId": "d0a46787-05fe-43d5-b1ba-8407ff3039ab"
      },
      "source": [
        "[n**2 for n in range(10)] # list compreehension"
      ],
      "execution_count": null,
      "outputs": [
        {
          "output_type": "execute_result",
          "data": {
            "text/plain": [
              "[0, 1, 4, 9, 16, 25, 36, 49, 64, 81]"
            ]
          },
          "metadata": {
            "tags": []
          },
          "execution_count": 83
        }
      ]
    },
    {
      "cell_type": "code",
      "metadata": {
        "colab": {
          "base_uri": "https://localhost:8080/"
        },
        "id": "69WkgBmTVO0m",
        "outputId": "b4634cd0-f48e-45bf-9142-a79644e7d08e"
      },
      "source": [
        "[n**2 for n in range(10) if n % 2 == 0]"
      ],
      "execution_count": null,
      "outputs": [
        {
          "output_type": "execute_result",
          "data": {
            "text/plain": [
              "[0, 4, 16, 36, 64]"
            ]
          },
          "metadata": {
            "tags": []
          },
          "execution_count": 87
        }
      ]
    },
    {
      "cell_type": "code",
      "metadata": {
        "id": "rcYrK973VO0n"
      },
      "source": [
        "class Aluno(object):\n",
        "    \n",
        "    def __init__(self, nome):\n",
        "        self.nome = nome\n",
        "    \n",
        "    def entra_nota(self, nota):\n",
        "        nota = round(2*nota)/2 # arredondamento Univali\n",
        "        self.nota = nota\n",
        "    \n",
        "    def aprovado(self):\n",
        "        return self.nota >= 5.75"
      ],
      "execution_count": null,
      "outputs": []
    },
    {
      "cell_type": "code",
      "metadata": {
        "colab": {
          "base_uri": "https://localhost:8080/",
          "height": 35
        },
        "id": "SAyzzmLGVO0o",
        "outputId": "94ac890d-1c9c-4bb4-c5f7-614ea78b3b44"
      },
      "source": [
        "aluno = Aluno('Fulano')\n",
        "aluno.nome"
      ],
      "execution_count": null,
      "outputs": [
        {
          "output_type": "execute_result",
          "data": {
            "application/vnd.google.colaboratory.intrinsic+json": {
              "type": "string"
            },
            "text/plain": [
              "'Fulano'"
            ]
          },
          "metadata": {
            "tags": []
          },
          "execution_count": 89
        }
      ]
    },
    {
      "cell_type": "code",
      "metadata": {
        "colab": {
          "base_uri": "https://localhost:8080/"
        },
        "id": "JL6YHBdDVO0p",
        "outputId": "62a060b6-bb5c-48fc-d06e-4359f9f9ae62"
      },
      "source": [
        "aluno.entra_nota(5.74)\n",
        "aluno.nota"
      ],
      "execution_count": null,
      "outputs": [
        {
          "output_type": "execute_result",
          "data": {
            "text/plain": [
              "5.5"
            ]
          },
          "metadata": {
            "tags": []
          },
          "execution_count": 90
        }
      ]
    },
    {
      "cell_type": "code",
      "metadata": {
        "colab": {
          "base_uri": "https://localhost:8080/"
        },
        "id": "t6dHjuFzVO0y",
        "outputId": "ff0a9a5d-b978-492a-917e-f5a150f8b63e"
      },
      "source": [
        "aluno.aprovado()"
      ],
      "execution_count": null,
      "outputs": [
        {
          "output_type": "execute_result",
          "data": {
            "text/plain": [
              "False"
            ]
          },
          "metadata": {
            "tags": []
          },
          "execution_count": 91
        }
      ]
    },
    {
      "cell_type": "code",
      "metadata": {
        "id": "lrNi6SjDVO0z"
      },
      "source": [
        ""
      ],
      "execution_count": null,
      "outputs": []
    },
    {
      "cell_type": "markdown",
      "metadata": {
        "id": "OgzNThQwVO00"
      },
      "source": [
        "## NumPy"
      ]
    },
    {
      "cell_type": "code",
      "metadata": {
        "id": "PQQsyECdVO02"
      },
      "source": [
        "import numpy as np"
      ],
      "execution_count": null,
      "outputs": []
    },
    {
      "cell_type": "code",
      "metadata": {
        "colab": {
          "base_uri": "https://localhost:8080/"
        },
        "id": "bi9YMdFVVO04",
        "outputId": "f865e35e-18af-4c39-e556-b8d9dbd70b4f"
      },
      "source": [
        "np.abs(-3)"
      ],
      "execution_count": null,
      "outputs": [
        {
          "output_type": "execute_result",
          "data": {
            "text/plain": [
              "3"
            ]
          },
          "metadata": {},
          "execution_count": 171
        }
      ]
    },
    {
      "cell_type": "code",
      "metadata": {
        "id": "pvdhZUCaVO09"
      },
      "source": [
        "import numpy as np"
      ],
      "execution_count": null,
      "outputs": []
    },
    {
      "cell_type": "code",
      "metadata": {
        "id": "dHkaGfqfVO0-",
        "outputId": "92000487-11bb-4682-e25b-b3c0816f1445",
        "colab": {
          "base_uri": "https://localhost:8080/"
        }
      },
      "source": [
        "np.abs(-3)"
      ],
      "execution_count": null,
      "outputs": [
        {
          "output_type": "execute_result",
          "data": {
            "text/plain": [
              "3"
            ]
          },
          "metadata": {},
          "execution_count": 173
        }
      ]
    },
    {
      "cell_type": "code",
      "metadata": {
        "colab": {
          "base_uri": "https://localhost:8080/"
        },
        "id": "FxYecOPLVO0_",
        "outputId": "9989f1d7-64f8-4212-fc1c-eedc73c8708e"
      },
      "source": [
        "np.min([1, 2, 3, 4])"
      ],
      "execution_count": null,
      "outputs": [
        {
          "output_type": "execute_result",
          "data": {
            "text/plain": [
              "1"
            ]
          },
          "metadata": {},
          "execution_count": 175
        }
      ]
    },
    {
      "cell_type": "code",
      "metadata": {
        "colab": {
          "base_uri": "https://localhost:8080/"
        },
        "id": "lu9W-bDuVO1B",
        "outputId": "a4212338-1a1b-42bd-cebb-1afb46adf5a2"
      },
      "source": [
        "a = np.array([1, 2, 3, 4])\n",
        "a"
      ],
      "execution_count": null,
      "outputs": [
        {
          "output_type": "execute_result",
          "data": {
            "text/plain": [
              "array([1, 2, 3, 4])"
            ]
          },
          "metadata": {},
          "execution_count": 176
        }
      ]
    },
    {
      "cell_type": "code",
      "source": [
        "print(type(a))\n",
        "print(a.shape)"
      ],
      "metadata": {
        "colab": {
          "base_uri": "https://localhost:8080/"
        },
        "id": "n6-SPNqQQGuG",
        "outputId": "2cb92770-083b-4686-9608-2cb36faa6e5f"
      },
      "execution_count": null,
      "outputs": [
        {
          "output_type": "stream",
          "name": "stdout",
          "text": [
            "<class 'numpy.ndarray'>\n",
            "(4,)\n"
          ]
        }
      ]
    },
    {
      "cell_type": "code",
      "metadata": {
        "colab": {
          "base_uri": "https://localhost:8080/"
        },
        "id": "JfGr0CoDVO1Q",
        "outputId": "69b363bc-05ec-4264-bac2-5bf31b3b4922"
      },
      "source": [
        "a.dtype"
      ],
      "execution_count": null,
      "outputs": [
        {
          "output_type": "execute_result",
          "data": {
            "text/plain": [
              "dtype('int64')"
            ]
          },
          "metadata": {},
          "execution_count": 179
        }
      ]
    },
    {
      "cell_type": "code",
      "metadata": {
        "colab": {
          "base_uri": "https://localhost:8080/"
        },
        "id": "V6xN9L4FVO1Z",
        "outputId": "746aed8b-a389-4651-e9f5-ac0859fc0aab"
      },
      "source": [
        "a = np.array([1, 2, 3, 4.0])\n",
        "a"
      ],
      "execution_count": null,
      "outputs": [
        {
          "output_type": "execute_result",
          "data": {
            "text/plain": [
              "array([1., 2., 3., 4.])"
            ]
          },
          "metadata": {},
          "execution_count": 180
        }
      ]
    },
    {
      "cell_type": "code",
      "metadata": {
        "colab": {
          "base_uri": "https://localhost:8080/"
        },
        "id": "KII6Dr_wVO1b",
        "outputId": "b33a5826-0580-4232-92b0-fb0f3e30eb13"
      },
      "source": [
        "a.dtype"
      ],
      "execution_count": null,
      "outputs": [
        {
          "output_type": "execute_result",
          "data": {
            "text/plain": [
              "dtype('float64')"
            ]
          },
          "metadata": {},
          "execution_count": 181
        }
      ]
    },
    {
      "cell_type": "code",
      "metadata": {
        "colab": {
          "base_uri": "https://localhost:8080/"
        },
        "id": "cWDVH9qQVO1c",
        "outputId": "c4d9e334-efd9-41ce-ca1f-e8e49fa0ee83"
      },
      "source": [
        "type(a)"
      ],
      "execution_count": null,
      "outputs": [
        {
          "output_type": "execute_result",
          "data": {
            "text/plain": [
              "numpy.ndarray"
            ]
          },
          "metadata": {},
          "execution_count": 182
        }
      ]
    },
    {
      "cell_type": "code",
      "metadata": {
        "colab": {
          "base_uri": "https://localhost:8080/"
        },
        "id": "gjCg4pHFVO1d",
        "outputId": "594012f6-d1cd-4a80-c4b6-aa1944b9ef78"
      },
      "source": [
        "a.shape"
      ],
      "execution_count": null,
      "outputs": [
        {
          "output_type": "execute_result",
          "data": {
            "text/plain": [
              "(4,)"
            ]
          },
          "metadata": {},
          "execution_count": 183
        }
      ]
    },
    {
      "cell_type": "code",
      "metadata": {
        "colab": {
          "base_uri": "https://localhost:8080/"
        },
        "id": "c4zTL9PTVO1f",
        "outputId": "db78e0cc-ce5e-4051-81aa-1c4d1d23d6e6"
      },
      "source": [
        "sum(a)"
      ],
      "execution_count": null,
      "outputs": [
        {
          "output_type": "execute_result",
          "data": {
            "text/plain": [
              "10.0"
            ]
          },
          "metadata": {},
          "execution_count": 186
        }
      ]
    },
    {
      "cell_type": "code",
      "metadata": {
        "colab": {
          "base_uri": "https://localhost:8080/"
        },
        "id": "HCb1YzzHVO1k",
        "outputId": "32b833a8-35c0-47db-c753-ddc11de94126"
      },
      "source": [
        "np.sum(a)"
      ],
      "execution_count": null,
      "outputs": [
        {
          "output_type": "execute_result",
          "data": {
            "text/plain": [
              "10.0"
            ]
          },
          "metadata": {},
          "execution_count": 185
        }
      ]
    },
    {
      "cell_type": "code",
      "metadata": {
        "colab": {
          "base_uri": "https://localhost:8080/"
        },
        "id": "tC2OiEBnVO1s",
        "outputId": "75e5126c-b04e-4ad0-a9b4-81c107269b3e"
      },
      "source": [
        "a.sum()"
      ],
      "execution_count": null,
      "outputs": [
        {
          "output_type": "execute_result",
          "data": {
            "text/plain": [
              "10.0"
            ]
          },
          "metadata": {},
          "execution_count": 187
        }
      ]
    },
    {
      "cell_type": "code",
      "metadata": {
        "colab": {
          "base_uri": "https://localhost:8080/"
        },
        "id": "IRDxtIlVVO1t",
        "outputId": "b5066e36-7c2f-45f3-821d-bb26fd50ea36"
      },
      "source": [
        "a.argmax()"
      ],
      "execution_count": null,
      "outputs": [
        {
          "output_type": "execute_result",
          "data": {
            "text/plain": [
              "3"
            ]
          },
          "metadata": {},
          "execution_count": 188
        }
      ]
    },
    {
      "cell_type": "code",
      "metadata": {
        "colab": {
          "base_uri": "https://localhost:8080/"
        },
        "id": "vhnb-ptUVO1y",
        "outputId": "ff8c5345-1bc7-43e0-8e50-79a0e2f9abf1"
      },
      "source": [
        "a.ndim"
      ],
      "execution_count": null,
      "outputs": [
        {
          "output_type": "execute_result",
          "data": {
            "text/plain": [
              "1"
            ]
          },
          "metadata": {},
          "execution_count": 189
        }
      ]
    },
    {
      "cell_type": "code",
      "metadata": {
        "id": "ptUDfXAWVO12",
        "outputId": "d3d975a2-33f0-4f33-e568-c85cbe86b46f"
      },
      "source": [
        "a.shape"
      ],
      "execution_count": null,
      "outputs": [
        {
          "output_type": "execute_result",
          "data": {
            "text/plain": [
              "(4,)"
            ]
          },
          "metadata": {
            "tags": []
          },
          "execution_count": 105
        }
      ]
    },
    {
      "cell_type": "code",
      "metadata": {
        "id": "gCX-LdWYVO14"
      },
      "source": [
        "a[3] = 4.6"
      ],
      "execution_count": null,
      "outputs": []
    },
    {
      "cell_type": "code",
      "source": [
        "b = a"
      ],
      "metadata": {
        "id": "mPtkyMVvRG_6"
      },
      "execution_count": null,
      "outputs": []
    },
    {
      "cell_type": "code",
      "metadata": {
        "colab": {
          "base_uri": "https://localhost:8080/"
        },
        "id": "O3MM_WmhVO14",
        "outputId": "24c61ab2-dc4d-4d6d-83f3-5a4522a45919"
      },
      "source": [
        "a = np.array([1, 2, 3, 4])\n",
        "a[0] = 0.7\n",
        "c = a.copy()\n",
        "c = np.array([c])\n",
        "aux = c.T\n",
        "print(a.shape)\n",
        "print(c.shape)\n",
        "print(aux)"
      ],
      "execution_count": null,
      "outputs": [
        {
          "output_type": "stream",
          "name": "stdout",
          "text": [
            "(4,)\n",
            "(1, 4)\n",
            "[[0]\n",
            " [2]\n",
            " [3]\n",
            " [4]]\n"
          ]
        }
      ]
    },
    {
      "cell_type": "code",
      "metadata": {
        "colab": {
          "base_uri": "https://localhost:8080/"
        },
        "id": "l7KDQbDYVO15",
        "outputId": "5ba985bd-e6ba-4732-bc23-5f3d19503174"
      },
      "source": [
        "#a = np.array([1, 2, 3, 4.0])\n",
        "#a = np.array([1, 2, 3, 4], dtype=float)\n",
        "a = np.array([1, 2, 3, 4])\n",
        "a = a.astype(float)\n",
        "a[0] = 0.7\n",
        "a"
      ],
      "execution_count": null,
      "outputs": [
        {
          "output_type": "execute_result",
          "data": {
            "text/plain": [
              "array([0.7, 2. , 3. , 4. ])"
            ]
          },
          "metadata": {
            "tags": []
          },
          "execution_count": 109
        }
      ]
    },
    {
      "cell_type": "code",
      "metadata": {
        "colab": {
          "base_uri": "https://localhost:8080/"
        },
        "id": "W-UVVQXpVO17",
        "outputId": "1dffd6a7-2525-434b-e89c-749ca0dbbcb9"
      },
      "source": [
        "a = np.array([1, 2, 3, 4], dtype=float)\n",
        "b = a\n",
        "a[0] = 5\n",
        "a"
      ],
      "execution_count": null,
      "outputs": [
        {
          "output_type": "execute_result",
          "data": {
            "text/plain": [
              "array([5., 2., 3., 4.])"
            ]
          },
          "metadata": {},
          "execution_count": 194
        }
      ]
    },
    {
      "cell_type": "code",
      "metadata": {
        "colab": {
          "base_uri": "https://localhost:8080/"
        },
        "id": "MWJ5YN1hVO2B",
        "outputId": "16bbb604-e20c-4108-ed58-479b0ce32937"
      },
      "source": [
        "b"
      ],
      "execution_count": null,
      "outputs": [
        {
          "output_type": "execute_result",
          "data": {
            "text/plain": [
              "array([5., 2., 3., 4.])"
            ]
          },
          "metadata": {
            "tags": []
          },
          "execution_count": 111
        }
      ]
    },
    {
      "cell_type": "code",
      "metadata": {
        "colab": {
          "base_uri": "https://localhost:8080/"
        },
        "id": "FgzaTpeqVO2C",
        "outputId": "46030c79-45e0-4bfb-8f30-b9f1aa59e4f5"
      },
      "source": [
        "b is a"
      ],
      "execution_count": null,
      "outputs": [
        {
          "output_type": "execute_result",
          "data": {
            "text/plain": [
              "True"
            ]
          },
          "metadata": {
            "tags": []
          },
          "execution_count": 112
        }
      ]
    },
    {
      "cell_type": "code",
      "metadata": {
        "colab": {
          "base_uri": "https://localhost:8080/"
        },
        "id": "pwqHh4fXVO2E",
        "outputId": "d2b7981d-9bb3-480d-a163-51e58acbb5c8"
      },
      "source": [
        "a = np.array([1, 2, 3, 4], dtype=float)\n",
        "b = a.copy()\n",
        "print(b is a)\n",
        "a[0] = 5\n",
        "a"
      ],
      "execution_count": null,
      "outputs": [
        {
          "output_type": "stream",
          "name": "stdout",
          "text": [
            "False\n"
          ]
        },
        {
          "output_type": "execute_result",
          "data": {
            "text/plain": [
              "array([5., 2., 3., 4.])"
            ]
          },
          "metadata": {},
          "execution_count": 195
        }
      ]
    },
    {
      "cell_type": "code",
      "metadata": {
        "colab": {
          "base_uri": "https://localhost:8080/"
        },
        "id": "n_LZWxEuVO2S",
        "outputId": "71f31f74-03a3-4dc0-bb12-2b10a15fc4cc"
      },
      "source": [
        "b"
      ],
      "execution_count": null,
      "outputs": [
        {
          "output_type": "execute_result",
          "data": {
            "text/plain": [
              "array([1., 2., 3., 4.])"
            ]
          },
          "metadata": {
            "tags": []
          },
          "execution_count": 114
        }
      ]
    },
    {
      "cell_type": "code",
      "source": [
        "print(a)"
      ],
      "metadata": {
        "colab": {
          "base_uri": "https://localhost:8080/"
        },
        "id": "pPRNuiG1RxsZ",
        "outputId": "664b38cc-8f71-44d9-b889-a7f1eaead863"
      },
      "execution_count": null,
      "outputs": [
        {
          "output_type": "stream",
          "name": "stdout",
          "text": [
            "[5. 2. 3. 4.]\n"
          ]
        }
      ]
    },
    {
      "cell_type": "code",
      "metadata": {
        "colab": {
          "base_uri": "https://localhost:8080/"
        },
        "id": "CItdngSZVO2V",
        "outputId": "0ed53e8b-b48a-46c6-8a74-10ea658da2a8"
      },
      "source": [
        "a + 1"
      ],
      "execution_count": null,
      "outputs": [
        {
          "output_type": "execute_result",
          "data": {
            "text/plain": [
              "array([6., 3., 4., 5.])"
            ]
          },
          "metadata": {},
          "execution_count": 197
        }
      ]
    },
    {
      "cell_type": "code",
      "metadata": {
        "colab": {
          "base_uri": "https://localhost:8080/"
        },
        "id": "nGQa6-E9VO2f",
        "outputId": "9f88cc08-c489-44e5-b373-624e5a6eeb72"
      },
      "source": [
        "a*a"
      ],
      "execution_count": null,
      "outputs": [
        {
          "output_type": "execute_result",
          "data": {
            "text/plain": [
              "array([25.,  4.,  9., 16.])"
            ]
          },
          "metadata": {
            "tags": []
          },
          "execution_count": 116
        }
      ]
    },
    {
      "cell_type": "code",
      "metadata": {
        "colab": {
          "base_uri": "https://localhost:8080/"
        },
        "id": "rJ8s_6VlVO2g",
        "outputId": "d7ec236c-98ab-4614-bdf4-94359d5709a6"
      },
      "source": [
        "a**2"
      ],
      "execution_count": null,
      "outputs": [
        {
          "output_type": "execute_result",
          "data": {
            "text/plain": [
              "array([25.,  4.,  9., 16.])"
            ]
          },
          "metadata": {
            "tags": []
          },
          "execution_count": 117
        }
      ]
    },
    {
      "cell_type": "code",
      "metadata": {
        "colab": {
          "base_uri": "https://localhost:8080/"
        },
        "id": "oqUd46SaVO2i",
        "outputId": "48aebf0e-f5a7-4dfc-f3c5-a4ae9d84f720"
      },
      "source": [
        "x = np.array([[0,1,2,3],[4,5,6,7],[8,9,10,11]])\n",
        "x"
      ],
      "execution_count": null,
      "outputs": [
        {
          "output_type": "execute_result",
          "data": {
            "text/plain": [
              "array([[ 0,  1,  2,  3],\n",
              "       [ 4,  5,  6,  7],\n",
              "       [ 8,  9, 10, 11]])"
            ]
          },
          "metadata": {},
          "execution_count": 200
        }
      ]
    },
    {
      "cell_type": "code",
      "metadata": {
        "colab": {
          "base_uri": "https://localhost:8080/"
        },
        "id": "HLkMTmv8VO2q",
        "outputId": "d6c4b5c7-d77e-4990-9795-e0a0e57d5101"
      },
      "source": [
        "x.shape"
      ],
      "execution_count": null,
      "outputs": [
        {
          "output_type": "execute_result",
          "data": {
            "text/plain": [
              "(3, 4)"
            ]
          },
          "metadata": {},
          "execution_count": 201
        }
      ]
    },
    {
      "cell_type": "code",
      "metadata": {
        "colab": {
          "base_uri": "https://localhost:8080/"
        },
        "id": "sb1BkpCZVO2r",
        "outputId": "c6d533e6-c945-4570-9872-04c69918b671"
      },
      "source": [
        "x[1,2]"
      ],
      "execution_count": null,
      "outputs": [
        {
          "output_type": "execute_result",
          "data": {
            "text/plain": [
              "6"
            ]
          },
          "metadata": {},
          "execution_count": 202
        }
      ]
    },
    {
      "cell_type": "code",
      "metadata": {
        "colab": {
          "base_uri": "https://localhost:8080/"
        },
        "id": "3yC7lqs5VO2s",
        "outputId": "0f2eea9b-6069-4664-8b10-f876b584c682"
      },
      "source": [
        "x[1][2]"
      ],
      "execution_count": null,
      "outputs": [
        {
          "output_type": "execute_result",
          "data": {
            "text/plain": [
              "6"
            ]
          },
          "metadata": {},
          "execution_count": 203
        }
      ]
    },
    {
      "cell_type": "code",
      "metadata": {
        "colab": {
          "base_uri": "https://localhost:8080/"
        },
        "id": "y5WJ5vAlVO2t",
        "outputId": "9cd9076c-22b2-4d90-eaff-2a6d341035d4"
      },
      "source": [
        "x.T"
      ],
      "execution_count": null,
      "outputs": [
        {
          "output_type": "execute_result",
          "data": {
            "text/plain": [
              "array([[ 0,  4,  8],\n",
              "       [ 1,  5,  9],\n",
              "       [ 2,  6, 10],\n",
              "       [ 3,  7, 11]])"
            ]
          },
          "metadata": {},
          "execution_count": 205
        }
      ]
    },
    {
      "cell_type": "code",
      "metadata": {
        "id": "isj0kLZTVO2u",
        "outputId": "305e5206-706a-4a93-f264-14f3926dd342",
        "colab": {
          "base_uri": "https://localhost:8080/"
        }
      },
      "source": [
        "x.T.shape"
      ],
      "execution_count": null,
      "outputs": [
        {
          "output_type": "execute_result",
          "data": {
            "text/plain": [
              "(4, 3)"
            ]
          },
          "metadata": {},
          "execution_count": 206
        }
      ]
    },
    {
      "cell_type": "code",
      "metadata": {
        "colab": {
          "base_uri": "https://localhost:8080/"
        },
        "id": "-om3QFZwVO2w",
        "outputId": "03e10cce-807f-4f95-9dc1-24f9f5c9ceb2"
      },
      "source": [
        "y = np.array([[[0, 1, 2, 3], [4, 5, 6, 7]], [[8, 9, 10, 11], [12, 13, 14, 15]], [[16, 17, 18, 19], [20, 21, 22, 23]]])\n",
        "y"
      ],
      "execution_count": null,
      "outputs": [
        {
          "output_type": "execute_result",
          "data": {
            "text/plain": [
              "array([[[ 0,  1,  2,  3],\n",
              "        [ 4,  5,  6,  7]],\n",
              "\n",
              "       [[ 8,  9, 10, 11],\n",
              "        [12, 13, 14, 15]],\n",
              "\n",
              "       [[16, 17, 18, 19],\n",
              "        [20, 21, 22, 23]]])"
            ]
          },
          "metadata": {},
          "execution_count": 207
        }
      ]
    },
    {
      "cell_type": "code",
      "metadata": {
        "colab": {
          "base_uri": "https://localhost:8080/"
        },
        "id": "m9arsADfVO21",
        "outputId": "eb4efe67-e226-43f1-807e-e5ccaa4335d7"
      },
      "source": [
        "y.shape"
      ],
      "execution_count": null,
      "outputs": [
        {
          "output_type": "execute_result",
          "data": {
            "text/plain": [
              "(3, 2, 4)"
            ]
          },
          "metadata": {},
          "execution_count": 208
        }
      ]
    },
    {
      "cell_type": "code",
      "metadata": {
        "scrolled": true,
        "colab": {
          "base_uri": "https://localhost:8080/"
        },
        "id": "ravGLKXnVO22",
        "outputId": "5e2990cb-a98c-443a-fc8f-401f17ad59f4"
      },
      "source": [
        "y[1][0][2]"
      ],
      "execution_count": null,
      "outputs": [
        {
          "output_type": "execute_result",
          "data": {
            "text/plain": [
              "10"
            ]
          },
          "metadata": {},
          "execution_count": 209
        }
      ]
    },
    {
      "cell_type": "code",
      "metadata": {
        "colab": {
          "base_uri": "https://localhost:8080/"
        },
        "id": "T4RS2_3ZVO25",
        "outputId": "acd9d205-64d6-43be-e453-b46cbcadef00"
      },
      "source": [
        "y[1,0,2]"
      ],
      "execution_count": null,
      "outputs": [
        {
          "output_type": "execute_result",
          "data": {
            "text/plain": [
              "10"
            ]
          },
          "metadata": {},
          "execution_count": 210
        }
      ]
    },
    {
      "cell_type": "code",
      "metadata": {
        "colab": {
          "base_uri": "https://localhost:8080/"
        },
        "id": "x_ZSR-mPVO26",
        "outputId": "54fdef83-6fa6-4393-fa0a-475b2870e7b9"
      },
      "source": [
        "y = np.arange(2*3*4)\n",
        "y"
      ],
      "execution_count": null,
      "outputs": [
        {
          "output_type": "execute_result",
          "data": {
            "text/plain": [
              "array([ 0,  1,  2,  3,  4,  5,  6,  7,  8,  9, 10, 11, 12, 13, 14, 15, 16,\n",
              "       17, 18, 19, 20, 21, 22, 23])"
            ]
          },
          "metadata": {
            "tags": []
          },
          "execution_count": 127
        }
      ]
    },
    {
      "cell_type": "code",
      "metadata": {
        "colab": {
          "base_uri": "https://localhost:8080/"
        },
        "id": "65NsxfGjVO29",
        "outputId": "30360bd2-4bb6-4a70-b8fc-a5f7028dabf9"
      },
      "source": [
        "y.reshape(3,2,4)"
      ],
      "execution_count": null,
      "outputs": [
        {
          "output_type": "execute_result",
          "data": {
            "text/plain": [
              "array([[[ 0,  1,  2,  3],\n",
              "        [ 4,  5,  6,  7]],\n",
              "\n",
              "       [[ 8,  9, 10, 11],\n",
              "        [12, 13, 14, 15]],\n",
              "\n",
              "       [[16, 17, 18, 19],\n",
              "        [20, 21, 22, 23]]])"
            ]
          },
          "metadata": {
            "tags": []
          },
          "execution_count": 128
        }
      ]
    },
    {
      "cell_type": "markdown",
      "metadata": {
        "id": "xrjPIgCVVO3I"
      },
      "source": [
        "Examples of NumPy arrays:\n",
        "\n",
        "![test.png](attachment:test.png)"
      ]
    },
    {
      "cell_type": "code",
      "metadata": {
        "colab": {
          "base_uri": "https://localhost:8080/"
        },
        "id": "WPWHbK20VO3J",
        "outputId": "cb155534-c4ba-411f-f70b-4b7a8d842a72"
      },
      "source": [
        "y"
      ],
      "execution_count": null,
      "outputs": [
        {
          "output_type": "execute_result",
          "data": {
            "text/plain": [
              "array([ 0,  1,  2,  3,  4,  5,  6,  7,  8,  9, 10, 11, 12, 13, 14, 15, 16,\n",
              "       17, 18, 19, 20, 21, 22, 23])"
            ]
          },
          "metadata": {
            "tags": []
          },
          "execution_count": 129
        }
      ]
    },
    {
      "cell_type": "code",
      "metadata": {
        "id": "y-_vz2TrVO3R",
        "outputId": "c4864303-dcd8-4b50-a13a-baafa914fdc0"
      },
      "source": [
        "y = y.reshape(3,2,4)\n",
        "y"
      ],
      "execution_count": null,
      "outputs": [
        {
          "output_type": "execute_result",
          "data": {
            "text/plain": [
              "array([[[ 0,  1,  2,  3],\n",
              "        [ 4,  5,  6,  7]],\n",
              "\n",
              "       [[ 8,  9, 10, 11],\n",
              "        [12, 13, 14, 15]],\n",
              "\n",
              "       [[16, 17, 18, 19],\n",
              "        [20, 21, 22, 23]]])"
            ]
          },
          "metadata": {
            "tags": []
          },
          "execution_count": 134
        }
      ]
    },
    {
      "cell_type": "code",
      "metadata": {
        "id": "Wku5wFcdVO3S",
        "outputId": "35d09dc8-eef5-4af1-e73f-493a70446739"
      },
      "source": [
        "x"
      ],
      "execution_count": null,
      "outputs": [
        {
          "output_type": "execute_result",
          "data": {
            "text/plain": [
              "array([[0, 1, 2, 3],\n",
              "       [4, 5, 6, 7]])"
            ]
          },
          "metadata": {
            "tags": []
          },
          "execution_count": 135
        }
      ]
    },
    {
      "cell_type": "code",
      "metadata": {
        "id": "n7jgDqHaVO3U",
        "outputId": "6ebe0232-5866-42bd-a5d1-97935931d8ff"
      },
      "source": [
        "z = np.array([x, x+8, x+16])\n",
        "z"
      ],
      "execution_count": null,
      "outputs": [
        {
          "output_type": "execute_result",
          "data": {
            "text/plain": [
              "array([[[ 0,  1,  2,  3],\n",
              "        [ 4,  5,  6,  7]],\n",
              "\n",
              "       [[ 8,  9, 10, 11],\n",
              "        [12, 13, 14, 15]],\n",
              "\n",
              "       [[16, 17, 18, 19],\n",
              "        [20, 21, 22, 23]]])"
            ]
          },
          "metadata": {
            "tags": []
          },
          "execution_count": 136
        }
      ]
    },
    {
      "cell_type": "code",
      "source": [
        ""
      ],
      "metadata": {
        "id": "ZaW6ckPS7V68"
      },
      "execution_count": null,
      "outputs": []
    },
    {
      "cell_type": "code",
      "metadata": {
        "id": "H5xEdEmTVO3e",
        "outputId": "42dba23d-6df5-4367-ea36-726921c16396"
      },
      "source": [
        "np.r_[x, x+8, x+16]"
      ],
      "execution_count": null,
      "outputs": [
        {
          "output_type": "execute_result",
          "data": {
            "text/plain": [
              "array([[ 0,  1,  2,  3],\n",
              "       [ 4,  5,  6,  7],\n",
              "       [ 8,  9, 10, 11],\n",
              "       [12, 13, 14, 15],\n",
              "       [16, 17, 18, 19],\n",
              "       [20, 21, 22, 23]])"
            ]
          },
          "metadata": {
            "tags": []
          },
          "execution_count": 137
        }
      ]
    },
    {
      "cell_type": "code",
      "metadata": {
        "colab": {
          "base_uri": "https://localhost:8080/"
        },
        "id": "F7Kfzf8lVO3j",
        "outputId": "a6f0fe49-9c48-4f45-898d-d71d572c198a"
      },
      "source": [
        "np.r_[x, x[1:]]\n",
        "#a = np.array([1,2,4,5,6])\n",
        "#print(a)\n",
        "#aux2=a[1:].copy()\n",
        "#aux2.append(0)\n",
        "#np.r_[a,a[1:]+[0]].reshape(2,5)"
      ],
      "execution_count": null,
      "outputs": [
        {
          "output_type": "execute_result",
          "data": {
            "text/plain": [
              "array([[0, 1, 2, 3],\n",
              "       [4, 5, 6, 7],\n",
              "       [4, 5, 6, 7]])"
            ]
          },
          "metadata": {
            "tags": []
          },
          "execution_count": 130
        }
      ]
    },
    {
      "cell_type": "code",
      "metadata": {
        "colab": {
          "base_uri": "https://localhost:8080/"
        },
        "id": "QRzcse5hVO3l",
        "outputId": "6c9dd112-95c9-4f81-971b-9c8be5bdf01e"
      },
      "source": [
        "np.c_[x, x+8, x+16]"
      ],
      "execution_count": null,
      "outputs": [
        {
          "output_type": "execute_result",
          "data": {
            "text/plain": [
              "array([[ 0,  1,  2,  3,  8,  9, 10, 11, 16, 17, 18, 19],\n",
              "       [ 4,  5,  6,  7, 12, 13, 14, 15, 20, 21, 22, 23]])"
            ]
          },
          "metadata": {
            "tags": []
          },
          "execution_count": 131
        }
      ]
    },
    {
      "cell_type": "code",
      "metadata": {
        "id": "WTZwOwSkVO3t"
      },
      "source": [
        ""
      ],
      "execution_count": null,
      "outputs": []
    },
    {
      "cell_type": "code",
      "metadata": {
        "colab": {
          "base_uri": "https://localhost:8080/"
        },
        "id": "uFtktWY5VO3v",
        "outputId": "0797eaab-bd8e-4baf-ad4a-b53440fdd522"
      },
      "source": [
        "a = np.array([1,2,3])\n",
        "print(a)\n",
        "a.shape"
      ],
      "execution_count": null,
      "outputs": [
        {
          "output_type": "stream",
          "text": [
            "[1 2 3]\n"
          ],
          "name": "stdout"
        },
        {
          "output_type": "execute_result",
          "data": {
            "text/plain": [
              "(3,)"
            ]
          },
          "metadata": {
            "tags": []
          },
          "execution_count": 132
        }
      ]
    },
    {
      "cell_type": "code",
      "metadata": {
        "colab": {
          "base_uri": "https://localhost:8080/"
        },
        "id": "C7ZR-rWNVO3w",
        "outputId": "8ee38154-d0f4-49bf-bf09-22050c6538d7"
      },
      "source": [
        "aux2 = a[1:].copy()\n",
        "aux2"
      ],
      "execution_count": null,
      "outputs": [
        {
          "output_type": "execute_result",
          "data": {
            "text/plain": [
              "array([2, 3])"
            ]
          },
          "metadata": {
            "tags": []
          },
          "execution_count": 133
        }
      ]
    },
    {
      "cell_type": "code",
      "metadata": {
        "id": "AYRB-NxcVO3x",
        "outputId": "18df9379-6a33-4348-e4de-7ed6c27e16f5"
      },
      "source": [
        "a.T"
      ],
      "execution_count": null,
      "outputs": [
        {
          "output_type": "execute_result",
          "data": {
            "text/plain": [
              "array([1, 2, 3])"
            ]
          },
          "metadata": {
            "tags": []
          },
          "execution_count": 158
        }
      ]
    },
    {
      "cell_type": "code",
      "metadata": {
        "id": "SpyJ9EaZVO3y",
        "outputId": "85354e88-bec8-4259-c280-98d86d427c7b"
      },
      "source": [
        "b = np.array([[1,2,3]])\n",
        "print(b)\n",
        "b.shape"
      ],
      "execution_count": null,
      "outputs": [
        {
          "output_type": "stream",
          "text": [
            "[[1 2 3]]\n"
          ],
          "name": "stdout"
        },
        {
          "output_type": "execute_result",
          "data": {
            "text/plain": [
              "(1, 3)"
            ]
          },
          "metadata": {
            "tags": []
          },
          "execution_count": 160
        }
      ]
    },
    {
      "cell_type": "code",
      "metadata": {
        "id": "A72WDgF-VO37",
        "outputId": "d6fc5d15-ce27-4238-d9ed-ce95e48c40f3"
      },
      "source": [
        "b.T"
      ],
      "execution_count": null,
      "outputs": [
        {
          "output_type": "execute_result",
          "data": {
            "text/plain": [
              "array([[1],\n",
              "       [2],\n",
              "       [3]])"
            ]
          },
          "metadata": {
            "tags": []
          },
          "execution_count": 161
        }
      ]
    },
    {
      "cell_type": "code",
      "metadata": {
        "id": "229aNQabVO4F",
        "outputId": "2fc074db-0b2c-49c3-da56-3104569412b7"
      },
      "source": [
        "b.T.shape"
      ],
      "execution_count": null,
      "outputs": [
        {
          "output_type": "execute_result",
          "data": {
            "text/plain": [
              "(3, 1)"
            ]
          },
          "metadata": {
            "tags": []
          },
          "execution_count": 162
        }
      ]
    },
    {
      "cell_type": "code",
      "metadata": {
        "id": "rAso8lpLVO4J",
        "outputId": "ebad2352-32d6-4506-ca3e-67e1787c4406"
      },
      "source": [
        "c = np.array([[1],[2],[3]])\n",
        "print(c)\n",
        "c.shape"
      ],
      "execution_count": null,
      "outputs": [
        {
          "output_type": "stream",
          "text": [
            "[[1]\n",
            " [2]\n",
            " [3]]\n"
          ],
          "name": "stdout"
        },
        {
          "output_type": "execute_result",
          "data": {
            "text/plain": [
              "(3, 1)"
            ]
          },
          "metadata": {
            "tags": []
          },
          "execution_count": 163
        }
      ]
    },
    {
      "cell_type": "code",
      "metadata": {
        "id": "ENzgKPqFVO4M",
        "outputId": "82219531-08ea-4ef7-ebba-2c9da6513bc4"
      },
      "source": [
        "print(c.reshape(1,-1))"
      ],
      "execution_count": null,
      "outputs": [
        {
          "output_type": "stream",
          "text": [
            "[[1 2 3]]\n"
          ],
          "name": "stdout"
        }
      ]
    },
    {
      "cell_type": "code",
      "metadata": {
        "id": "8K07KEHyVO4N",
        "outputId": "47a8d657-e021-4904-aa08-3c4b2419d0d7"
      },
      "source": [
        "print(c.reshape(-1))"
      ],
      "execution_count": null,
      "outputs": [
        {
          "output_type": "stream",
          "text": [
            "[1 2 3]\n"
          ],
          "name": "stdout"
        }
      ]
    },
    {
      "cell_type": "code",
      "metadata": {
        "id": "LlqDSjMxVO4O"
      },
      "source": [
        ""
      ],
      "execution_count": null,
      "outputs": []
    },
    {
      "cell_type": "code",
      "metadata": {
        "id": "8P-SKhhRVO4U",
        "outputId": "4c9c61fa-f908-4454-a47d-4f5f2456791c"
      },
      "source": [
        "x"
      ],
      "execution_count": null,
      "outputs": [
        {
          "output_type": "execute_result",
          "data": {
            "text/plain": [
              "array([[0, 1, 2, 3],\n",
              "       [4, 5, 6, 7]])"
            ]
          },
          "metadata": {
            "tags": []
          },
          "execution_count": 168
        }
      ]
    },
    {
      "cell_type": "code",
      "metadata": {
        "id": "xkBmLLM7VO4V",
        "outputId": "2d888d17-d668-47eb-d6a8-0b7f30510b62"
      },
      "source": [
        "x[0]"
      ],
      "execution_count": null,
      "outputs": [
        {
          "output_type": "execute_result",
          "data": {
            "text/plain": [
              "array([0, 1, 2, 3])"
            ]
          },
          "metadata": {
            "tags": []
          },
          "execution_count": 169
        }
      ]
    },
    {
      "cell_type": "code",
      "metadata": {
        "id": "4f7VNIJ5VO4a",
        "outputId": "485fbc19-17f7-4093-f3bb-b1bc7d36bae2"
      },
      "source": [
        "x[0,:]"
      ],
      "execution_count": null,
      "outputs": [
        {
          "output_type": "execute_result",
          "data": {
            "text/plain": [
              "array([0, 1, 2, 3])"
            ]
          },
          "metadata": {
            "tags": []
          },
          "execution_count": 170
        }
      ]
    },
    {
      "cell_type": "code",
      "metadata": {
        "id": "R-kqGAXIVO4b",
        "outputId": "00b19749-c529-4b96-f82d-611110a86cfa"
      },
      "source": [
        "x[:,0]"
      ],
      "execution_count": null,
      "outputs": [
        {
          "output_type": "execute_result",
          "data": {
            "text/plain": [
              "array([0, 4])"
            ]
          },
          "metadata": {
            "tags": []
          },
          "execution_count": 171
        }
      ]
    },
    {
      "cell_type": "code",
      "metadata": {
        "id": "LqujVqvSVO4i",
        "outputId": "5aaf77c7-ec18-4808-b89b-bc2606a9065f"
      },
      "source": [
        "x[:,[1,2,0,0,0,2]]"
      ],
      "execution_count": null,
      "outputs": [
        {
          "output_type": "execute_result",
          "data": {
            "text/plain": [
              "array([[1, 2, 0, 0, 0, 2],\n",
              "       [5, 6, 4, 4, 4, 6]])"
            ]
          },
          "metadata": {
            "tags": []
          },
          "execution_count": 172
        }
      ]
    },
    {
      "cell_type": "code",
      "metadata": {
        "id": "7nZeW5ahVO4j",
        "outputId": "98f82128-8d72-4b90-ad9e-8d0f6618524f"
      },
      "source": [
        "x[[1,0,1],:]"
      ],
      "execution_count": null,
      "outputs": [
        {
          "output_type": "execute_result",
          "data": {
            "text/plain": [
              "array([[4, 5, 6, 7],\n",
              "       [0, 1, 2, 3],\n",
              "       [4, 5, 6, 7]])"
            ]
          },
          "metadata": {
            "tags": []
          },
          "execution_count": 149
        }
      ]
    },
    {
      "cell_type": "code",
      "metadata": {
        "id": "nBm2bRVtVO4k",
        "outputId": "3598ace0-31a1-4669-c9b2-5ad50f91d45a"
      },
      "source": [
        "x[:,0]"
      ],
      "execution_count": null,
      "outputs": [
        {
          "output_type": "execute_result",
          "data": {
            "text/plain": [
              "array([0, 4])"
            ]
          },
          "metadata": {
            "tags": []
          },
          "execution_count": 173
        }
      ]
    },
    {
      "cell_type": "code",
      "metadata": {
        "id": "SA6vSHAuVO4o",
        "outputId": "658189d6-9388-46b6-d26d-13fe387b5404"
      },
      "source": [
        "x[:,[0]]"
      ],
      "execution_count": null,
      "outputs": [
        {
          "output_type": "execute_result",
          "data": {
            "text/plain": [
              "array([[0],\n",
              "       [4]])"
            ]
          },
          "metadata": {
            "tags": []
          },
          "execution_count": 175
        }
      ]
    },
    {
      "cell_type": "code",
      "metadata": {
        "id": "9Ix2NVMxVO4v"
      },
      "source": [
        ""
      ],
      "execution_count": null,
      "outputs": []
    },
    {
      "cell_type": "code",
      "metadata": {
        "colab": {
          "base_uri": "https://localhost:8080/"
        },
        "id": "go98368JVO4w",
        "outputId": "68c06fe3-86ff-4b9f-85a2-4f3a56cbe4d8"
      },
      "source": [
        "b = np.array([0,1,2])\n",
        "b"
      ],
      "execution_count": null,
      "outputs": [
        {
          "output_type": "execute_result",
          "data": {
            "text/plain": [
              "array([0, 1, 2])"
            ]
          },
          "metadata": {
            "tags": []
          },
          "execution_count": 135
        }
      ]
    },
    {
      "cell_type": "code",
      "metadata": {
        "colab": {
          "base_uri": "https://localhost:8080/"
        },
        "id": "pstSdqkjVO4y",
        "outputId": "5b15e1fe-2285-44e9-aa56-688d40519090"
      },
      "source": [
        "A = np.array([[0,1,2],[3,4,5]])\n",
        "A"
      ],
      "execution_count": null,
      "outputs": [
        {
          "output_type": "execute_result",
          "data": {
            "text/plain": [
              "array([[0, 1, 2],\n",
              "       [3, 4, 5]])"
            ]
          },
          "metadata": {
            "tags": []
          },
          "execution_count": 134
        }
      ]
    },
    {
      "cell_type": "code",
      "metadata": {
        "colab": {
          "base_uri": "https://localhost:8080/"
        },
        "id": "Oz8w3g-pVO41",
        "outputId": "c85cec48-fea9-4f07-c360-f961bdd74f30"
      },
      "source": [
        "A @ b #no.dot()"
      ],
      "execution_count": null,
      "outputs": [
        {
          "output_type": "execute_result",
          "data": {
            "text/plain": [
              "array([ 5, 14])"
            ]
          },
          "metadata": {
            "tags": []
          },
          "execution_count": 136
        }
      ]
    },
    {
      "cell_type": "code",
      "metadata": {
        "id": "PkSsw8YBVO5A"
      },
      "source": [
        "c = np.array([10,20])"
      ],
      "execution_count": null,
      "outputs": []
    },
    {
      "cell_type": "code",
      "metadata": {
        "colab": {
          "base_uri": "https://localhost:8080/"
        },
        "id": "UXQRgAPeVO5B",
        "outputId": "fcb6e14b-4419-4f77-fe85-38f00a8f77b2"
      },
      "source": [
        "c @ A"
      ],
      "execution_count": null,
      "outputs": [
        {
          "output_type": "execute_result",
          "data": {
            "text/plain": [
              "array([ 60,  90, 120])"
            ]
          },
          "metadata": {
            "tags": []
          },
          "execution_count": 138
        }
      ]
    },
    {
      "cell_type": "code",
      "metadata": {
        "id": "N5ZBUXklVO5D"
      },
      "source": [
        ""
      ],
      "execution_count": null,
      "outputs": []
    },
    {
      "cell_type": "code",
      "metadata": {
        "colab": {
          "base_uri": "https://localhost:8080/"
        },
        "id": "Q_4f2e1xVO5H",
        "outputId": "cc466261-f195-423a-fb47-31428e146fe4"
      },
      "source": [
        "B = 3*A.T\n",
        "B"
      ],
      "execution_count": null,
      "outputs": [
        {
          "output_type": "execute_result",
          "data": {
            "text/plain": [
              "array([[ 0,  9],\n",
              "       [ 3, 12],\n",
              "       [ 6, 15]])"
            ]
          },
          "metadata": {
            "tags": []
          },
          "execution_count": 139
        }
      ]
    },
    {
      "cell_type": "code",
      "metadata": {
        "id": "VVNkpG_nVO5J",
        "outputId": "529a85d4-c724-4d29-f378-5755c26e6b58"
      },
      "source": [
        "A @ B"
      ],
      "execution_count": null,
      "outputs": [
        {
          "output_type": "execute_result",
          "data": {
            "text/plain": [
              "array([[ 15,  42],\n",
              "       [ 42, 150]])"
            ]
          },
          "metadata": {
            "tags": []
          },
          "execution_count": 184
        }
      ]
    },
    {
      "cell_type": "code",
      "metadata": {
        "id": "QEMYJpq3VO5O"
      },
      "source": [
        ""
      ],
      "execution_count": null,
      "outputs": []
    },
    {
      "cell_type": "code",
      "metadata": {
        "id": "ezRrKGWwVO5O"
      },
      "source": [
        "import matplotlib.pyplot as plt\n",
        "%matplotlib inline"
      ],
      "execution_count": null,
      "outputs": []
    },
    {
      "cell_type": "code",
      "metadata": {
        "id": "JdoZ1G01VO5P",
        "outputId": "770289ec-b454-4aaf-d234-7cc9031479bb"
      },
      "source": [
        "v = np.ones(4)\n",
        "v"
      ],
      "execution_count": null,
      "outputs": [
        {
          "output_type": "execute_result",
          "data": {
            "text/plain": [
              "array([1., 1., 1., 1.])"
            ]
          },
          "metadata": {
            "tags": []
          },
          "execution_count": 186
        }
      ]
    },
    {
      "cell_type": "code",
      "metadata": {
        "id": "Cszvy8xjVO5Q",
        "outputId": "87d583aa-efe8-4214-ec45-d02ca4676613"
      },
      "source": [
        "v = np.ones((1,4))\n",
        "v"
      ],
      "execution_count": null,
      "outputs": [
        {
          "output_type": "execute_result",
          "data": {
            "text/plain": [
              "array([[1., 1., 1., 1.]])"
            ]
          },
          "metadata": {
            "tags": []
          },
          "execution_count": 188
        }
      ]
    },
    {
      "cell_type": "code",
      "metadata": {
        "id": "2r0ccxVXVO5T",
        "outputId": "e651a6a4-68c4-4f83-fcb4-cdaec669aa31"
      },
      "source": [
        "v = np.ones((4,1))\n",
        "v"
      ],
      "execution_count": null,
      "outputs": [
        {
          "output_type": "execute_result",
          "data": {
            "text/plain": [
              "array([[1.],\n",
              "       [1.],\n",
              "       [1.],\n",
              "       [1.]])"
            ]
          },
          "metadata": {
            "tags": []
          },
          "execution_count": 189
        }
      ]
    },
    {
      "cell_type": "code",
      "metadata": {
        "id": "czY6JJ8fVO5b",
        "outputId": "04b90ea2-b58b-4df7-b3ff-863577d17b1b"
      },
      "source": [
        "v = np.zeros((2,3))\n",
        "v"
      ],
      "execution_count": null,
      "outputs": [
        {
          "output_type": "execute_result",
          "data": {
            "text/plain": [
              "array([[0., 0., 0.],\n",
              "       [0., 0., 0.]])"
            ]
          },
          "metadata": {
            "tags": []
          },
          "execution_count": 190
        }
      ]
    },
    {
      "cell_type": "markdown",
      "metadata": {
        "id": "3GPrDSUlVO5d"
      },
      "source": [
        "#### Broadcasting\n",
        "\n",
        "Veja mais em:\n",
        "- https://numpy.org/doc/stable/user/basics.broadcasting.html\n",
        "- http://scipy-lectures.org/intro/numpy/operations.html#broadcasting"
      ]
    },
    {
      "cell_type": "code",
      "metadata": {
        "colab": {
          "base_uri": "https://localhost:8080/"
        },
        "id": "6hhkbk55VO5l",
        "outputId": "4655ff7e-b9c9-4a06-e406-c51d3bc100b9"
      },
      "source": [
        "v = np.arange(4).reshape(1,4)\n",
        "v"
      ],
      "execution_count": null,
      "outputs": [
        {
          "output_type": "execute_result",
          "data": {
            "text/plain": [
              "array([[0, 1, 2, 3]])"
            ]
          },
          "metadata": {},
          "execution_count": 211
        }
      ]
    },
    {
      "cell_type": "code",
      "metadata": {
        "colab": {
          "base_uri": "https://localhost:8080/"
        },
        "id": "Ol4h8ZHHVO5n",
        "outputId": "a65c4d5e-af86-4c30-bf9c-8b0fa486e4d9"
      },
      "source": [
        "v + 10"
      ],
      "execution_count": null,
      "outputs": [
        {
          "output_type": "execute_result",
          "data": {
            "text/plain": [
              "array([[10, 11, 12, 13]])"
            ]
          },
          "metadata": {},
          "execution_count": 212
        }
      ]
    },
    {
      "cell_type": "code",
      "metadata": {
        "colab": {
          "base_uri": "https://localhost:8080/"
        },
        "id": "tietpnDWVO5q",
        "outputId": "dc6e30f0-ac86-420e-e433-fa3af7295bb3"
      },
      "source": [
        "v.T"
      ],
      "execution_count": null,
      "outputs": [
        {
          "output_type": "execute_result",
          "data": {
            "text/plain": [
              "array([[0],\n",
              "       [1],\n",
              "       [2],\n",
              "       [3]])"
            ]
          },
          "metadata": {},
          "execution_count": 213
        }
      ]
    },
    {
      "cell_type": "code",
      "metadata": {
        "colab": {
          "base_uri": "https://localhost:8080/"
        },
        "id": "qHlef2NJVO57",
        "outputId": "6acd5faf-9cb6-40ec-e107-15db828dbb7e"
      },
      "source": [
        "# por que isso acontece?\n",
        "v + v.T"
      ],
      "execution_count": null,
      "outputs": [
        {
          "output_type": "execute_result",
          "data": {
            "text/plain": [
              "array([[0, 1, 2, 3],\n",
              "       [1, 2, 3, 4],\n",
              "       [2, 3, 4, 5],\n",
              "       [3, 4, 5, 6]])"
            ]
          },
          "metadata": {},
          "execution_count": 214
        }
      ]
    },
    {
      "cell_type": "code",
      "metadata": {
        "colab": {
          "base_uri": "https://localhost:8080/"
        },
        "id": "M-qk6WUDVO59",
        "outputId": "ac51d6ab-e4f6-4267-ecd2-6220914e4512"
      },
      "source": [
        "M = np.arange(8).reshape(2,-1)\n",
        "M"
      ],
      "execution_count": null,
      "outputs": [
        {
          "output_type": "execute_result",
          "data": {
            "text/plain": [
              "array([[0, 1, 2, 3],\n",
              "       [4, 5, 6, 7]])"
            ]
          },
          "metadata": {},
          "execution_count": 215
        }
      ]
    },
    {
      "cell_type": "code",
      "metadata": {
        "colab": {
          "base_uri": "https://localhost:8080/"
        },
        "id": "w15NU69KVO5-",
        "outputId": "1457745a-79be-4b40-8d3a-7365723b14f2"
      },
      "source": [
        "M + v"
      ],
      "execution_count": null,
      "outputs": [
        {
          "output_type": "execute_result",
          "data": {
            "text/plain": [
              "array([[ 0,  2,  4,  6],\n",
              "       [ 4,  6,  8, 10]])"
            ]
          },
          "metadata": {},
          "execution_count": 216
        }
      ]
    },
    {
      "cell_type": "code",
      "metadata": {
        "colab": {
          "base_uri": "https://localhost:8080/",
          "height": 165
        },
        "id": "RWjHdZ2-VO6A",
        "outputId": "659ee8d9-6491-4e85-8649-d79a94cdf96a"
      },
      "source": [
        "M + v.T"
      ],
      "execution_count": null,
      "outputs": [
        {
          "output_type": "error",
          "ename": "ValueError",
          "evalue": "ignored",
          "traceback": [
            "\u001b[0;31m---------------------------------------------------------------------------\u001b[0m",
            "\u001b[0;31mValueError\u001b[0m                                Traceback (most recent call last)",
            "\u001b[0;32m<ipython-input-217-1a7981558e60>\u001b[0m in \u001b[0;36m<module>\u001b[0;34m()\u001b[0m\n\u001b[0;32m----> 1\u001b[0;31m \u001b[0mM\u001b[0m \u001b[0;34m+\u001b[0m \u001b[0mv\u001b[0m\u001b[0;34m.\u001b[0m\u001b[0mT\u001b[0m\u001b[0;34m\u001b[0m\u001b[0;34m\u001b[0m\u001b[0m\n\u001b[0m",
            "\u001b[0;31mValueError\u001b[0m: operands could not be broadcast together with shapes (2,4) (4,1) "
          ]
        }
      ]
    },
    {
      "cell_type": "code",
      "metadata": {
        "id": "w_K1YS6sVO6C"
      },
      "source": [
        "v = np.arange(4)\n",
        "v"
      ],
      "execution_count": null,
      "outputs": []
    },
    {
      "cell_type": "code",
      "metadata": {
        "id": "ZFH1SCJxVO6D"
      },
      "source": [
        "M + v"
      ],
      "execution_count": null,
      "outputs": []
    },
    {
      "cell_type": "code",
      "metadata": {
        "id": "MdnX1xlXVO6E"
      },
      "source": [
        "v = np.arange(2)\n",
        "v"
      ],
      "execution_count": null,
      "outputs": []
    },
    {
      "cell_type": "code",
      "metadata": {
        "id": "VjeGVuHPVO6F"
      },
      "source": [
        "M + v"
      ],
      "execution_count": null,
      "outputs": []
    },
    {
      "cell_type": "markdown",
      "metadata": {
        "id": "gU23T0kqVO6N"
      },
      "source": [
        "## Matplotlib"
      ]
    },
    {
      "cell_type": "code",
      "metadata": {
        "id": "K5b5Tu7NVO6O"
      },
      "source": [
        "import matplotlib.pyplot as plt\n",
        "%matplotlib inline"
      ],
      "execution_count": null,
      "outputs": []
    },
    {
      "cell_type": "code",
      "metadata": {
        "id": "n8j18sALVO6P"
      },
      "source": [
        "x = np.linspace(0,1,10)"
      ],
      "execution_count": null,
      "outputs": []
    },
    {
      "cell_type": "code",
      "metadata": {
        "colab": {
          "base_uri": "https://localhost:8080/",
          "height": 295
        },
        "id": "3t_NJh5pVO6R",
        "outputId": "413e7179-a44a-44b7-e8c6-9f355e630827"
      },
      "source": [
        "plt.plot(x, x**2, 'b.-', label='quadrado')\n",
        "plt.plot(x, np.sqrt(x), 'r.-', label='raiz quadrada')\n",
        "plt.xlabel('x');\n",
        "plt.ylabel('y');\n",
        "plt.title('Título');\n",
        "plt.legend();\n",
        "plt.show()"
      ],
      "execution_count": null,
      "outputs": [
        {
          "output_type": "display_data",
          "data": {
            "image/png": "[encoded data removed]",
            "text/plain": [
              "<Figure size 432x288 with 1 Axes>"
            ]
          },
          "metadata": {
            "tags": [],
            "needs_background": "light"
          }
        }
      ]
    },
    {
      "cell_type": "code",
      "metadata": {
        "colab": {
          "base_uri": "https://localhost:8080/",
          "height": 254
        },
        "id": "RWa1axjqVO6T",
        "outputId": "651d43fa-b1a2-44c1-e1a4-e7f0b8dea8bd"
      },
      "source": [
        "image = np.random.randn(200,200)\n",
        "plt.imshow(image, cmap=plt.cm.gray)\n",
        "plt.colorbar()\n",
        "plt.axis('off');"
      ],
      "execution_count": null,
      "outputs": [
        {
          "output_type": "display_data",
          "data": {
            "image/png": "[encoded data removed]",
            "text/plain": [
              "<Figure size 432x288 with 2 Axes>"
            ]
          },
          "metadata": {
            "tags": [],
            "needs_background": "light"
          }
        }
      ]
    },
    {
      "cell_type": "markdown",
      "metadata": {
        "id": "NlJqsVFzVO6b"
      },
      "source": [
        "#### Mais\n",
        "- NumPy (https://numpy.org/doc/stable/user/quickstart.html#less-basic), por exemplo *Indexing with Boolean Arrays*\n",
        "- Pandas\n",
        "- JupyterLab"
      ]
    },
    {
      "cell_type": "markdown",
      "metadata": {
        "id": "-7Eoc6eRVO6e"
      },
      "source": [
        "## OpenCV"
      ]
    },
    {
      "cell_type": "code",
      "metadata": {
        "id": "f0Xt2Zz0VO6m"
      },
      "source": [
        "import cv2"
      ],
      "execution_count": null,
      "outputs": []
    },
    {
      "cell_type": "code",
      "metadata": {
        "id": "VI8KHIKBVO6o"
      },
      "source": [
        "img = cv2.imread('data/cmyk_paint.png',1)"
      ],
      "execution_count": null,
      "outputs": []
    },
    {
      "cell_type": "markdown",
      "metadata": {
        "id": "2QY2ABW0VO6p"
      },
      "source": [
        "Não use ícone `X vermelho` para fechar a janela da imagem, isso irá travar o kernel do Jupyter. Para fechar uma imagem, use aperte alguma tecla (ex: epaço ou enter)."
      ]
    },
    {
      "cell_type": "code",
      "metadata": {
        "id": "0TBO_8tiVO6q",
        "colab": {
          "base_uri": "https://localhost:8080/",
          "height": 442
        },
        "outputId": "b5bbc03f-9df8-4d12-e874-02900a17e8a8"
      },
      "source": [
        "from google.colab.patches import cv2_imshow\n",
        "cv2_imshow(img)\n",
        "cv2.waitKey(0)\n",
        "cv2.destroyAllWindows()"
      ],
      "execution_count": null,
      "outputs": [
        {
          "output_type": "display_data",
          "data": {
            "image/png": "[encoded data removed]",
            "text/plain": [
              "<PIL.Image.Image image mode=RGB size=425x425 at 0x7FC54A382C50>"
            ]
          },
          "metadata": {
            "tags": []
          }
        }
      ]
    },
    {
      "cell_type": "markdown",
      "metadata": {
        "id": "5Acs5pbFVO6r"
      },
      "source": [
        "#### Observação\n",
        "\n",
        "No Google Colab, você defe importar a `cv2_imshow` para poder exibir uma imagem, caso contrário você irá travar o kernel do Colab.\n",
        "\n",
        "use:\n",
        "\n",
        "`from google.colab.patches import cv2_imshow`\n",
        "\n",
        "...\n",
        "\n",
        "`img = cv2.imread(<imagem>,0)`\n",
        "\n",
        "....\n",
        "\n",
        "`cv2_imshow(img) \n",
        "cv2.waitKey(0)\n",
        "cv2.destroyAllWindows()`"
      ]
    },
    {
      "cell_type": "code",
      "metadata": {
        "colab": {
          "base_uri": "https://localhost:8080/",
          "height": 166
        },
        "id": "zL1WEn3KVO6s",
        "outputId": "5ca4730d-7702-4230-93d0-351cdf314bde"
      },
      "source": [
        "type(img)"
      ],
      "execution_count": null,
      "outputs": [
        {
          "output_type": "error",
          "ename": "NameError",
          "evalue": "ignored",
          "traceback": [
            "\u001b[0;31m---------------------------------------------------------------------------\u001b[0m",
            "\u001b[0;31mNameError\u001b[0m                                 Traceback (most recent call last)",
            "\u001b[0;32m<ipython-input-151-a85b415ea517>\u001b[0m in \u001b[0;36m<module>\u001b[0;34m()\u001b[0m\n\u001b[0;32m----> 1\u001b[0;31m \u001b[0mtype\u001b[0m\u001b[0;34m(\u001b[0m\u001b[0mimg\u001b[0m\u001b[0;34m)\u001b[0m\u001b[0;34m\u001b[0m\u001b[0;34m\u001b[0m\u001b[0m\n\u001b[0m",
            "\u001b[0;31mNameError\u001b[0m: name 'img' is not defined"
          ]
        }
      ]
    },
    {
      "cell_type": "code",
      "metadata": {
        "colab": {
          "base_uri": "https://localhost:8080/",
          "height": 166
        },
        "id": "lmDQayL9VO6t",
        "outputId": "4826c498-11a1-46c4-9133-f580ec976e3f"
      },
      "source": [
        "img.shape  #lembrando que retorna (linhas, colunas)"
      ],
      "execution_count": null,
      "outputs": [
        {
          "output_type": "error",
          "ename": "NameError",
          "evalue": "ignored",
          "traceback": [
            "\u001b[0;31m---------------------------------------------------------------------------\u001b[0m",
            "\u001b[0;31mNameError\u001b[0m                                 Traceback (most recent call last)",
            "\u001b[0;32m<ipython-input-152-d0e9d7f9d93d>\u001b[0m in \u001b[0;36m<module>\u001b[0;34m()\u001b[0m\n\u001b[0;32m----> 1\u001b[0;31m \u001b[0mimg\u001b[0m\u001b[0;34m.\u001b[0m\u001b[0mshape\u001b[0m  \u001b[0;31m#lembrando que retorna (linhas, colunas)\u001b[0m\u001b[0;34m\u001b[0m\u001b[0;34m\u001b[0m\u001b[0m\n\u001b[0m",
            "\u001b[0;31mNameError\u001b[0m: name 'img' is not defined"
          ]
        }
      ]
    },
    {
      "cell_type": "code",
      "metadata": {
        "id": "_ombQ9h8VO6u"
      },
      "source": [
        "cv2.imwrite('data/img_after_save.png', img)"
      ],
      "execution_count": null,
      "outputs": []
    },
    {
      "cell_type": "code",
      "metadata": {
        "id": "pABaGfJ3VO62"
      },
      "source": [
        "B, G, R = cv2.split(img)"
      ],
      "execution_count": null,
      "outputs": []
    },
    {
      "cell_type": "code",
      "metadata": {
        "id": "RJ0ssq9cVO63"
      },
      "source": [
        "cv2.imshow(\"original\", img) \n",
        "cv2.waitKey(0) \n",
        "  \n",
        "cv2.imshow(\"blue\", B) \n",
        "cv2.waitKey(0) \n",
        "  \n",
        "cv2.imshow(\"Green\", G) \n",
        "cv2.waitKey(0) \n",
        "  \n",
        "cv2.imshow(\"red\", R) \n",
        "cv2.waitKey(0) \n",
        "  \n",
        "cv2.destroyAllWindows() "
      ],
      "execution_count": null,
      "outputs": []
    },
    {
      "cell_type": "code",
      "metadata": {
        "id": "6rLqJ5ZBVO64"
      },
      "source": [
        "image1 = cv2.imread('data/t1.jpg',0)  \n",
        "image2 = cv2.imread('data/t2.jpg',0) \n",
        " \n",
        "weightedSum = cv2.addWeighted(image1, 0.5, image2, 0.4, 0) \n",
        "\n",
        "cv2.imshow('Weighted Image', weightedSum) \n",
        "  \n",
        "cv2.waitKey(0)\n",
        "cv2.destroyAllWindows()  \n",
        "\n",
        "print(weightedSum)"
      ],
      "execution_count": null,
      "outputs": []
    },
    {
      "cell_type": "code",
      "metadata": {
        "id": "q5cq4Q04VO65"
      },
      "source": [
        "print(image1.shape)\n",
        "print(image2.shape)\n",
        "\n",
        "lines1, rows1 = image1.shape\n",
        "lines2, rows2 = image2.shape\n",
        "print(image1)"
      ],
      "execution_count": null,
      "outputs": []
    },
    {
      "cell_type": "code",
      "metadata": {
        "id": "Jm9FCFdXVO7F"
      },
      "source": [
        "import numpy as np\n",
        "\n",
        "image_aux = np.zeros([lines1, rows1])\n",
        "image_out = np.zeros([lines1, rows1])\n",
        "print(image_out.shape)\n",
        "for i in range(lines1):\n",
        "    for j in range(rows1):\n",
        "        image_aux[i][j] = 0.5*image1[i][j]+0.4*image2[i][j]\n",
        "\n",
        "#image_aux = 0.5*image1+0.4*image2\n",
        "        \n",
        "image_out = np.array(image_aux, dtype=np.uint8)\n",
        "print(image_out)\n",
        "cv2.imshow('Image Out', image_out) \n",
        "\n",
        "cv2.waitKey(0)\n",
        "cv2.destroyAllWindows()\n"
      ],
      "execution_count": null,
      "outputs": []
    },
    {
      "cell_type": "code",
      "metadata": {
        "id": "Cx6gOKoWVO7I"
      },
      "source": [
        "image1 = cv2.imread('data/t3.jpg',0)  \n",
        "image2 = cv2.imread('data/t4.jpg',0) \n",
        "   \n",
        "sub = cv2.subtract(image1, image2) \n",
        "  \n",
        "cv2.imshow('Subtracted Image', sub) \n",
        "\n",
        "cv2.waitKey(0)\n",
        "cv2.destroyAllWindows()  "
      ],
      "execution_count": null,
      "outputs": []
    },
    {
      "cell_type": "code",
      "metadata": {
        "id": "wliGlI6MVO7O"
      },
      "source": [
        "print(image1.shape)\n",
        "print(image2.shape)\n",
        "\n",
        "lines1, rows1 = image1.shape\n",
        "lines2, rows2 = image2.shape\n",
        "print(image1)"
      ],
      "execution_count": null,
      "outputs": []
    },
    {
      "cell_type": "code",
      "metadata": {
        "id": "qqtd5OB5VO7R"
      },
      "source": [
        "image_aux1 = np.zeros([lines1, rows1])\n",
        "image_out1 = np.zeros([lines1, rows1])\n",
        "\n",
        "print(image_out1.shape)\n",
        "\n",
        "for i in range(lines1):\n",
        "    for j in range(rows1):\n",
        "        if (int(image1[i][j])-int(image2[i][j]) >= 0) and (int(image1[i][j])-int(image2[i][j]) <= 255):\n",
        "            image_aux1[i][j] = int(image1[i][j])-int(image2[i][j])\n",
        "        else:\n",
        "            image_aux1[i][j] = 0\n",
        "        \n",
        "image_out1 = np.array(image_aux1, dtype=np.uint8)\n",
        "print(image_out1)\n",
        "cv2.imshow('Image Out', image_out1) \n",
        "  \n",
        "cv2.waitKey(0)\n",
        "cv2.destroyAllWindows()"
      ],
      "execution_count": null,
      "outputs": []
    },
    {
      "cell_type": "code",
      "metadata": {
        "id": "LpoBOgwtVO7g"
      },
      "source": [
        "imgColored = cv2.imread('data/t1.jpg')\n",
        "gray_img = cv2.cvtColor(imgColored, cv2.COLOR_BGR2GRAY)\n",
        "\n",
        "cv2.imshow('Image in', imgColored) \n",
        "cv2.waitKey(0)\n",
        "\n",
        "cv2.imshow('Image Out', gray_img)  \n",
        "cv2.waitKey(0)\n",
        "\n",
        "cv2.destroyAllWindows()"
      ],
      "execution_count": null,
      "outputs": []
    },
    {
      "cell_type": "code",
      "metadata": {
        "id": "7vSkekpLVO7i"
      },
      "source": [
        "image1 = cv2.imread('data/t5.png',0)  \n",
        "image2 = cv2.imread('data/t6.png',0) \n",
        "\n",
        "dest_and = cv2.bitwise_and(image1, image2, mask = None)\n",
        "\n",
        "cv2.imshow('AND Image', dest_and) \n",
        "\n",
        "cv2.waitKey(0)  \n",
        "cv2.destroyAllWindows()\n",
        "\n",
        "print(image1.shape)\n",
        "print(image2.shape)"
      ],
      "execution_count": null,
      "outputs": []
    },
    {
      "cell_type": "code",
      "metadata": {
        "id": "jOgjmFUlVO7n"
      },
      "source": [
        "lines1, rows1 = image1.shape\n",
        "lines2, rows2 = image2.shape\n",
        "\n",
        "image_aux = np.zeros([lines1, rows1])\n",
        "image_out = np.zeros([lines1, rows1])\n",
        "\n",
        "print(image_out.shape)\n",
        "for i in range(lines1):\n",
        "    for j in range(rows1):\n",
        "        image_aux[i][j] = image1[i][j] & image2[i][j]  # tente com OR: |, XOR: ^, NOT: ~\n",
        "\n",
        "#image_aux = image1 & image2\n",
        "\n",
        "image_out = np.array(image_aux, dtype=np.uint8)\n",
        "print(image_out)\n",
        "cv2.imshow('AND Image', image_out)\n",
        "\n",
        "cv2.waitKey(0)  \n",
        "cv2.destroyAllWindows()"
      ],
      "execution_count": null,
      "outputs": []
    },
    {
      "cell_type": "code",
      "metadata": {
        "id": "OcB-EqOBVO7p"
      },
      "source": [
        ""
      ],
      "execution_count": null,
      "outputs": []
    }
  ]
}