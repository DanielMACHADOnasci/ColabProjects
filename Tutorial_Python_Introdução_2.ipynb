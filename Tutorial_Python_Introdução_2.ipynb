{
  "cells": [
    {
      "cell_type": "markdown",
      "metadata": {
        "id": "view-in-github",
        "colab_type": "text"
      },
      "source": [
        "<a href=\"https://colab.research.google.com/github/VielF/ColabProjects/blob/main/Tutorial_Python_Introdu%C3%A7%C3%A3o_2.ipynb\" target=\"_parent\"><img src=\"https://colab.research.google.com/assets/colab-badge.svg\" alt=\"Open In Colab\"/></a>"
      ]
    },
    {
      "cell_type": "markdown",
      "metadata": {
        "id": "WriFIcN6p6rI"
      },
      "source": [
        "Universidade do Vale do Itajaí<br>\n",
        "Escola do Mar, Ciência e Tecnologia<br>\n",
        "Engenharia de Computação - Processamento Digital de Sinais: Imagens\n",
        "\n",
        "# Introdução a Jupyter, Python, NumPy e Scipy\n",
        "\n",
        "## Recursos úteis\n",
        "\n",
        "### Ambientes\n",
        "\n",
        "- Anaconda (instalação local): https://www.anaconda.com/products/individual#Downloads\n",
        "- Google Colab (nuvem): https://colab.research.google.com/\n",
        "- OpenCV: https://pypi.org/project/opencv-python/\n",
        "- Gimp: https://www.gimp.org\n",
        "\n",
        "### Tutoriais de Python\n",
        "\n",
        "- https://docs.python.org/3/tutorial/ (oficial)\n",
        "- https://www.kaggle.com/learn/python\n",
        "- https://www.tutorialspoint.com/python\n",
        "- https://www.pythonforbeginners.com/python-tutorial\n",
        "- https://colab.research.google.com/drive/1qH2RUurym6O-OGiHBgJp1bmMS8UNEjhx\n",
        "- https://www.youtube.com/results?search_query=python\n",
        "\n",
        "### Cursos de Python\n",
        "\n",
        "- https://www.coursera.org/learn/ciencia-computacao-python-conceitos\n",
        "- https://www.datacamp.com/courses/intro-to-python-for-data-science (pago)\n",
        "- https://www.codecademy.com/learn/learn-python-3 (pago?)\n",
        "- https://opencv.org/courses/#price\n",
        "\n",
        "### Tutoriais de Jupyter\n",
        "\n",
        "- https://medium.com/codingthesmartway-com-blog/getting-started-with-jupyter-notebook-for-python-4e7082bd5d46\n",
        "- https://www.dataquest.io/blog/jupyter-notebook-tutorial/\n",
        "- https://realpython.com/jupyter-notebook-introduction/\n",
        "- https://www.youtube.com/results?search_query=jupyter\n",
        "\n",
        "### Tutoriais de NumPy\n",
        "\n",
        "- https://cs231n.github.io/python-numpy-tutorial/\n",
        "- https://numpy.org/doc/stable/user/quickstart.html\n",
        "- http://scipy-lectures.org/intro/numpy/index.html\n",
        "\n",
        "### Tutoriais da OpenCV\n",
        "\n",
        "- https://docs.opencv.org/master/d9/df8/tutorial_root.html\n",
        "- https://www.geeksforgeeks.org/opencv-python-tutorial/\n",
        "\n",
        "### Outros tutoriais\n",
        "\n",
        "- Matplotlib: https://matplotlib.org/tutorials/introductory/pyplot.html\n",
        "- Pandas: https://pandas.pydata.org/pandas-docs/stable/user_guide/10min.html\n"
      ]
    },
    {
      "cell_type": "markdown",
      "metadata": {
        "id": "9nazrAewp6rL"
      },
      "source": [
        "## Markdown\n",
        "\n",
        "Podemos escrever em *itálico* ou **negrito** ou `largura fixa`, usar listas de bullets\n",
        "- item 1\n",
        "- item 2\n",
        "- item 3\n",
        "\n",
        "ou numeradas\n",
        "1. item 1\n",
        "1. item 2\n",
        "1. item 3\n",
        "\n",
        "e até mesmo usar equações em $\\LaTeX$, que podem ser inline ($f(x) = c_0 + c_1 x + c_2 x^2$) ou displayed:\n",
        "\n",
        "$$\n",
        "E = mc^2\n",
        "$$"
      ]
    },
    {
      "cell_type": "markdown",
      "metadata": {
        "id": "YPAyPR8dp6rL"
      },
      "source": [
        "Jupyter command pallete: `ctrl-shift-p`"
      ]
    },
    {
      "cell_type": "markdown",
      "metadata": {
        "id": "AFqeYpu0p6rM"
      },
      "source": [
        "## Python"
      ]
    },
    {
      "cell_type": "code",
      "execution_count": null,
      "metadata": {
        "colab": {
          "base_uri": "https://localhost:8080/"
        },
        "id": "Y4a7vK_Sp6rM",
        "outputId": "98048b65-3294-49f5-d360-2a060f872b7c"
      },
      "outputs": [
        {
          "output_type": "execute_result",
          "data": {
            "text/plain": [
              "4"
            ]
          },
          "metadata": {},
          "execution_count": 1
        }
      ],
      "source": [
        "2 + 2"
      ]
    },
    {
      "cell_type": "code",
      "execution_count": null,
      "metadata": {
        "colab": {
          "base_uri": "https://localhost:8080/"
        },
        "id": "u1ieqCwDp6rO",
        "outputId": "c1a7e419-3593-4b7a-a213-b2073fee81ea"
      },
      "outputs": [
        {
          "output_type": "execute_result",
          "data": {
            "text/plain": [
              "0.0"
            ]
          },
          "metadata": {},
          "execution_count": 3
        }
      ],
      "source": [
        "# comentário\n",
        "a = 0.\n",
        "x = 0\n",
        "x\n",
        "a"
      ]
    },
    {
      "cell_type": "code",
      "execution_count": null,
      "metadata": {
        "colab": {
          "base_uri": "https://localhost:8080/"
        },
        "id": "c58p9njip6rP",
        "outputId": "b27497ad-b721-4d74-8e81-65af58909bf5"
      },
      "outputs": [
        {
          "output_type": "execute_result",
          "data": {
            "text/plain": [
              "0.0"
            ]
          },
          "metadata": {},
          "execution_count": 4
        }
      ],
      "source": [
        "a"
      ]
    },
    {
      "cell_type": "code",
      "execution_count": null,
      "metadata": {
        "colab": {
          "base_uri": "https://localhost:8080/"
        },
        "id": "vxadQ_YJp6rP",
        "outputId": "9770fea5-3cf5-4225-895e-3339fdff1cff"
      },
      "outputs": [
        {
          "output_type": "execute_result",
          "data": {
            "text/plain": [
              "True"
            ]
          },
          "metadata": {},
          "execution_count": 5
        }
      ],
      "source": [
        "a == 0"
      ]
    },
    {
      "cell_type": "code",
      "execution_count": null,
      "metadata": {
        "colab": {
          "base_uri": "https://localhost:8080/"
        },
        "id": "-VZS2QV2p6rQ",
        "outputId": "c7126f36-60b4-4738-e9e1-1a1bb46906cf"
      },
      "outputs": [
        {
          "output_type": "stream",
          "name": "stdout",
          "text": [
            "<class 'float'>\n"
          ]
        }
      ],
      "source": [
        "print(type(a))"
      ]
    },
    {
      "cell_type": "code",
      "execution_count": null,
      "metadata": {
        "colab": {
          "base_uri": "https://localhost:8080/"
        },
        "id": "4nBVH_O2p6rQ",
        "outputId": "4e3ea7c2-5c39-4d73-a55d-32889a02ce41"
      },
      "outputs": [
        {
          "output_type": "execute_result",
          "data": {
            "text/plain": [
              "int"
            ]
          },
          "metadata": {},
          "execution_count": 7
        }
      ],
      "source": [
        "type(x)"
      ]
    },
    {
      "cell_type": "code",
      "execution_count": null,
      "metadata": {
        "id": "ThOqchAxp6rR"
      },
      "outputs": [],
      "source": [
        "b = .5"
      ]
    },
    {
      "cell_type": "code",
      "execution_count": null,
      "metadata": {
        "colab": {
          "base_uri": "https://localhost:8080/"
        },
        "id": "mey2Ysm9p6rR",
        "outputId": "c34585a6-41ce-4266-d59a-14a27983f90d"
      },
      "outputs": [
        {
          "output_type": "execute_result",
          "data": {
            "text/plain": [
              "0.5"
            ]
          },
          "metadata": {},
          "execution_count": 10
        }
      ],
      "source": [
        "b"
      ]
    },
    {
      "cell_type": "code",
      "execution_count": null,
      "metadata": {
        "colab": {
          "base_uri": "https://localhost:8080/"
        },
        "id": "xRM7TMRsp6rS",
        "outputId": "2a173721-9042-410f-8ba2-f8f560cd979f"
      },
      "outputs": [
        {
          "output_type": "execute_result",
          "data": {
            "text/plain": [
              "float"
            ]
          },
          "metadata": {},
          "execution_count": 11
        }
      ],
      "source": [
        "type(b)"
      ]
    },
    {
      "cell_type": "code",
      "execution_count": null,
      "metadata": {
        "colab": {
          "base_uri": "https://localhost:8080/"
        },
        "id": "DyQBMsC7p6rS",
        "outputId": "ff454543-73d0-471c-d872-71b1f9f87864"
      },
      "outputs": [
        {
          "output_type": "execute_result",
          "data": {
            "text/plain": [
              "False"
            ]
          },
          "metadata": {},
          "execution_count": 12
        }
      ],
      "source": [
        "b == 0"
      ]
    },
    {
      "cell_type": "code",
      "execution_count": null,
      "metadata": {
        "colab": {
          "base_uri": "https://localhost:8080/"
        },
        "id": "_BPfXztNp6rT",
        "outputId": "6d33cf86-cca0-493b-eef1-886b8f7851e2"
      },
      "outputs": [
        {
          "output_type": "stream",
          "name": "stdout",
          "text": [
            "5.5\n"
          ]
        }
      ],
      "source": [
        "a = 2\n",
        "b = 3.5\n",
        "c = a + b\n",
        "#2 + 3.5\n",
        "print(c)"
      ]
    },
    {
      "cell_type": "code",
      "execution_count": null,
      "metadata": {
        "colab": {
          "base_uri": "https://localhost:8080/"
        },
        "id": "0IlaLotWp6rT",
        "outputId": "56166637-43cc-48cf-992c-29f387f8a424"
      },
      "outputs": [
        {
          "output_type": "execute_result",
          "data": {
            "text/plain": [
              "1.5"
            ]
          },
          "metadata": {},
          "execution_count": 14
        }
      ],
      "source": [
        "saida = 3/2\n",
        "saida"
      ]
    },
    {
      "cell_type": "code",
      "execution_count": null,
      "metadata": {
        "colab": {
          "base_uri": "https://localhost:8080/"
        },
        "id": "ik-A_KWOp6rU",
        "outputId": "64f81bf9-24f8-41cd-fc6c-4376dffa10af"
      },
      "outputs": [
        {
          "output_type": "execute_result",
          "data": {
            "text/plain": [
              "2.0"
            ]
          },
          "metadata": {},
          "execution_count": 15
        }
      ],
      "source": [
        "d = 2\n",
        "float(d) # (float)d"
      ]
    },
    {
      "cell_type": "code",
      "execution_count": null,
      "metadata": {
        "id": "Sks0hk7lp6rU",
        "outputId": "ee8287cc-5a37-4ca0-9ed0-f6d4bc2dba08"
      },
      "outputs": [
        {
          "data": {
            "text/plain": [
              "1"
            ]
          },
          "execution_count": 15,
          "metadata": {},
          "output_type": "execute_result"
        }
      ],
      "source": [
        "int(1.8)"
      ]
    },
    {
      "cell_type": "code",
      "execution_count": null,
      "metadata": {
        "colab": {
          "base_uri": "https://localhost:8080/"
        },
        "id": "yQwO4xxVp6rV",
        "outputId": "fd82dfe4-80e8-4ab5-ae0f-5d915fce1738"
      },
      "outputs": [
        {
          "output_type": "execute_result",
          "data": {
            "text/plain": [
              "3.5"
            ]
          },
          "metadata": {},
          "execution_count": 16
        }
      ],
      "source": [
        "a\n",
        "b"
      ]
    },
    {
      "cell_type": "code",
      "execution_count": null,
      "metadata": {
        "colab": {
          "base_uri": "https://localhost:8080/"
        },
        "id": "3rRm_wmbp6rV",
        "outputId": "7bb98440-13fd-41d9-ae43-86bd4c439c0d"
      },
      "outputs": [
        {
          "output_type": "stream",
          "name": "stdout",
          "text": [
            "2\n",
            "3.5\n",
            "Var a:  2  Var b:  3.5\n"
          ]
        }
      ],
      "source": [
        "print(a)\n",
        "print(b)\n",
        "print(\"Var a: \",a,\" Var b: \",b)"
      ]
    },
    {
      "cell_type": "code",
      "execution_count": null,
      "metadata": {
        "scrolled": true,
        "id": "zoU9GCwYp6rW",
        "outputId": "98395548-2f60-4333-d126-760a58e8f6c6"
      },
      "outputs": [
        {
          "name": "stdout",
          "output_type": "stream",
          "text": [
            "True\n",
            "False\n"
          ]
        }
      ],
      "source": [
        "t = True\n",
        "f = False\n",
        "print(t or f) #não usa || e && #bitwise & | ^ ~\n",
        "print(t and f)"
      ]
    },
    {
      "cell_type": "code",
      "execution_count": null,
      "metadata": {
        "colab": {
          "base_uri": "https://localhost:8080/"
        },
        "id": "lLeifcChp6rW",
        "outputId": "afa20651-e461-4b6c-cc41-5249bd29bfba"
      },
      "outputs": [
        {
          "output_type": "execute_result",
          "data": {
            "text/plain": [
              "False"
            ]
          },
          "metadata": {},
          "execution_count": 18
        }
      ],
      "source": [
        "a > -1 and b < 2"
      ]
    },
    {
      "cell_type": "code",
      "execution_count": null,
      "metadata": {
        "colab": {
          "base_uri": "https://localhost:8080/",
          "height": 35
        },
        "id": "nvozsDejp6rX",
        "outputId": "687c5cc7-ca9c-4480-a6a9-b58e7c6a2f08"
      },
      "outputs": [
        {
          "output_type": "execute_result",
          "data": {
            "text/plain": [
              "'Hello world'"
            ],
            "application/vnd.google.colaboratory.intrinsic+json": {
              "type": "string"
            }
          },
          "metadata": {},
          "execution_count": 19
        }
      ],
      "source": [
        "s = 5\n",
        "s = 'Hello world'\n",
        "s"
      ]
    },
    {
      "cell_type": "code",
      "execution_count": null,
      "metadata": {
        "colab": {
          "base_uri": "https://localhost:8080/"
        },
        "id": "Uje3SmcAp6rX",
        "outputId": "679323b6-5cb5-499f-be4e-876f8da3a5eb"
      },
      "outputs": [
        {
          "output_type": "stream",
          "name": "stdout",
          "text": [
            "Hello world\n"
          ]
        }
      ],
      "source": [
        "print(s)"
      ]
    },
    {
      "cell_type": "code",
      "execution_count": null,
      "metadata": {
        "colab": {
          "base_uri": "https://localhost:8080/"
        },
        "id": "-OR6sKQbp6rX",
        "outputId": "7b6f9822-1a00-446f-807c-61e2eb8efbb0"
      },
      "outputs": [
        {
          "output_type": "execute_result",
          "data": {
            "text/plain": [
              "str"
            ]
          },
          "metadata": {},
          "execution_count": 21
        }
      ],
      "source": [
        "type(s)"
      ]
    },
    {
      "cell_type": "code",
      "execution_count": null,
      "metadata": {
        "colab": {
          "base_uri": "https://localhost:8080/",
          "height": 35
        },
        "id": "0WXPoRaXp6rY",
        "outputId": "e95d852f-f20f-459c-d176-1505c9c63e3e"
      },
      "outputs": [
        {
          "output_type": "execute_result",
          "data": {
            "text/plain": [
              "'Hello world'"
            ],
            "application/vnd.google.colaboratory.intrinsic+json": {
              "type": "string"
            }
          },
          "metadata": {},
          "execution_count": 22
        }
      ],
      "source": [
        "s = \"Hello world\"\n",
        "s"
      ]
    },
    {
      "cell_type": "code",
      "execution_count": null,
      "metadata": {
        "colab": {
          "base_uri": "https://localhost:8080/"
        },
        "id": "aE8fqoGTp6rY",
        "outputId": "7156cd89-194d-420f-e083-d5b7e3cb1892"
      },
      "outputs": [
        {
          "output_type": "stream",
          "name": "stdout",
          "text": [
            "it's interesting\n"
          ]
        }
      ],
      "source": [
        "s = \"it's interesting\"\n",
        "print(s)"
      ]
    },
    {
      "cell_type": "code",
      "execution_count": null,
      "metadata": {
        "id": "hkMG0kGAp6rY",
        "outputId": "a0e1d59a-c686-4db6-954b-3ba30193d75e"
      },
      "outputs": [
        {
          "data": {
            "text/plain": [
              "\"IT'S INTERESTING\""
            ]
          },
          "execution_count": 29,
          "metadata": {},
          "output_type": "execute_result"
        }
      ],
      "source": [
        "s.upper()"
      ]
    },
    {
      "cell_type": "code",
      "execution_count": null,
      "metadata": {
        "colab": {
          "base_uri": "https://localhost:8080/",
          "height": 53
        },
        "id": "58La2RrTp6rZ",
        "outputId": "ea5e1e66-2410-4999-b31e-7b34e60a1f22"
      },
      "outputs": [
        {
          "output_type": "stream",
          "name": "stdout",
          "text": [
            "this is interesting\n"
          ]
        },
        {
          "output_type": "execute_result",
          "data": {
            "text/plain": [
              "'this is interesting'"
            ],
            "application/vnd.google.colaboratory.intrinsic+json": {
              "type": "string"
            }
          },
          "metadata": {},
          "execution_count": 24
        }
      ],
      "source": [
        "str1 = 'this'\n",
        "str2 = ' is '\n",
        "str3 = 'interesting'\n",
        "str_res = str1 + str2 + str3\n",
        "print(str_res)\n",
        "'this' + ' is ' + 'interesting'"
      ]
    },
    {
      "cell_type": "code",
      "execution_count": null,
      "metadata": {
        "colab": {
          "base_uri": "https://localhost:8080/",
          "height": 35
        },
        "id": "fVQM_yJ7p6rZ",
        "outputId": "c5d7167d-cb4f-4ace-9681-04d11eb282e6"
      },
      "outputs": [
        {
          "output_type": "execute_result",
          "data": {
            "text/plain": [
              "'42.5'"
            ],
            "application/vnd.google.colaboratory.intrinsic+json": {
              "type": "string"
            }
          },
          "metadata": {},
          "execution_count": 25
        }
      ],
      "source": [
        "'42.5'"
      ]
    },
    {
      "cell_type": "code",
      "execution_count": null,
      "metadata": {
        "colab": {
          "base_uri": "https://localhost:8080/"
        },
        "id": "Qj1N9niHp6ra",
        "outputId": "aface019-20bd-4b5e-bff1-6e694a0274d7"
      },
      "outputs": [
        {
          "output_type": "execute_result",
          "data": {
            "text/plain": [
              "42"
            ]
          },
          "metadata": {},
          "execution_count": 26
        }
      ],
      "source": [
        "int(float('42.5'))"
      ]
    },
    {
      "cell_type": "code",
      "execution_count": null,
      "metadata": {
        "colab": {
          "base_uri": "https://localhost:8080/",
          "height": 35
        },
        "id": "cpZBZcYxp6ra",
        "outputId": "79a0a093-6222-4f48-e083-d58f37505c12"
      },
      "outputs": [
        {
          "output_type": "execute_result",
          "data": {
            "text/plain": [
              "'42.5'"
            ],
            "application/vnd.google.colaboratory.intrinsic+json": {
              "type": "string"
            }
          },
          "metadata": {},
          "execution_count": 27
        }
      ],
      "source": [
        "str(42.5)"
      ]
    },
    {
      "cell_type": "code",
      "execution_count": null,
      "metadata": {
        "colab": {
          "base_uri": "https://localhost:8080/"
        },
        "id": "17QDm2vep6ra",
        "outputId": "66833b90-411b-448c-8f1c-2102bb55d6ea"
      },
      "outputs": [
        {
          "output_type": "execute_result",
          "data": {
            "text/plain": [
              "(1+1j)"
            ]
          },
          "metadata": {},
          "execution_count": 28
        }
      ],
      "source": [
        "c = 1 + 1j\n",
        "c"
      ]
    },
    {
      "cell_type": "code",
      "execution_count": null,
      "metadata": {
        "colab": {
          "base_uri": "https://localhost:8080/"
        },
        "id": "oTXbO9B8p6ra",
        "outputId": "7440ace6-d357-4b96-fdb6-5639e3f499f3"
      },
      "outputs": [
        {
          "output_type": "execute_result",
          "data": {
            "text/plain": [
              "complex"
            ]
          },
          "metadata": {},
          "execution_count": 29
        }
      ],
      "source": [
        "type(c)"
      ]
    },
    {
      "cell_type": "code",
      "execution_count": null,
      "metadata": {
        "colab": {
          "base_uri": "https://localhost:8080/"
        },
        "id": "OIFIB4_Bp6rb",
        "outputId": "f3eac9dd-3194-46c8-d528-a79b0774bb3e"
      },
      "outputs": [
        {
          "output_type": "execute_result",
          "data": {
            "text/plain": [
              "(1-1j)"
            ]
          },
          "metadata": {},
          "execution_count": 30
        }
      ],
      "source": [
        "c.conjugate()"
      ]
    },
    {
      "cell_type": "code",
      "execution_count": null,
      "metadata": {
        "id": "WxHLZ7Xrp6rb"
      },
      "outputs": [],
      "source": [
        "def quadrado(x):\n",
        "    '''\n",
        "    Retorna x elevado ao quadrado\n",
        "    '''\n",
        "    y = x**2\n",
        "    return y"
      ]
    },
    {
      "cell_type": "code",
      "execution_count": null,
      "metadata": {
        "colab": {
          "base_uri": "https://localhost:8080/"
        },
        "id": "Z1eGV9Vrp6rc",
        "outputId": "9d258ecd-9a96-4ae0-d66f-e47d09833bcd"
      },
      "outputs": [
        {
          "output_type": "execute_result",
          "data": {
            "text/plain": [
              "9"
            ]
          },
          "metadata": {},
          "execution_count": 32
        }
      ],
      "source": [
        "quadrado(3)"
      ]
    },
    {
      "cell_type": "code",
      "execution_count": null,
      "metadata": {
        "colab": {
          "base_uri": "https://localhost:8080/"
        },
        "id": "XHZMsyxAp6rc",
        "outputId": "b2eb8b08-ab81-45b2-abc4-5f435a8c2c03"
      },
      "outputs": [
        {
          "output_type": "execute_result",
          "data": {
            "text/plain": [
              "function"
            ]
          },
          "metadata": {},
          "execution_count": 33
        }
      ],
      "source": [
        "type(quadrado)"
      ]
    },
    {
      "cell_type": "code",
      "execution_count": null,
      "metadata": {
        "id": "R-A5mGbkp6rc"
      },
      "outputs": [],
      "source": [
        "def quadrado(x, arred=False):\n",
        "    '''\n",
        "    Retorna x elevado ao quadrado,\n",
        "    opcionalmente arredondando para um inteiro\n",
        "    arred é bool\n",
        "    '''\n",
        "    if arred:\n",
        "        y = x**2\n",
        "        y = int(round(y))\n",
        "    else:\n",
        "        y = x**2        \n",
        "    return y"
      ]
    },
    {
      "cell_type": "code",
      "execution_count": null,
      "metadata": {
        "colab": {
          "base_uri": "https://localhost:8080/"
        },
        "id": "XNBEgOvmp6rd",
        "outputId": "120b6bd8-381f-4811-d4db-a383d6ec024a"
      },
      "outputs": [
        {
          "output_type": "execute_result",
          "data": {
            "text/plain": [
              "3"
            ]
          },
          "metadata": {},
          "execution_count": 35
        }
      ],
      "source": [
        "quadrado(1.75, arred=True)"
      ]
    },
    {
      "cell_type": "code",
      "execution_count": null,
      "metadata": {
        "colab": {
          "base_uri": "https://localhost:8080/"
        },
        "id": "d5haY8sLp6rd",
        "outputId": "122d8e6a-12b9-4fac-b9ff-967f481e65c8"
      },
      "outputs": [
        {
          "output_type": "execute_result",
          "data": {
            "text/plain": [
              "2"
            ]
          },
          "metadata": {},
          "execution_count": 36
        }
      ],
      "source": [
        "quadrado(1.5, arred=True)"
      ]
    },
    {
      "cell_type": "code",
      "execution_count": null,
      "metadata": {
        "id": "obETWCxnp6rd"
      },
      "outputs": [],
      "source": [
        "#shift-tab, shift-tab-tab\n",
        "quadrado?"
      ]
    },
    {
      "cell_type": "code",
      "execution_count": null,
      "metadata": {
        "id": "DGh31AT1p6rd"
      },
      "outputs": [],
      "source": []
    },
    {
      "cell_type": "code",
      "execution_count": null,
      "metadata": {
        "colab": {
          "base_uri": "https://localhost:8080/"
        },
        "id": "qXZ_MhPsp6re",
        "outputId": "2560aeb2-7009-44d0-a23b-1932aab9c42d"
      },
      "outputs": [
        {
          "output_type": "execute_result",
          "data": {
            "text/plain": [
              "[1, 'texto', 5.6]"
            ]
          },
          "metadata": {},
          "execution_count": 38
        }
      ],
      "source": [
        "L = [1, 'texto', 5.6]\n",
        "L"
      ]
    },
    {
      "cell_type": "code",
      "execution_count": null,
      "metadata": {
        "colab": {
          "base_uri": "https://localhost:8080/"
        },
        "id": "0BnDe-OUp6re",
        "outputId": "3af0b098-403c-4a37-ef3e-32ca331be0e6"
      },
      "outputs": [
        {
          "output_type": "execute_result",
          "data": {
            "text/plain": [
              "list"
            ]
          },
          "metadata": {},
          "execution_count": 39
        }
      ],
      "source": [
        "type(L)"
      ]
    },
    {
      "cell_type": "code",
      "execution_count": null,
      "metadata": {
        "colab": {
          "base_uri": "https://localhost:8080/"
        },
        "id": "lRdqk1fbp6re",
        "outputId": "90d73b98-6da7-495f-b77d-7e3610b76773"
      },
      "outputs": [
        {
          "output_type": "execute_result",
          "data": {
            "text/plain": [
              "1"
            ]
          },
          "metadata": {},
          "execution_count": 40
        }
      ],
      "source": [
        "L[0]"
      ]
    },
    {
      "cell_type": "code",
      "execution_count": null,
      "metadata": {
        "colab": {
          "base_uri": "https://localhost:8080/",
          "height": 35
        },
        "id": "Js9g5jT1p6rf",
        "outputId": "3a6c6f49-da37-4094-b046-36f482246507"
      },
      "outputs": [
        {
          "output_type": "execute_result",
          "data": {
            "text/plain": [
              "'texto'"
            ],
            "application/vnd.google.colaboratory.intrinsic+json": {
              "type": "string"
            }
          },
          "metadata": {},
          "execution_count": 41
        }
      ],
      "source": [
        "L[1]"
      ]
    },
    {
      "cell_type": "code",
      "execution_count": null,
      "metadata": {
        "colab": {
          "base_uri": "https://localhost:8080/"
        },
        "id": "thI5Pu6Gp6rf",
        "outputId": "e6faeb2c-04f4-4bdd-81a9-5a21908d1d3a"
      },
      "outputs": [
        {
          "output_type": "execute_result",
          "data": {
            "text/plain": [
              "5.6"
            ]
          },
          "metadata": {},
          "execution_count": 42
        }
      ],
      "source": [
        "L[2]"
      ]
    },
    {
      "cell_type": "code",
      "execution_count": null,
      "metadata": {
        "colab": {
          "base_uri": "https://localhost:8080/"
        },
        "id": "mo0sE-w-p6rf",
        "outputId": "f160bcf4-8c7a-49a6-a3e4-4873ffd9e904"
      },
      "outputs": [
        {
          "output_type": "execute_result",
          "data": {
            "text/plain": [
              "5.6"
            ]
          },
          "metadata": {},
          "execution_count": 46
        }
      ],
      "source": [
        "L[-1]"
      ]
    },
    {
      "cell_type": "code",
      "execution_count": null,
      "metadata": {
        "id": "maXsb3Tup6rf"
      },
      "outputs": [],
      "source": [
        "L[2] = 5.7"
      ]
    },
    {
      "cell_type": "code",
      "execution_count": null,
      "metadata": {
        "id": "o-mUMKHYp6rh",
        "outputId": "72d7fb33-6933-4b45-adf3-530ec72f99ed"
      },
      "outputs": [
        {
          "data": {
            "text/plain": [
              "[1, 'texto', 5.7]"
            ]
          },
          "execution_count": 63,
          "metadata": {},
          "output_type": "execute_result"
        }
      ],
      "source": [
        "L"
      ]
    },
    {
      "cell_type": "code",
      "execution_count": null,
      "metadata": {
        "colab": {
          "base_uri": "https://localhost:8080/"
        },
        "id": "wWg_S3oPp6ri",
        "outputId": "5dd60fdc-74db-4e73-b3a8-056bb08c5c6a"
      },
      "outputs": [
        {
          "output_type": "execute_result",
          "data": {
            "text/plain": [
              "3"
            ]
          },
          "metadata": {},
          "execution_count": 48
        }
      ],
      "source": [
        "len(L)"
      ]
    },
    {
      "cell_type": "code",
      "execution_count": null,
      "metadata": {
        "id": "KEcUoPd6p6ri"
      },
      "outputs": [],
      "source": [
        "L.append('novo')"
      ]
    },
    {
      "cell_type": "code",
      "execution_count": null,
      "metadata": {
        "colab": {
          "base_uri": "https://localhost:8080/"
        },
        "id": "KSZuEKI4p6ri",
        "outputId": "9b86e7de-03b0-495b-8017-b7039c137e7a"
      },
      "outputs": [
        {
          "output_type": "execute_result",
          "data": {
            "text/plain": [
              "[1, 'texto', 5.7, 'novo']"
            ]
          },
          "metadata": {},
          "execution_count": 50
        }
      ],
      "source": [
        "L"
      ]
    },
    {
      "cell_type": "code",
      "execution_count": null,
      "metadata": {
        "scrolled": true,
        "colab": {
          "base_uri": "https://localhost:8080/",
          "height": 165
        },
        "id": "uRRLaDm7p6ri",
        "outputId": "d0e74cd6-d381-4bbf-89aa-c9df985a8207"
      },
      "outputs": [
        {
          "output_type": "error",
          "ename": "TypeError",
          "evalue": "ignored",
          "traceback": [
            "\u001b[0;31m---------------------------------------------------------------------------\u001b[0m",
            "\u001b[0;31mTypeError\u001b[0m                                 Traceback (most recent call last)",
            "\u001b[0;32m<ipython-input-51-4dcd9ff3492e>\u001b[0m in \u001b[0;36m<module>\u001b[0;34m\u001b[0m\n\u001b[0;32m----> 1\u001b[0;31m \u001b[0mL\u001b[0m \u001b[0;34m+\u001b[0m \u001b[0;36m123\u001b[0m\u001b[0;34m\u001b[0m\u001b[0;34m\u001b[0m\u001b[0m\n\u001b[0m",
            "\u001b[0;31mTypeError\u001b[0m: can only concatenate list (not \"int\") to list"
          ]
        }
      ],
      "source": [
        "L + 123"
      ]
    },
    {
      "cell_type": "code",
      "execution_count": null,
      "metadata": {
        "colab": {
          "base_uri": "https://localhost:8080/"
        },
        "id": "TQqiE6j2p6rj",
        "outputId": "404cbdfe-55dc-4e7a-fa7c-854b14f1f73e"
      },
      "outputs": [
        {
          "output_type": "execute_result",
          "data": {
            "text/plain": [
              "[1, 'texto', 5.7, 'novo', 123]"
            ]
          },
          "metadata": {},
          "execution_count": 52
        }
      ],
      "source": [
        "L + [123]"
      ]
    },
    {
      "cell_type": "code",
      "execution_count": null,
      "metadata": {
        "colab": {
          "base_uri": "https://localhost:8080/"
        },
        "id": "bw57nwxmp6rj",
        "outputId": "17a37884-cd04-4f72-8528-a92b921d3b4e"
      },
      "outputs": [
        {
          "output_type": "execute_result",
          "data": {
            "text/plain": [
              "[1, 'texto', 5.7, 'novo']"
            ]
          },
          "metadata": {},
          "execution_count": 53
        }
      ],
      "source": [
        "L"
      ]
    },
    {
      "cell_type": "code",
      "execution_count": null,
      "metadata": {
        "id": "CwoVI5k-p6rj"
      },
      "outputs": [],
      "source": [
        "L = L + [123]"
      ]
    },
    {
      "cell_type": "code",
      "execution_count": null,
      "metadata": {
        "colab": {
          "base_uri": "https://localhost:8080/"
        },
        "id": "VWAwcdaSp6rk",
        "outputId": "b498d9f8-6930-476e-b5a3-92075a71c606"
      },
      "outputs": [
        {
          "output_type": "execute_result",
          "data": {
            "text/plain": [
              "[1, 'texto', 5.7, 'novo', 123]"
            ]
          },
          "metadata": {},
          "execution_count": 55
        }
      ],
      "source": [
        "L"
      ]
    },
    {
      "cell_type": "code",
      "execution_count": null,
      "metadata": {
        "colab": {
          "base_uri": "https://localhost:8080/"
        },
        "id": "uIKyE4URp6rk",
        "outputId": "c5c18413-e5f3-4760-9ba1-870c136cd5e3"
      },
      "outputs": [
        {
          "output_type": "execute_result",
          "data": {
            "text/plain": [
              "[0, 1, 2, 3, 4, 5, 6, 7, 8, 9]"
            ]
          },
          "metadata": {},
          "execution_count": 56
        }
      ],
      "source": [
        "list(range(10)) # o valor final não é incluído"
      ]
    },
    {
      "cell_type": "code",
      "execution_count": null,
      "metadata": {
        "colab": {
          "base_uri": "https://localhost:8080/"
        },
        "id": "KRsaSrG2p6rk",
        "outputId": "a92be3ee-9f87-4c4e-f705-3f0c718c212b"
      },
      "outputs": [
        {
          "output_type": "execute_result",
          "data": {
            "text/plain": [
              "[1, 2, 3, 4, 5, 6, 7, 8, 9]"
            ]
          },
          "metadata": {},
          "execution_count": 57
        }
      ],
      "source": [
        "list(range(1,10)) # o valor final não é incluído"
      ]
    },
    {
      "cell_type": "code",
      "execution_count": null,
      "metadata": {
        "colab": {
          "base_uri": "https://localhost:8080/"
        },
        "id": "bk9gVFisp6rl",
        "outputId": "71166e01-b140-4559-b98e-310a70b3a692"
      },
      "outputs": [
        {
          "output_type": "execute_result",
          "data": {
            "text/plain": [
              "range(0, 10)"
            ]
          },
          "metadata": {},
          "execution_count": 58
        }
      ],
      "source": [
        "range(10)"
      ]
    },
    {
      "cell_type": "code",
      "execution_count": null,
      "metadata": {
        "colab": {
          "base_uri": "https://localhost:8080/"
        },
        "id": "fwuUIw4Wp6rl",
        "outputId": "5abe07f8-8f0a-4040-8e69-29b9aef7a509"
      },
      "outputs": [
        {
          "output_type": "stream",
          "name": "stdout",
          "text": [
            "0\n",
            "1\n",
            "2\n",
            "3\n",
            "4\n",
            "5\n",
            "6\n",
            "7\n",
            "8\n",
            "9\n"
          ]
        }
      ],
      "source": [
        "for i in range(10):\n",
        "    print(i)"
      ]
    },
    {
      "cell_type": "code",
      "execution_count": null,
      "metadata": {
        "scrolled": true,
        "colab": {
          "base_uri": "https://localhost:8080/"
        },
        "id": "t-jBzFXop6rl",
        "outputId": "ec7ba45b-6ec9-473f-a659-3c4405a5bcee"
      },
      "outputs": [
        {
          "output_type": "execute_result",
          "data": {
            "text/plain": [
              "['texto', 5.7]"
            ]
          },
          "metadata": {},
          "execution_count": 60
        }
      ],
      "source": [
        "L[1:3] # a última posição não é considerada 1 < in e fim > 3"
      ]
    },
    {
      "cell_type": "code",
      "execution_count": null,
      "metadata": {
        "colab": {
          "base_uri": "https://localhost:8080/"
        },
        "id": "T3T0kRKyp6rl",
        "outputId": "4dba5113-9f8f-48a3-ff1f-b4a9b16e121c"
      },
      "outputs": [
        {
          "output_type": "execute_result",
          "data": {
            "text/plain": [
              "[0, 1, 2, 3, 4, 5, 6, 7, 8, 9]"
            ]
          },
          "metadata": {},
          "execution_count": 61
        }
      ],
      "source": [
        "v = list(range(10))\n",
        "v"
      ]
    },
    {
      "cell_type": "code",
      "execution_count": null,
      "metadata": {
        "colab": {
          "base_uri": "https://localhost:8080/"
        },
        "id": "JTAl6agAp6rm",
        "outputId": "16205dc8-8192-4a77-91c6-3cb09f0c554f"
      },
      "outputs": [
        {
          "output_type": "execute_result",
          "data": {
            "text/plain": [
              "[1, 2, 3, 4]"
            ]
          },
          "metadata": {},
          "execution_count": 62
        }
      ],
      "source": [
        "v[1:5]"
      ]
    },
    {
      "cell_type": "code",
      "execution_count": null,
      "metadata": {
        "colab": {
          "base_uri": "https://localhost:8080/"
        },
        "id": "YslFW56Xp6rm",
        "outputId": "d73aa287-a92f-4f60-9433-6ee42c9095fa"
      },
      "outputs": [
        {
          "output_type": "execute_result",
          "data": {
            "text/plain": [
              "[0, 1, 2, 3, 4]"
            ]
          },
          "metadata": {},
          "execution_count": 63
        }
      ],
      "source": [
        "v[:5]"
      ]
    },
    {
      "cell_type": "code",
      "execution_count": null,
      "metadata": {
        "colab": {
          "base_uri": "https://localhost:8080/"
        },
        "id": "1nfOj1Cbp6rm",
        "outputId": "4fa642f9-d430-4b22-97b4-2d7e50fe2b20"
      },
      "outputs": [
        {
          "output_type": "execute_result",
          "data": {
            "text/plain": [
              "[3, 4, 5, 6, 7, 8, 9]"
            ]
          },
          "metadata": {},
          "execution_count": 64
        }
      ],
      "source": [
        "v[3:]"
      ]
    },
    {
      "cell_type": "code",
      "execution_count": null,
      "metadata": {
        "colab": {
          "base_uri": "https://localhost:8080/"
        },
        "id": "KB-hkjkmp6rn",
        "outputId": "847f2c4f-0957-40fd-b40e-a38bed5c2bc1"
      },
      "outputs": [
        {
          "output_type": "execute_result",
          "data": {
            "text/plain": [
              "[3, 4, 5, 6, 7, 8]"
            ]
          },
          "metadata": {},
          "execution_count": 65
        }
      ],
      "source": [
        "v[3:-1]"
      ]
    },
    {
      "cell_type": "code",
      "execution_count": null,
      "metadata": {
        "colab": {
          "base_uri": "https://localhost:8080/"
        },
        "id": "WoOBr2-sp6rn",
        "outputId": "8faccfe1-60e8-4c0d-b0ff-206268d5807e"
      },
      "outputs": [
        {
          "output_type": "execute_result",
          "data": {
            "text/plain": [
              "[0, 1, 2, 3, 4, 5, 6, 7]"
            ]
          },
          "metadata": {},
          "execution_count": 66
        }
      ],
      "source": [
        "v[:-2]"
      ]
    },
    {
      "cell_type": "code",
      "execution_count": null,
      "metadata": {
        "id": "CMHLxRPrp6rn",
        "outputId": "2e30303f-75ae-4f1b-eaf8-60f72b358e40"
      },
      "outputs": [
        {
          "data": {
            "text/plain": [
              "[0, 2, 4, 6, 8]"
            ]
          },
          "execution_count": 82,
          "metadata": {},
          "output_type": "execute_result"
        }
      ],
      "source": [
        "v[::2]"
      ]
    },
    {
      "cell_type": "code",
      "execution_count": null,
      "metadata": {
        "colab": {
          "base_uri": "https://localhost:8080/"
        },
        "id": "UQJYJFwmp6ro",
        "outputId": "dd3a7e92-eb56-49e5-9c0c-878d64e4d4a0"
      },
      "outputs": [
        {
          "output_type": "execute_result",
          "data": {
            "text/plain": [
              "[9, 8, 7, 6, 5, 4, 3, 2, 1, 0]"
            ]
          },
          "metadata": {},
          "execution_count": 67
        }
      ],
      "source": [
        "v[::-1]"
      ]
    },
    {
      "cell_type": "code",
      "execution_count": null,
      "metadata": {
        "colab": {
          "base_uri": "https://localhost:8080/"
        },
        "id": "u7AHHmkYp6ro",
        "outputId": "99d1a213-bba5-4d5f-cbf9-f4dd927c5850"
      },
      "outputs": [
        {
          "output_type": "execute_result",
          "data": {
            "text/plain": [
              "45"
            ]
          },
          "metadata": {},
          "execution_count": 68
        }
      ],
      "source": [
        "sum(v)"
      ]
    },
    {
      "cell_type": "code",
      "execution_count": null,
      "metadata": {
        "colab": {
          "base_uri": "https://localhost:8080/"
        },
        "id": "R5KUeSKyp6ro",
        "outputId": "0daa0f68-aa41-4b0f-f8a5-de14b490198d"
      },
      "outputs": [
        {
          "output_type": "execute_result",
          "data": {
            "text/plain": [
              "(1, 'dois', 'dois', 3.0, 4)"
            ]
          },
          "metadata": {},
          "execution_count": 69
        }
      ],
      "source": [
        "t = (1, 'dois', 'dois',3.0, 4)\n",
        "t"
      ]
    },
    {
      "cell_type": "code",
      "execution_count": null,
      "metadata": {
        "colab": {
          "base_uri": "https://localhost:8080/"
        },
        "id": "6NRrUvaup6ro",
        "outputId": "fe29b8cb-47d3-44b9-e413-d287f7aa01da"
      },
      "outputs": [
        {
          "output_type": "execute_result",
          "data": {
            "text/plain": [
              "tuple"
            ]
          },
          "metadata": {},
          "execution_count": 70
        }
      ],
      "source": [
        "type(t)"
      ]
    },
    {
      "cell_type": "code",
      "execution_count": null,
      "metadata": {
        "colab": {
          "base_uri": "https://localhost:8080/"
        },
        "id": "71a6g0rXp6rp",
        "outputId": "f56542ef-bceb-4410-c7f1-528eda07d762"
      },
      "outputs": [
        {
          "output_type": "execute_result",
          "data": {
            "text/plain": [
              "('dois', 'dois', 3.0, 4)"
            ]
          },
          "metadata": {},
          "execution_count": 71
        }
      ],
      "source": [
        "t[1:]"
      ]
    },
    {
      "cell_type": "code",
      "execution_count": null,
      "metadata": {
        "colab": {
          "base_uri": "https://localhost:8080/"
        },
        "id": "S2AKqRnxp6rp",
        "outputId": "8a2dc85d-9741-4e67-ac47-79fbbc909efe"
      },
      "outputs": [
        {
          "output_type": "execute_result",
          "data": {
            "text/plain": [
              "5"
            ]
          },
          "metadata": {},
          "execution_count": 72
        }
      ],
      "source": [
        "len(t)"
      ]
    },
    {
      "cell_type": "code",
      "execution_count": null,
      "metadata": {
        "colab": {
          "base_uri": "https://localhost:8080/"
        },
        "id": "UDdmdCCVp6rp",
        "outputId": "bca82fbd-ff07-4294-8368-c3f56918ee68"
      },
      "outputs": [
        {
          "output_type": "execute_result",
          "data": {
            "text/plain": [
              "2"
            ]
          },
          "metadata": {},
          "execution_count": 73
        }
      ],
      "source": [
        "t.count('dois')"
      ]
    },
    {
      "cell_type": "code",
      "execution_count": null,
      "metadata": {
        "colab": {
          "base_uri": "https://localhost:8080/",
          "height": 183
        },
        "id": "UKKgw4Adp6rq",
        "outputId": "a7e2f6f2-ec71-4a59-9735-e3b8f93eb084"
      },
      "outputs": [
        {
          "output_type": "error",
          "ename": "TypeError",
          "evalue": "ignored",
          "traceback": [
            "\u001b[0;31m---------------------------------------------------------------------------\u001b[0m",
            "\u001b[0;31mTypeError\u001b[0m                                 Traceback (most recent call last)",
            "\u001b[0;32m<ipython-input-74-5fc8aa39e942>\u001b[0m in \u001b[0;36m<module>\u001b[0;34m\u001b[0m\n\u001b[1;32m      1\u001b[0m \u001b[0;31m# tupla não é mutável\u001b[0m\u001b[0;34m\u001b[0m\u001b[0;34m\u001b[0m\u001b[0;34m\u001b[0m\u001b[0m\n\u001b[0;32m----> 2\u001b[0;31m \u001b[0mt\u001b[0m\u001b[0;34m[\u001b[0m\u001b[0;36m2\u001b[0m\u001b[0;34m]\u001b[0m \u001b[0;34m=\u001b[0m \u001b[0;36m9\u001b[0m\u001b[0;34m\u001b[0m\u001b[0;34m\u001b[0m\u001b[0m\n\u001b[0m",
            "\u001b[0;31mTypeError\u001b[0m: 'tuple' object does not support item assignment"
          ]
        }
      ],
      "source": [
        "# tupla não é mutável\n",
        "t[2] = 9"
      ]
    },
    {
      "cell_type": "code",
      "execution_count": null,
      "metadata": {
        "colab": {
          "base_uri": "https://localhost:8080/"
        },
        "id": "fKtOk-8Yp6rq",
        "outputId": "22534724-ceda-4efe-a374-a2f5675a3cc7"
      },
      "outputs": [
        {
          "output_type": "execute_result",
          "data": {
            "text/plain": [
              "[1, 'dois', 'dois', 3.0, 4]"
            ]
          },
          "metadata": {},
          "execution_count": 75
        }
      ],
      "source": [
        "list(t)"
      ]
    },
    {
      "cell_type": "code",
      "execution_count": null,
      "metadata": {
        "colab": {
          "base_uri": "https://localhost:8080/"
        },
        "id": "i-7jcMHEp6rq",
        "outputId": "90cc0005-c88f-43f3-bd60-226565a2915c"
      },
      "outputs": [
        {
          "output_type": "execute_result",
          "data": {
            "text/plain": [
              "['i',\n",
              " 't',\n",
              " \"'\",\n",
              " 's',\n",
              " ' ',\n",
              " 'i',\n",
              " 'n',\n",
              " 't',\n",
              " 'e',\n",
              " 'r',\n",
              " 'e',\n",
              " 's',\n",
              " 't',\n",
              " 'i',\n",
              " 'n',\n",
              " 'g']"
            ]
          },
          "metadata": {},
          "execution_count": 76
        }
      ],
      "source": [
        "list(s)"
      ]
    },
    {
      "cell_type": "code",
      "execution_count": null,
      "metadata": {
        "colab": {
          "base_uri": "https://localhost:8080/",
          "height": 35
        },
        "id": "DUBXMY9gp6rq",
        "outputId": "31d017a3-9e11-477a-87c4-afc283cfe292"
      },
      "outputs": [
        {
          "output_type": "execute_result",
          "data": {
            "text/plain": [
              "'interest'"
            ],
            "application/vnd.google.colaboratory.intrinsic+json": {
              "type": "string"
            }
          },
          "metadata": {},
          "execution_count": 77
        }
      ],
      "source": [
        "s[5:-3]"
      ]
    },
    {
      "cell_type": "code",
      "execution_count": null,
      "metadata": {
        "colab": {
          "base_uri": "https://localhost:8080/"
        },
        "id": "ttAwz8y3p6rr",
        "outputId": "ee34e972-52c0-4503-ec6d-85dbdf14484c"
      },
      "outputs": [
        {
          "output_type": "execute_result",
          "data": {
            "text/plain": [
              "(2, 3.5, [0, 1, 2, 3, 4, 5, 6, 7, 8, 9], \"it's interesting\")"
            ]
          },
          "metadata": {},
          "execution_count": 78
        }
      ],
      "source": [
        "a, b, v, s"
      ]
    },
    {
      "cell_type": "code",
      "execution_count": null,
      "metadata": {
        "colab": {
          "base_uri": "https://localhost:8080/"
        },
        "id": "etoIbxKFp6rr",
        "outputId": "d099eddb-aeaf-421a-e8ec-de7f51838d2d"
      },
      "outputs": [
        {
          "output_type": "stream",
          "name": "stdout",
          "text": [
            "1\n",
            "2\n",
            "3\n"
          ]
        }
      ],
      "source": [
        "x, y, z = 1, 2, 3\n",
        "print(x)\n",
        "print(y)\n",
        "print(z)"
      ]
    },
    {
      "cell_type": "code",
      "execution_count": null,
      "metadata": {
        "colab": {
          "base_uri": "https://localhost:8080/"
        },
        "id": "T42hd3Ptp6rr",
        "outputId": "dab28bf7-397a-4eb7-c678-2cbec2d3d1f1"
      },
      "outputs": [
        {
          "output_type": "execute_result",
          "data": {
            "text/plain": [
              "{'nome': 'Fulano', 'idade': 22}"
            ]
          },
          "metadata": {},
          "execution_count": 80
        }
      ],
      "source": [
        "d = {'nome':'Fulano', 'idade':22}\n",
        "d"
      ]
    },
    {
      "cell_type": "code",
      "execution_count": null,
      "metadata": {
        "colab": {
          "base_uri": "https://localhost:8080/"
        },
        "id": "LYJAcy0gp6rs",
        "outputId": "9273a158-a643-4cc9-ac27-0872ca8f7e7d"
      },
      "outputs": [
        {
          "output_type": "execute_result",
          "data": {
            "text/plain": [
              "dict"
            ]
          },
          "metadata": {},
          "execution_count": 81
        }
      ],
      "source": [
        "type(d)"
      ]
    },
    {
      "cell_type": "code",
      "execution_count": null,
      "metadata": {
        "colab": {
          "base_uri": "https://localhost:8080/",
          "height": 35
        },
        "id": "03_AldBGp6rs",
        "outputId": "81a43870-3bb6-423a-9742-191b3eebfd70"
      },
      "outputs": [
        {
          "output_type": "execute_result",
          "data": {
            "text/plain": [
              "'Fulano'"
            ],
            "application/vnd.google.colaboratory.intrinsic+json": {
              "type": "string"
            }
          },
          "metadata": {},
          "execution_count": 82
        }
      ],
      "source": [
        "d['nome']"
      ]
    },
    {
      "cell_type": "code",
      "execution_count": null,
      "metadata": {
        "colab": {
          "base_uri": "https://localhost:8080/"
        },
        "id": "cJ7rvIv4p6rs",
        "outputId": "a60427ce-38f9-4db8-e758-78810080f6bb"
      },
      "outputs": [
        {
          "output_type": "execute_result",
          "data": {
            "text/plain": [
              "22"
            ]
          },
          "metadata": {},
          "execution_count": 83
        }
      ],
      "source": [
        "d['idade']"
      ]
    },
    {
      "cell_type": "code",
      "execution_count": null,
      "metadata": {
        "colab": {
          "base_uri": "https://localhost:8080/"
        },
        "id": "at1II8Q2p6rt",
        "outputId": "382e68f8-9577-423a-f720-a9cb17092ef2"
      },
      "outputs": [
        {
          "output_type": "execute_result",
          "data": {
            "text/plain": [
              "['nome', 'idade']"
            ]
          },
          "metadata": {},
          "execution_count": 84
        }
      ],
      "source": [
        "list(d.keys())"
      ]
    },
    {
      "cell_type": "code",
      "execution_count": null,
      "metadata": {
        "colab": {
          "base_uri": "https://localhost:8080/"
        },
        "id": "5UBZpLqHp6rt",
        "outputId": "c5ec1520-7955-4a85-bdcc-7cf34770c815"
      },
      "outputs": [
        {
          "output_type": "execute_result",
          "data": {
            "text/plain": [
              "['Fulano', 22]"
            ]
          },
          "metadata": {},
          "execution_count": 85
        }
      ],
      "source": [
        "list(d.values())"
      ]
    },
    {
      "cell_type": "code",
      "execution_count": null,
      "metadata": {
        "colab": {
          "base_uri": "https://localhost:8080/"
        },
        "id": "d10k9oGup6rt",
        "outputId": "164ae275-fe09-4a0f-e907-8cd3b08d02ee"
      },
      "outputs": [
        {
          "output_type": "execute_result",
          "data": {
            "text/plain": [
              "[0, 1, 4, 9, 16, 25, 36, 49, 64, 81]"
            ]
          },
          "metadata": {},
          "execution_count": 86
        }
      ],
      "source": [
        "[n**2 for n in range(10)] # list compreehension"
      ]
    },
    {
      "cell_type": "code",
      "execution_count": null,
      "metadata": {
        "colab": {
          "base_uri": "https://localhost:8080/"
        },
        "id": "S2xgQ8sOp6ru",
        "outputId": "90852c26-7948-4771-c62d-5a1c2413e19b"
      },
      "outputs": [
        {
          "output_type": "execute_result",
          "data": {
            "text/plain": [
              "[0, 4, 16, 36, 64]"
            ]
          },
          "metadata": {},
          "execution_count": 87
        }
      ],
      "source": [
        "[n**2 for n in range(10) if n % 2 == 0]"
      ]
    },
    {
      "cell_type": "code",
      "execution_count": null,
      "metadata": {
        "id": "rI9QSk6Zp6ru"
      },
      "outputs": [],
      "source": [
        "class Aluno(object):\n",
        "    \n",
        "    def __init__(self, nome):\n",
        "        self.nome = nome\n",
        "    \n",
        "    def entra_nota(self, nota):\n",
        "        nota = round(2*nota)/2 # arredondamento Univali\n",
        "        self.nota = nota\n",
        "    \n",
        "    def aprovado(self):\n",
        "        return self.nota >= 5.75"
      ]
    },
    {
      "cell_type": "code",
      "execution_count": null,
      "metadata": {
        "colab": {
          "base_uri": "https://localhost:8080/",
          "height": 35
        },
        "id": "7uCGK-3Xp6ru",
        "outputId": "ca5a4ccd-596a-4f4e-a96f-f3aa97e4c572"
      },
      "outputs": [
        {
          "output_type": "execute_result",
          "data": {
            "text/plain": [
              "'Fulano'"
            ],
            "application/vnd.google.colaboratory.intrinsic+json": {
              "type": "string"
            }
          },
          "metadata": {},
          "execution_count": 89
        }
      ],
      "source": [
        "aluno = Aluno('Fulano')\n",
        "aluno.nome"
      ]
    },
    {
      "cell_type": "code",
      "execution_count": null,
      "metadata": {
        "colab": {
          "base_uri": "https://localhost:8080/"
        },
        "id": "h9yVeCWYp6rv",
        "outputId": "6fe89a35-e99d-43f7-9be8-fdc556b6b5ba"
      },
      "outputs": [
        {
          "output_type": "execute_result",
          "data": {
            "text/plain": [
              "6.0"
            ]
          },
          "metadata": {},
          "execution_count": 91
        }
      ],
      "source": [
        "aluno.entra_nota(5.75)\n",
        "aluno.nota"
      ]
    },
    {
      "cell_type": "code",
      "execution_count": null,
      "metadata": {
        "colab": {
          "base_uri": "https://localhost:8080/"
        },
        "id": "30qvwNdPp6rv",
        "outputId": "3994b4da-6400-46c9-9022-a2d9dff347a2"
      },
      "outputs": [
        {
          "output_type": "execute_result",
          "data": {
            "text/plain": [
              "True"
            ]
          },
          "metadata": {},
          "execution_count": 92
        }
      ],
      "source": [
        "aluno.aprovado()"
      ]
    },
    {
      "cell_type": "code",
      "execution_count": null,
      "metadata": {
        "id": "-SAOOObLp6rv"
      },
      "outputs": [],
      "source": []
    },
    {
      "cell_type": "markdown",
      "metadata": {
        "id": "pZ1wPw3Kp6rv"
      },
      "source": [
        "## NumPy"
      ]
    },
    {
      "cell_type": "code",
      "execution_count": null,
      "metadata": {
        "id": "tqvlqvKzp6rw"
      },
      "outputs": [],
      "source": [
        "import numpy as np"
      ]
    },
    {
      "cell_type": "code",
      "execution_count": null,
      "metadata": {
        "colab": {
          "base_uri": "https://localhost:8080/"
        },
        "id": "dH_vPgpJp6rw",
        "outputId": "2a258891-bdd1-496c-a927-13abba1a9c8a"
      },
      "outputs": [
        {
          "output_type": "execute_result",
          "data": {
            "text/plain": [
              "3"
            ]
          },
          "metadata": {},
          "execution_count": 94
        }
      ],
      "source": [
        "np.abs(-3)"
      ]
    },
    {
      "cell_type": "code",
      "execution_count": null,
      "metadata": {
        "id": "VVF1kfyKp6rw"
      },
      "outputs": [],
      "source": [
        "import numpy as np"
      ]
    },
    {
      "cell_type": "code",
      "execution_count": null,
      "metadata": {
        "id": "grOem7Nup6rx",
        "outputId": "40ddffc4-e7fb-4699-a4b6-fc121c52c84c"
      },
      "outputs": [
        {
          "data": {
            "text/plain": [
              "3"
            ]
          },
          "execution_count": 92,
          "metadata": {},
          "output_type": "execute_result"
        }
      ],
      "source": [
        "np.abs(-3)"
      ]
    },
    {
      "cell_type": "code",
      "execution_count": null,
      "metadata": {
        "colab": {
          "base_uri": "https://localhost:8080/"
        },
        "id": "4vsM9hGPp6rx",
        "outputId": "859d98af-517e-4468-b660-203a006114f5"
      },
      "outputs": [
        {
          "output_type": "execute_result",
          "data": {
            "text/plain": [
              "1"
            ]
          },
          "metadata": {},
          "execution_count": 95
        }
      ],
      "source": [
        "np.min([1, 2, 3, 4])"
      ]
    },
    {
      "cell_type": "code",
      "execution_count": null,
      "metadata": {
        "colab": {
          "base_uri": "https://localhost:8080/"
        },
        "id": "Jy45c2Mbp6rx",
        "outputId": "26445a89-3e33-4c0d-871e-79f9c34df35b"
      },
      "outputs": [
        {
          "output_type": "execute_result",
          "data": {
            "text/plain": [
              "array([1, 2, 3, 4])"
            ]
          },
          "metadata": {},
          "execution_count": 96
        }
      ],
      "source": [
        "a = np.array([1, 2, 3, 4])\n",
        "a"
      ]
    },
    {
      "cell_type": "code",
      "execution_count": null,
      "metadata": {
        "colab": {
          "base_uri": "https://localhost:8080/"
        },
        "id": "hBKCTGYSp6ry",
        "outputId": "f380c55b-e8b6-46da-b6d8-396b42fd3619"
      },
      "outputs": [
        {
          "output_type": "execute_result",
          "data": {
            "text/plain": [
              "dtype('int64')"
            ]
          },
          "metadata": {},
          "execution_count": 97
        }
      ],
      "source": [
        "a.dtype"
      ]
    },
    {
      "cell_type": "code",
      "execution_count": null,
      "metadata": {
        "colab": {
          "base_uri": "https://localhost:8080/"
        },
        "id": "8kzLA6AOp6ry",
        "outputId": "82f8f456-9317-4196-874c-d05a0ce9a903"
      },
      "outputs": [
        {
          "output_type": "execute_result",
          "data": {
            "text/plain": [
              "array([1., 2., 3., 4.])"
            ]
          },
          "metadata": {},
          "execution_count": 98
        }
      ],
      "source": [
        "a = np.array([1, 2, 3, 4.0])\n",
        "a"
      ]
    },
    {
      "cell_type": "code",
      "execution_count": null,
      "metadata": {
        "colab": {
          "base_uri": "https://localhost:8080/"
        },
        "id": "F4dQi4Fjp6ry",
        "outputId": "f5463723-d360-4c16-c5ab-fe536f2381f8"
      },
      "outputs": [
        {
          "output_type": "execute_result",
          "data": {
            "text/plain": [
              "dtype('float64')"
            ]
          },
          "metadata": {},
          "execution_count": 99
        }
      ],
      "source": [
        "a.dtype"
      ]
    },
    {
      "cell_type": "code",
      "execution_count": null,
      "metadata": {
        "colab": {
          "base_uri": "https://localhost:8080/"
        },
        "id": "iNeaZWvKp6rz",
        "outputId": "2ecd649e-36ce-42f1-bb5f-2c7099cb91f1"
      },
      "outputs": [
        {
          "output_type": "execute_result",
          "data": {
            "text/plain": [
              "numpy.ndarray"
            ]
          },
          "metadata": {},
          "execution_count": 100
        }
      ],
      "source": [
        "type(a)"
      ]
    },
    {
      "cell_type": "code",
      "execution_count": null,
      "metadata": {
        "colab": {
          "base_uri": "https://localhost:8080/"
        },
        "id": "z0cXH_Ajp6rz",
        "outputId": "83309978-41f2-464c-9cc7-ba3371a88ac9"
      },
      "outputs": [
        {
          "output_type": "execute_result",
          "data": {
            "text/plain": [
              "(4,)"
            ]
          },
          "metadata": {},
          "execution_count": 101
        }
      ],
      "source": [
        "a.shape"
      ]
    },
    {
      "cell_type": "code",
      "execution_count": null,
      "metadata": {
        "colab": {
          "base_uri": "https://localhost:8080/"
        },
        "id": "azRPqesAp6r0",
        "outputId": "b9ce047d-4468-40eb-8cc8-104e5cbd2ac1"
      },
      "outputs": [
        {
          "output_type": "execute_result",
          "data": {
            "text/plain": [
              "10.0"
            ]
          },
          "metadata": {},
          "execution_count": 102
        }
      ],
      "source": [
        "sum(a)"
      ]
    },
    {
      "cell_type": "code",
      "execution_count": null,
      "metadata": {
        "colab": {
          "base_uri": "https://localhost:8080/"
        },
        "id": "Tyaysb1Ep6r0",
        "outputId": "2b459f11-808d-4f43-e5c0-70406e4803a5"
      },
      "outputs": [
        {
          "output_type": "execute_result",
          "data": {
            "text/plain": [
              "10.0"
            ]
          },
          "metadata": {},
          "execution_count": 103
        }
      ],
      "source": [
        "np.sum(a)"
      ]
    },
    {
      "cell_type": "code",
      "execution_count": null,
      "metadata": {
        "id": "Q_tS1R8Zp6r0",
        "outputId": "d81e4154-8676-4b7b-a417-ca85ebe70f04"
      },
      "outputs": [
        {
          "data": {
            "text/plain": [
              "10.0"
            ]
          },
          "execution_count": 102,
          "metadata": {},
          "output_type": "execute_result"
        }
      ],
      "source": [
        "a.sum()"
      ]
    },
    {
      "cell_type": "code",
      "execution_count": null,
      "metadata": {
        "colab": {
          "base_uri": "https://localhost:8080/"
        },
        "id": "-owNnPNOp6r2",
        "outputId": "16a25097-e823-4712-dd92-9b680647c8f0"
      },
      "outputs": [
        {
          "output_type": "execute_result",
          "data": {
            "text/plain": [
              "3"
            ]
          },
          "metadata": {},
          "execution_count": 104
        }
      ],
      "source": [
        "a.argmax()"
      ]
    },
    {
      "cell_type": "code",
      "execution_count": null,
      "metadata": {
        "colab": {
          "base_uri": "https://localhost:8080/"
        },
        "id": "pSYI08fDp6r3",
        "outputId": "c1cde3b9-57fb-42d7-b5af-84328147cb50"
      },
      "outputs": [
        {
          "output_type": "execute_result",
          "data": {
            "text/plain": [
              "1"
            ]
          },
          "metadata": {},
          "execution_count": 105
        }
      ],
      "source": [
        "a.ndim"
      ]
    },
    {
      "cell_type": "code",
      "execution_count": null,
      "metadata": {
        "colab": {
          "base_uri": "https://localhost:8080/"
        },
        "id": "TB8uqrDNp6r3",
        "outputId": "2dae8956-0239-4a43-d3fa-540d8d83f121"
      },
      "outputs": [
        {
          "output_type": "execute_result",
          "data": {
            "text/plain": [
              "(4,)"
            ]
          },
          "metadata": {},
          "execution_count": 106
        }
      ],
      "source": [
        "a.shape"
      ]
    },
    {
      "cell_type": "code",
      "execution_count": null,
      "metadata": {
        "id": "PuRLnjCqp6r3"
      },
      "outputs": [],
      "source": [
        "a[3] = 4.6"
      ]
    },
    {
      "cell_type": "code",
      "execution_count": null,
      "metadata": {
        "colab": {
          "base_uri": "https://localhost:8080/"
        },
        "id": "5_qCFyobp6r4",
        "outputId": "2b999ee0-46de-4283-dfb5-f42abe36543a"
      },
      "outputs": [
        {
          "output_type": "stream",
          "name": "stdout",
          "text": [
            "(4,)\n",
            "(1, 4)\n",
            "[[0]\n",
            " [2]\n",
            " [3]\n",
            " [4]]\n"
          ]
        }
      ],
      "source": [
        "a = np.array([1, 2, 3, 4])\n",
        "a[0] = 0.7\n",
        "c =a.copy()\n",
        "c = np.array([c])\n",
        "aux = c.T\n",
        "print(a.shape)\n",
        "print(c.shape)\n",
        "print(aux)"
      ]
    },
    {
      "cell_type": "code",
      "execution_count": null,
      "metadata": {
        "colab": {
          "base_uri": "https://localhost:8080/"
        },
        "id": "-vHMhsjAp6r4",
        "outputId": "0ac3064c-ba75-421c-f29a-12d535cb7917"
      },
      "outputs": [
        {
          "output_type": "execute_result",
          "data": {
            "text/plain": [
              "array([0.7, 2. , 3. , 4. ])"
            ]
          },
          "metadata": {},
          "execution_count": 110
        }
      ],
      "source": [
        "#a = np.array([1, 2, 3, 4.0])\n",
        "#a = np.array([1, 2, 3, 4], dtype=float)\n",
        "a = np.array([1, 2, 3, 4])\n",
        "a = a.astype(float)\n",
        "a[0] = 0.7\n",
        "a"
      ]
    },
    {
      "cell_type": "code",
      "execution_count": null,
      "metadata": {
        "colab": {
          "base_uri": "https://localhost:8080/"
        },
        "id": "r7UiFm5Lp6r5",
        "outputId": "326bd0e0-1c17-4f61-de35-72543d4ada2b"
      },
      "outputs": [
        {
          "output_type": "execute_result",
          "data": {
            "text/plain": [
              "array([5., 2., 3., 4.])"
            ]
          },
          "metadata": {},
          "execution_count": 111
        }
      ],
      "source": [
        "a = np.array([1, 2, 3, 4], dtype=float)\n",
        "b = a\n",
        "a[0] = 5\n",
        "a"
      ]
    },
    {
      "cell_type": "code",
      "execution_count": null,
      "metadata": {
        "colab": {
          "base_uri": "https://localhost:8080/"
        },
        "id": "VOw1l5z8p6r5",
        "outputId": "42459264-d06a-4dbf-f126-3230ce1e23b1"
      },
      "outputs": [
        {
          "output_type": "execute_result",
          "data": {
            "text/plain": [
              "array([5., 2., 3., 4.])"
            ]
          },
          "metadata": {},
          "execution_count": 112
        }
      ],
      "source": [
        "b"
      ]
    },
    {
      "cell_type": "code",
      "execution_count": null,
      "metadata": {
        "colab": {
          "base_uri": "https://localhost:8080/"
        },
        "id": "r3xfnwKUp6r5",
        "outputId": "bcbd7849-33aa-464e-8f4b-ce35670bf558"
      },
      "outputs": [
        {
          "output_type": "execute_result",
          "data": {
            "text/plain": [
              "True"
            ]
          },
          "metadata": {},
          "execution_count": 113
        }
      ],
      "source": [
        "b is a"
      ]
    },
    {
      "cell_type": "code",
      "execution_count": null,
      "metadata": {
        "colab": {
          "base_uri": "https://localhost:8080/"
        },
        "id": "Sggywnh7p6r6",
        "outputId": "973d1f2e-3e5f-42ba-a3ff-ebdf4b44a78f"
      },
      "outputs": [
        {
          "output_type": "stream",
          "name": "stdout",
          "text": [
            "False\n"
          ]
        },
        {
          "output_type": "execute_result",
          "data": {
            "text/plain": [
              "array([5., 2., 3., 4.])"
            ]
          },
          "metadata": {},
          "execution_count": 114
        }
      ],
      "source": [
        "a = np.array([1, 2, 3, 4], dtype=float)\n",
        "b = a.copy()\n",
        "print(b is a)\n",
        "a[0] = 5\n",
        "a"
      ]
    },
    {
      "cell_type": "code",
      "execution_count": null,
      "metadata": {
        "colab": {
          "base_uri": "https://localhost:8080/"
        },
        "id": "Q14SZY0Qp6r6",
        "outputId": "278ba3e7-be8b-4bbd-8be9-285fab20ef25"
      },
      "outputs": [
        {
          "output_type": "execute_result",
          "data": {
            "text/plain": [
              "array([1., 2., 3., 4.])"
            ]
          },
          "metadata": {},
          "execution_count": 115
        }
      ],
      "source": [
        "b"
      ]
    },
    {
      "cell_type": "code",
      "execution_count": null,
      "metadata": {
        "colab": {
          "base_uri": "https://localhost:8080/"
        },
        "id": "mNTIeRWBp6r7",
        "outputId": "1ab8e9e8-a5f5-48c4-860f-cda2a11d5a1d"
      },
      "outputs": [
        {
          "output_type": "execute_result",
          "data": {
            "text/plain": [
              "array([6., 3., 4., 5.])"
            ]
          },
          "metadata": {},
          "execution_count": 116
        }
      ],
      "source": [
        "a + 1"
      ]
    },
    {
      "cell_type": "code",
      "execution_count": null,
      "metadata": {
        "colab": {
          "base_uri": "https://localhost:8080/"
        },
        "id": "nROAvjYjp6r7",
        "outputId": "e57df92d-5d58-4ebd-af83-d33d9ea4b81a"
      },
      "outputs": [
        {
          "output_type": "execute_result",
          "data": {
            "text/plain": [
              "array([25.,  4.,  9., 16.])"
            ]
          },
          "metadata": {},
          "execution_count": 117
        }
      ],
      "source": [
        "a*a"
      ]
    },
    {
      "cell_type": "code",
      "execution_count": null,
      "metadata": {
        "colab": {
          "base_uri": "https://localhost:8080/"
        },
        "id": "tbY2n81fp6r8",
        "outputId": "d639ec03-4bf7-4474-b2ce-6f05b9407ead"
      },
      "outputs": [
        {
          "output_type": "execute_result",
          "data": {
            "text/plain": [
              "array([25.,  4.,  9., 16.])"
            ]
          },
          "metadata": {},
          "execution_count": 118
        }
      ],
      "source": [
        "a**2"
      ]
    },
    {
      "cell_type": "code",
      "execution_count": null,
      "metadata": {
        "colab": {
          "base_uri": "https://localhost:8080/"
        },
        "id": "7oYUvPXOp6r8",
        "outputId": "fc6ac350-f62d-4322-b0e0-fc6255c9d399"
      },
      "outputs": [
        {
          "output_type": "execute_result",
          "data": {
            "text/plain": [
              "array([[0, 1, 2, 3],\n",
              "       [4, 5, 6, 7]])"
            ]
          },
          "metadata": {},
          "execution_count": 119
        }
      ],
      "source": [
        "x = np.array([[0,1,2,3],[4,5,6,7]])\n",
        "x"
      ]
    },
    {
      "cell_type": "code",
      "execution_count": null,
      "metadata": {
        "colab": {
          "base_uri": "https://localhost:8080/"
        },
        "id": "F7jwqr5Tp6r9",
        "outputId": "c8281cfc-92c5-4cd6-9996-a986b1484599"
      },
      "outputs": [
        {
          "output_type": "execute_result",
          "data": {
            "text/plain": [
              "(2, 4)"
            ]
          },
          "metadata": {},
          "execution_count": 120
        }
      ],
      "source": [
        "x.shape"
      ]
    },
    {
      "cell_type": "code",
      "execution_count": null,
      "metadata": {
        "colab": {
          "base_uri": "https://localhost:8080/"
        },
        "id": "gOM2PDWSp6r9",
        "outputId": "e04be564-74d3-4ed9-849e-b8ac77dc89a2"
      },
      "outputs": [
        {
          "output_type": "execute_result",
          "data": {
            "text/plain": [
              "6"
            ]
          },
          "metadata": {},
          "execution_count": 121
        }
      ],
      "source": [
        "x[1,2]"
      ]
    },
    {
      "cell_type": "code",
      "execution_count": null,
      "metadata": {
        "colab": {
          "base_uri": "https://localhost:8080/"
        },
        "id": "owg9i97Jp6r-",
        "outputId": "b3af0422-404c-4b18-896e-fb0806b55af7"
      },
      "outputs": [
        {
          "output_type": "execute_result",
          "data": {
            "text/plain": [
              "6"
            ]
          },
          "metadata": {},
          "execution_count": 122
        }
      ],
      "source": [
        "x[1][2]"
      ]
    },
    {
      "cell_type": "code",
      "execution_count": null,
      "metadata": {
        "colab": {
          "base_uri": "https://localhost:8080/"
        },
        "id": "2pmeajt9p6r-",
        "outputId": "528489da-14ba-439f-d8bc-716c6d6a08f2"
      },
      "outputs": [
        {
          "output_type": "execute_result",
          "data": {
            "text/plain": [
              "array([[0, 4],\n",
              "       [1, 5],\n",
              "       [2, 6],\n",
              "       [3, 7]])"
            ]
          },
          "metadata": {},
          "execution_count": 123
        }
      ],
      "source": [
        "x.T"
      ]
    },
    {
      "cell_type": "code",
      "execution_count": null,
      "metadata": {
        "colab": {
          "base_uri": "https://localhost:8080/"
        },
        "id": "rQpxVvh2p6r_",
        "outputId": "0872e54e-a073-4ff9-ce43-43cc6c44e0ae"
      },
      "outputs": [
        {
          "output_type": "execute_result",
          "data": {
            "text/plain": [
              "(4, 2)"
            ]
          },
          "metadata": {},
          "execution_count": 124
        }
      ],
      "source": [
        "x.T.shape"
      ]
    },
    {
      "cell_type": "code",
      "execution_count": null,
      "metadata": {
        "colab": {
          "base_uri": "https://localhost:8080/"
        },
        "id": "sAxbFfajp6r_",
        "outputId": "9bd9a9f9-9aaa-4bf1-b5e9-54aecacc731b"
      },
      "outputs": [
        {
          "output_type": "execute_result",
          "data": {
            "text/plain": [
              "array([[[ 0,  1,  2,  3],\n",
              "        [ 4,  5,  6,  7]],\n",
              "\n",
              "       [[ 8,  9, 10, 11],\n",
              "        [12, 13, 14, 15]],\n",
              "\n",
              "       [[16, 17, 18, 19],\n",
              "        [20, 21, 22, 23]]])"
            ]
          },
          "metadata": {},
          "execution_count": 125
        }
      ],
      "source": [
        "y = np.array([[[0, 1, 2, 3], [4, 5, 6, 7]], [[8, 9, 10, 11], [12, 13, 14, 15]], [[16, 17, 18, 19], [20, 21, 22, 23]]])\n",
        "y"
      ]
    },
    {
      "cell_type": "code",
      "execution_count": null,
      "metadata": {
        "colab": {
          "base_uri": "https://localhost:8080/"
        },
        "id": "3lB21AUFp6r_",
        "outputId": "df8e48b5-46ef-4f99-daee-79685d0802e9"
      },
      "outputs": [
        {
          "output_type": "execute_result",
          "data": {
            "text/plain": [
              "(3, 2, 4)"
            ]
          },
          "metadata": {},
          "execution_count": 126
        }
      ],
      "source": [
        "y.shape"
      ]
    },
    {
      "cell_type": "code",
      "execution_count": null,
      "metadata": {
        "scrolled": true,
        "colab": {
          "base_uri": "https://localhost:8080/"
        },
        "id": "YEN7rDJJp6sA",
        "outputId": "8b91f0a2-283b-4b5a-d4c4-1cb70a17aee3"
      },
      "outputs": [
        {
          "output_type": "execute_result",
          "data": {
            "text/plain": [
              "10"
            ]
          },
          "metadata": {},
          "execution_count": 127
        }
      ],
      "source": [
        "y[1][0][2]"
      ]
    },
    {
      "cell_type": "code",
      "execution_count": null,
      "metadata": {
        "colab": {
          "base_uri": "https://localhost:8080/"
        },
        "id": "cyGn8u9pp6sA",
        "outputId": "9c8b405a-7c2c-4f4b-e782-f17b768e7c2e"
      },
      "outputs": [
        {
          "output_type": "execute_result",
          "data": {
            "text/plain": [
              "10"
            ]
          },
          "metadata": {},
          "execution_count": 128
        }
      ],
      "source": [
        "y[1,0,2]"
      ]
    },
    {
      "cell_type": "code",
      "execution_count": null,
      "metadata": {
        "id": "leGXkJr7p6sB",
        "outputId": "07c0b5e7-5afb-4f64-a8df-1827993a6c06"
      },
      "outputs": [
        {
          "data": {
            "text/plain": [
              "array([ 0,  1,  2,  3,  4,  5,  6,  7,  8,  9, 10, 11, 12, 13, 14, 15, 16,\n",
              "       17, 18, 19, 20, 21, 22, 23])"
            ]
          },
          "execution_count": 131,
          "metadata": {},
          "output_type": "execute_result"
        }
      ],
      "source": [
        "y = np.arange(2*3*4)\n",
        "y"
      ]
    },
    {
      "cell_type": "code",
      "execution_count": null,
      "metadata": {
        "id": "V1IpZZtNp6sB",
        "outputId": "eef4e65e-a103-4936-d347-8f6586305ca9"
      },
      "outputs": [
        {
          "data": {
            "text/plain": [
              "array([[[ 0,  1,  2,  3],\n",
              "        [ 4,  5,  6,  7]],\n",
              "\n",
              "       [[ 8,  9, 10, 11],\n",
              "        [12, 13, 14, 15]],\n",
              "\n",
              "       [[16, 17, 18, 19],\n",
              "        [20, 21, 22, 23]]])"
            ]
          },
          "execution_count": 132,
          "metadata": {},
          "output_type": "execute_result"
        }
      ],
      "source": [
        "y.reshape(3,2,4)"
      ]
    },
    {
      "cell_type": "markdown",
      "metadata": {
        "id": "Yk6-qveEp6sB"
      },
      "source": [
        "Examples of NumPy arrays:\n",
        "\n",
        "![test.png](attachment:test.png)"
      ]
    },
    {
      "cell_type": "code",
      "execution_count": null,
      "metadata": {
        "colab": {
          "base_uri": "https://localhost:8080/"
        },
        "id": "1Xoh3QTCp6sC",
        "outputId": "3c8809dd-4424-493c-f64a-b3ebadd7819b"
      },
      "outputs": [
        {
          "output_type": "execute_result",
          "data": {
            "text/plain": [
              "array([[[ 0,  1,  2,  3],\n",
              "        [ 4,  5,  6,  7]],\n",
              "\n",
              "       [[ 8,  9, 10, 11],\n",
              "        [12, 13, 14, 15]],\n",
              "\n",
              "       [[16, 17, 18, 19],\n",
              "        [20, 21, 22, 23]]])"
            ]
          },
          "metadata": {},
          "execution_count": 129
        }
      ],
      "source": [
        "y"
      ]
    },
    {
      "cell_type": "code",
      "execution_count": null,
      "metadata": {
        "colab": {
          "base_uri": "https://localhost:8080/"
        },
        "id": "seU1x8dUp6sC",
        "outputId": "cff863ab-a5d5-44e9-9e4d-74e34be287fd"
      },
      "outputs": [
        {
          "output_type": "execute_result",
          "data": {
            "text/plain": [
              "array([[[ 0,  1,  2,  3],\n",
              "        [ 4,  5,  6,  7]],\n",
              "\n",
              "       [[ 8,  9, 10, 11],\n",
              "        [12, 13, 14, 15]],\n",
              "\n",
              "       [[16, 17, 18, 19],\n",
              "        [20, 21, 22, 23]]])"
            ]
          },
          "metadata": {},
          "execution_count": 130
        }
      ],
      "source": [
        "y = y.reshape(3,2,4)\n",
        "y"
      ]
    },
    {
      "cell_type": "code",
      "execution_count": null,
      "metadata": {
        "colab": {
          "base_uri": "https://localhost:8080/"
        },
        "id": "UoUcgDsrp6sC",
        "outputId": "8a439d62-a481-4895-9921-35b580d99f92"
      },
      "outputs": [
        {
          "output_type": "execute_result",
          "data": {
            "text/plain": [
              "array([[0, 1, 2, 3],\n",
              "       [4, 5, 6, 7]])"
            ]
          },
          "metadata": {},
          "execution_count": 132
        }
      ],
      "source": [
        "x"
      ]
    },
    {
      "cell_type": "code",
      "execution_count": null,
      "metadata": {
        "colab": {
          "base_uri": "https://localhost:8080/"
        },
        "id": "qFThsqLOp6sD",
        "outputId": "8a8f9801-0285-4f67-fd60-f6f665d997f2"
      },
      "outputs": [
        {
          "output_type": "execute_result",
          "data": {
            "text/plain": [
              "array([[[ 0,  1,  2,  3],\n",
              "        [ 4,  5,  6,  7]],\n",
              "\n",
              "       [[ 8,  9, 10, 11],\n",
              "        [12, 13, 14, 15]],\n",
              "\n",
              "       [[16, 17, 18, 19],\n",
              "        [20, 21, 22, 23]]])"
            ]
          },
          "metadata": {},
          "execution_count": 133
        }
      ],
      "source": [
        "z = np.array([x, x+8, x+16])\n",
        "z"
      ]
    },
    {
      "cell_type": "code",
      "execution_count": null,
      "metadata": {
        "colab": {
          "base_uri": "https://localhost:8080/"
        },
        "id": "DrGyPjvhp6sD",
        "outputId": "1caff765-ed5d-49c0-8561-01213a09a832"
      },
      "outputs": [
        {
          "output_type": "execute_result",
          "data": {
            "text/plain": [
              "array([[ 0,  1,  2,  3],\n",
              "       [ 4,  5,  6,  7],\n",
              "       [ 8,  9, 10, 11],\n",
              "       [12, 13, 14, 15],\n",
              "       [16, 17, 18, 19],\n",
              "       [20, 21, 22, 23]])"
            ]
          },
          "metadata": {},
          "execution_count": 134
        }
      ],
      "source": [
        "np.r_[x, x+8, x+16]"
      ]
    },
    {
      "cell_type": "code",
      "execution_count": null,
      "metadata": {
        "colab": {
          "base_uri": "https://localhost:8080/"
        },
        "id": "eO4FbZrMp6sE",
        "outputId": "a7f82aba-2015-45fe-d0ef-6cb146d397f0"
      },
      "outputs": [
        {
          "output_type": "execute_result",
          "data": {
            "text/plain": [
              "array([[0, 1, 2, 3],\n",
              "       [4, 5, 6, 7],\n",
              "       [4, 5, 6, 7]])"
            ]
          },
          "metadata": {},
          "execution_count": 135
        }
      ],
      "source": [
        "np.r_[x, x[1:]]\n",
        "#a = np.array([1,2,4,5,6])\n",
        "#print(a)\n",
        "#aux2=a[1:].copy()\n",
        "#aux2.append(0)\n",
        "#np.r_[a,a[1:]+[0]].reshape(2,5)"
      ]
    },
    {
      "cell_type": "code",
      "execution_count": null,
      "metadata": {
        "colab": {
          "base_uri": "https://localhost:8080/"
        },
        "id": "Rk5CClYGp6sE",
        "outputId": "727eb263-679a-4f83-eabc-6c2e000d73d0"
      },
      "outputs": [
        {
          "output_type": "execute_result",
          "data": {
            "text/plain": [
              "array([[ 0,  1,  2,  3,  8,  9, 10, 11, 16, 17, 18, 19],\n",
              "       [ 4,  5,  6,  7, 12, 13, 14, 15, 20, 21, 22, 23]])"
            ]
          },
          "metadata": {},
          "execution_count": 136
        }
      ],
      "source": [
        "np.c_[x, x+8, x+16]"
      ]
    },
    {
      "cell_type": "code",
      "execution_count": null,
      "metadata": {
        "id": "pGQdqvOBp6sF"
      },
      "outputs": [],
      "source": []
    },
    {
      "cell_type": "code",
      "execution_count": null,
      "metadata": {
        "id": "9fx0sAJXp6sF",
        "outputId": "593f4ebe-7cae-4496-91bc-d3d5dddd2219"
      },
      "outputs": [
        {
          "name": "stdout",
          "output_type": "stream",
          "text": [
            "[1 2 3]\n"
          ]
        },
        {
          "data": {
            "text/plain": [
              "(3,)"
            ]
          },
          "execution_count": 156,
          "metadata": {},
          "output_type": "execute_result"
        }
      ],
      "source": [
        "a = np.array([1,2,3])\n",
        "print(a)\n",
        "a.shape"
      ]
    },
    {
      "cell_type": "code",
      "execution_count": null,
      "metadata": {
        "id": "_C4_-7MOp6sF",
        "outputId": "930e32a4-f979-4929-f500-25ba3eaa0ea0"
      },
      "outputs": [
        {
          "data": {
            "text/plain": [
              "array([2, 3])"
            ]
          },
          "execution_count": 157,
          "metadata": {},
          "output_type": "execute_result"
        }
      ],
      "source": [
        "aux2 = a[1:].copy()\n",
        "aux2"
      ]
    },
    {
      "cell_type": "code",
      "execution_count": null,
      "metadata": {
        "id": "EhRuQfUGp6sG",
        "outputId": "cefdfa6a-90bc-4279-8780-e8b3907e25a8"
      },
      "outputs": [
        {
          "data": {
            "text/plain": [
              "array([1, 2, 3])"
            ]
          },
          "execution_count": 158,
          "metadata": {},
          "output_type": "execute_result"
        }
      ],
      "source": [
        "a.T"
      ]
    },
    {
      "cell_type": "code",
      "execution_count": null,
      "metadata": {
        "id": "YGaZL5Svp6sG",
        "outputId": "e6b04a3e-50e9-45c7-d987-0d366aa4f728"
      },
      "outputs": [
        {
          "name": "stdout",
          "output_type": "stream",
          "text": [
            "[[1 2 3]]\n"
          ]
        },
        {
          "data": {
            "text/plain": [
              "(1, 3)"
            ]
          },
          "execution_count": 160,
          "metadata": {},
          "output_type": "execute_result"
        }
      ],
      "source": [
        "b = np.array([[1,2,3]])\n",
        "print(b)\n",
        "b.shape"
      ]
    },
    {
      "cell_type": "code",
      "execution_count": null,
      "metadata": {
        "id": "BYxswo6Rp6sH",
        "outputId": "2365afce-7d84-4694-e337-19b10b729d92"
      },
      "outputs": [
        {
          "data": {
            "text/plain": [
              "array([[1],\n",
              "       [2],\n",
              "       [3]])"
            ]
          },
          "execution_count": 161,
          "metadata": {},
          "output_type": "execute_result"
        }
      ],
      "source": [
        "b.T"
      ]
    },
    {
      "cell_type": "code",
      "execution_count": null,
      "metadata": {
        "id": "RvZV_DOgp6sH",
        "outputId": "7d62a014-3025-4130-f914-d2b6cbe06a23"
      },
      "outputs": [
        {
          "data": {
            "text/plain": [
              "(3, 1)"
            ]
          },
          "execution_count": 162,
          "metadata": {},
          "output_type": "execute_result"
        }
      ],
      "source": [
        "b.T.shape"
      ]
    },
    {
      "cell_type": "code",
      "execution_count": null,
      "metadata": {
        "id": "fEgY9H7sp6sI",
        "outputId": "2ead734f-dc0d-47a4-bb84-ff6bd4bd9c87"
      },
      "outputs": [
        {
          "name": "stdout",
          "output_type": "stream",
          "text": [
            "[[1]\n",
            " [2]\n",
            " [3]]\n"
          ]
        },
        {
          "data": {
            "text/plain": [
              "(3, 1)"
            ]
          },
          "execution_count": 163,
          "metadata": {},
          "output_type": "execute_result"
        }
      ],
      "source": [
        "c = np.array([[1],[2],[3]])\n",
        "print(c)\n",
        "c.shape"
      ]
    },
    {
      "cell_type": "code",
      "execution_count": null,
      "metadata": {
        "id": "DJvFrdc9p6sI",
        "outputId": "841840d8-0612-4040-c4e9-7e1e76d81ba6"
      },
      "outputs": [
        {
          "name": "stdout",
          "output_type": "stream",
          "text": [
            "[[1 2 3]]\n"
          ]
        }
      ],
      "source": [
        "print(c.reshape(1,-1))"
      ]
    },
    {
      "cell_type": "code",
      "execution_count": null,
      "metadata": {
        "id": "pq0XWbJap6sI",
        "outputId": "4027e5b7-7e9f-49d3-b2de-c65a9d3a9369"
      },
      "outputs": [
        {
          "name": "stdout",
          "output_type": "stream",
          "text": [
            "[1 2 3]\n"
          ]
        }
      ],
      "source": [
        "print(c.reshape(-1))"
      ]
    },
    {
      "cell_type": "code",
      "execution_count": null,
      "metadata": {
        "id": "weUxgJmbp6sJ"
      },
      "outputs": [],
      "source": []
    },
    {
      "cell_type": "code",
      "execution_count": null,
      "metadata": {
        "id": "QOFomAHmp6sJ",
        "outputId": "26b14fe9-a97d-4a23-8dd9-943a258f979c"
      },
      "outputs": [
        {
          "data": {
            "text/plain": [
              "array([[0, 1, 2, 3],\n",
              "       [4, 5, 6, 7]])"
            ]
          },
          "execution_count": 168,
          "metadata": {},
          "output_type": "execute_result"
        }
      ],
      "source": [
        "x"
      ]
    },
    {
      "cell_type": "code",
      "execution_count": null,
      "metadata": {
        "id": "8BKzUg-Sp6sJ",
        "outputId": "592b6af2-fb7e-483d-b11d-203c4474e4f7"
      },
      "outputs": [
        {
          "data": {
            "text/plain": [
              "array([0, 1, 2, 3])"
            ]
          },
          "execution_count": 169,
          "metadata": {},
          "output_type": "execute_result"
        }
      ],
      "source": [
        "x[0]"
      ]
    },
    {
      "cell_type": "code",
      "execution_count": null,
      "metadata": {
        "id": "0Z_Rg59wp6sK",
        "outputId": "57e62a8b-c0bf-40df-f359-0a93eb0cb705"
      },
      "outputs": [
        {
          "data": {
            "text/plain": [
              "array([0, 1, 2, 3])"
            ]
          },
          "execution_count": 170,
          "metadata": {},
          "output_type": "execute_result"
        }
      ],
      "source": [
        "x[0,:]"
      ]
    },
    {
      "cell_type": "code",
      "execution_count": null,
      "metadata": {
        "id": "X7xwWVeWp6sK",
        "outputId": "c44569d6-a641-4bd8-c492-76d4f7fe67b8"
      },
      "outputs": [
        {
          "data": {
            "text/plain": [
              "array([0, 4])"
            ]
          },
          "execution_count": 171,
          "metadata": {},
          "output_type": "execute_result"
        }
      ],
      "source": [
        "x[:,0]"
      ]
    },
    {
      "cell_type": "code",
      "execution_count": null,
      "metadata": {
        "id": "ry21amWBp6sK",
        "outputId": "5d04ffeb-a34b-486b-cd12-8779e81cbb0d"
      },
      "outputs": [
        {
          "data": {
            "text/plain": [
              "array([[1, 2, 0, 0, 0, 2],\n",
              "       [5, 6, 4, 4, 4, 6]])"
            ]
          },
          "execution_count": 172,
          "metadata": {},
          "output_type": "execute_result"
        }
      ],
      "source": [
        "x[:,[1,2,0,0,0,2]]"
      ]
    },
    {
      "cell_type": "code",
      "execution_count": null,
      "metadata": {
        "id": "vAK3V6g_p6sL",
        "outputId": "b6d4c3ef-e25e-411b-8dad-9d6dca9c4786"
      },
      "outputs": [
        {
          "data": {
            "text/plain": [
              "array([[4, 5, 6, 7],\n",
              "       [0, 1, 2, 3],\n",
              "       [4, 5, 6, 7]])"
            ]
          },
          "execution_count": 149,
          "metadata": {},
          "output_type": "execute_result"
        }
      ],
      "source": [
        "x[[1,0,1],:]"
      ]
    },
    {
      "cell_type": "code",
      "execution_count": null,
      "metadata": {
        "id": "hf50Fqg5p6sL",
        "outputId": "e3678dc9-442b-4421-ebee-cbe3e193f41a"
      },
      "outputs": [
        {
          "data": {
            "text/plain": [
              "array([0, 4])"
            ]
          },
          "execution_count": 173,
          "metadata": {},
          "output_type": "execute_result"
        }
      ],
      "source": [
        "x[:,0]"
      ]
    },
    {
      "cell_type": "code",
      "execution_count": null,
      "metadata": {
        "id": "K9s7IDOGp6sM",
        "outputId": "fbfffb5f-ee1f-48b7-8ac3-84b449eaa15c"
      },
      "outputs": [
        {
          "data": {
            "text/plain": [
              "array([[0],\n",
              "       [4]])"
            ]
          },
          "execution_count": 175,
          "metadata": {},
          "output_type": "execute_result"
        }
      ],
      "source": [
        "x[:,[0]]"
      ]
    },
    {
      "cell_type": "code",
      "execution_count": null,
      "metadata": {
        "id": "Qxj4hj9Np6sM"
      },
      "outputs": [],
      "source": []
    },
    {
      "cell_type": "code",
      "execution_count": null,
      "metadata": {
        "colab": {
          "base_uri": "https://localhost:8080/"
        },
        "id": "eyo2u3njp6sM",
        "outputId": "54e9f17e-3865-4780-f8df-18d67c2fa9f2"
      },
      "outputs": [
        {
          "output_type": "execute_result",
          "data": {
            "text/plain": [
              "array([0, 1, 2])"
            ]
          },
          "metadata": {},
          "execution_count": 137
        }
      ],
      "source": [
        "b = np.array([0,1,2])\n",
        "b"
      ]
    },
    {
      "cell_type": "code",
      "execution_count": null,
      "metadata": {
        "colab": {
          "base_uri": "https://localhost:8080/"
        },
        "id": "6k9gmK6yp6sN",
        "outputId": "ba907731-d66c-4319-c801-96b5afdac874"
      },
      "outputs": [
        {
          "output_type": "execute_result",
          "data": {
            "text/plain": [
              "array([[0, 1, 2],\n",
              "       [3, 4, 5]])"
            ]
          },
          "metadata": {},
          "execution_count": 138
        }
      ],
      "source": [
        "A = np.array([[0,1,2],[3,4,5]])\n",
        "A"
      ]
    },
    {
      "cell_type": "code",
      "execution_count": null,
      "metadata": {
        "colab": {
          "base_uri": "https://localhost:8080/"
        },
        "id": "s6e6VD_Lp6sN",
        "outputId": "ded1b7e4-925e-47d8-8bd2-138f58759937"
      },
      "outputs": [
        {
          "output_type": "execute_result",
          "data": {
            "text/plain": [
              "array([ 5, 14])"
            ]
          },
          "metadata": {},
          "execution_count": 139
        }
      ],
      "source": [
        "A @ b #no.dot()"
      ]
    },
    {
      "cell_type": "code",
      "execution_count": null,
      "metadata": {
        "id": "nebD2sFop6sO"
      },
      "outputs": [],
      "source": [
        "c = np.array([10,20])"
      ]
    },
    {
      "cell_type": "code",
      "execution_count": null,
      "metadata": {
        "colab": {
          "base_uri": "https://localhost:8080/"
        },
        "id": "AKYJvIt5p6sO",
        "outputId": "b9bdb84a-339e-43ac-bc61-a94689223f5b"
      },
      "outputs": [
        {
          "output_type": "execute_result",
          "data": {
            "text/plain": [
              "array([ 60,  90, 120])"
            ]
          },
          "metadata": {},
          "execution_count": 142
        }
      ],
      "source": [
        "c @ A"
      ]
    },
    {
      "cell_type": "code",
      "execution_count": null,
      "metadata": {
        "id": "rLPMEMv2p6sO"
      },
      "outputs": [],
      "source": []
    },
    {
      "cell_type": "code",
      "execution_count": null,
      "metadata": {
        "id": "xSAOnOr-p6sP",
        "outputId": "57808fb7-0483-4876-d78c-ce65e00a6e31"
      },
      "outputs": [
        {
          "data": {
            "text/plain": [
              "array([[ 0,  9],\n",
              "       [ 3, 12],\n",
              "       [ 6, 15]])"
            ]
          },
          "execution_count": 183,
          "metadata": {},
          "output_type": "execute_result"
        }
      ],
      "source": [
        "B = 3*A.T\n",
        "B"
      ]
    },
    {
      "cell_type": "code",
      "execution_count": null,
      "metadata": {
        "id": "UTtRE4zEp6sP",
        "outputId": "c4dcec0b-8f86-4b18-8444-96358469747a"
      },
      "outputs": [
        {
          "data": {
            "text/plain": [
              "array([[ 15,  42],\n",
              "       [ 42, 150]])"
            ]
          },
          "execution_count": 184,
          "metadata": {},
          "output_type": "execute_result"
        }
      ],
      "source": [
        "A @ B"
      ]
    },
    {
      "cell_type": "code",
      "execution_count": null,
      "metadata": {
        "id": "qje-QNv-p6sP"
      },
      "outputs": [],
      "source": []
    },
    {
      "cell_type": "code",
      "execution_count": null,
      "metadata": {
        "id": "tDjoWdWJp6sQ"
      },
      "outputs": [],
      "source": [
        "import matplotlib.pyplot as plt\n",
        "%matplotlib inline"
      ]
    },
    {
      "cell_type": "code",
      "execution_count": null,
      "metadata": {
        "colab": {
          "base_uri": "https://localhost:8080/"
        },
        "id": "eIwp-t7Wp6sQ",
        "outputId": "3f5c8457-23d9-413b-b08c-0da30b198f35"
      },
      "outputs": [
        {
          "output_type": "execute_result",
          "data": {
            "text/plain": [
              "array([1., 1., 1., 1.])"
            ]
          },
          "metadata": {},
          "execution_count": 144
        }
      ],
      "source": [
        "v = np.ones(4)\n",
        "v"
      ]
    },
    {
      "cell_type": "code",
      "execution_count": null,
      "metadata": {
        "colab": {
          "base_uri": "https://localhost:8080/"
        },
        "id": "bWay2Vbdp6sQ",
        "outputId": "1d8f97d0-3ed3-482f-94f7-655a07ec20db"
      },
      "outputs": [
        {
          "output_type": "execute_result",
          "data": {
            "text/plain": [
              "array([[1., 1., 1., 1.]])"
            ]
          },
          "metadata": {},
          "execution_count": 145
        }
      ],
      "source": [
        "v = np.ones((1,4))\n",
        "v"
      ]
    },
    {
      "cell_type": "code",
      "execution_count": null,
      "metadata": {
        "colab": {
          "base_uri": "https://localhost:8080/"
        },
        "id": "fgYo8ZG3p6sR",
        "outputId": "076105af-3435-44e9-9b87-ef1086b702d9"
      },
      "outputs": [
        {
          "output_type": "execute_result",
          "data": {
            "text/plain": [
              "array([[1.],\n",
              "       [1.],\n",
              "       [1.],\n",
              "       [1.]])"
            ]
          },
          "metadata": {},
          "execution_count": 146
        }
      ],
      "source": [
        "v = np.ones((4,1))\n",
        "v"
      ]
    },
    {
      "cell_type": "code",
      "execution_count": null,
      "metadata": {
        "colab": {
          "base_uri": "https://localhost:8080/"
        },
        "id": "lJQbP0XWp6sR",
        "outputId": "19786718-e109-4d85-a80c-52083315b713"
      },
      "outputs": [
        {
          "output_type": "execute_result",
          "data": {
            "text/plain": [
              "array([[0., 0., 0.],\n",
              "       [0., 0., 0.]])"
            ]
          },
          "metadata": {},
          "execution_count": 147
        }
      ],
      "source": [
        "v = np.zeros((2,3))\n",
        "v"
      ]
    },
    {
      "cell_type": "markdown",
      "metadata": {
        "id": "0k1E2BB9p6sR"
      },
      "source": [
        "#### Broadcasting\n",
        "\n",
        "Veja mais em:\n",
        "- https://numpy.org/doc/stable/user/basics.broadcasting.html\n",
        "- http://scipy-lectures.org/intro/numpy/operations.html#broadcasting"
      ]
    },
    {
      "cell_type": "code",
      "execution_count": null,
      "metadata": {
        "colab": {
          "base_uri": "https://localhost:8080/"
        },
        "id": "oh2jKWbmp6sS",
        "outputId": "1b2eeeed-939e-4e42-98e7-f52cb900e03d"
      },
      "outputs": [
        {
          "output_type": "execute_result",
          "data": {
            "text/plain": [
              "array([[0, 1, 2, 3]])"
            ]
          },
          "metadata": {},
          "execution_count": 148
        }
      ],
      "source": [
        "v = np.arange(4).reshape(1,4)\n",
        "v"
      ]
    },
    {
      "cell_type": "code",
      "execution_count": null,
      "metadata": {
        "colab": {
          "base_uri": "https://localhost:8080/"
        },
        "id": "LeGH295Qp6sU",
        "outputId": "1fc1e0c4-ffda-43fe-b595-74dbc3766460"
      },
      "outputs": [
        {
          "output_type": "execute_result",
          "data": {
            "text/plain": [
              "array([[10, 11, 12, 13]])"
            ]
          },
          "metadata": {},
          "execution_count": 149
        }
      ],
      "source": [
        "v + 10"
      ]
    },
    {
      "cell_type": "code",
      "execution_count": null,
      "metadata": {
        "colab": {
          "base_uri": "https://localhost:8080/"
        },
        "id": "Awuguhhop6sV",
        "outputId": "15b66ed1-12df-4e22-8e73-abad1353cc4e"
      },
      "outputs": [
        {
          "output_type": "execute_result",
          "data": {
            "text/plain": [
              "array([[0],\n",
              "       [1],\n",
              "       [2],\n",
              "       [3]])"
            ]
          },
          "metadata": {},
          "execution_count": 150
        }
      ],
      "source": [
        "v.T"
      ]
    },
    {
      "cell_type": "code",
      "execution_count": null,
      "metadata": {
        "colab": {
          "base_uri": "https://localhost:8080/"
        },
        "id": "c5r-LN2jp6sV",
        "outputId": "7bacc690-ebf4-45d0-c11d-f22e18edd8f3"
      },
      "outputs": [
        {
          "output_type": "execute_result",
          "data": {
            "text/plain": [
              "array([[0, 1, 2, 3],\n",
              "       [1, 2, 3, 4],\n",
              "       [2, 3, 4, 5],\n",
              "       [3, 4, 5, 6]])"
            ]
          },
          "metadata": {},
          "execution_count": 151
        }
      ],
      "source": [
        "# por que isso acontece?\n",
        "v + v.T"
      ]
    },
    {
      "cell_type": "code",
      "execution_count": null,
      "metadata": {
        "colab": {
          "base_uri": "https://localhost:8080/"
        },
        "id": "s7Kd0Ejtp6sV",
        "outputId": "0c5558a7-0e19-4e5a-fdae-11b402959730"
      },
      "outputs": [
        {
          "output_type": "execute_result",
          "data": {
            "text/plain": [
              "array([[0, 1, 2, 3],\n",
              "       [4, 5, 6, 7]])"
            ]
          },
          "metadata": {},
          "execution_count": 152
        }
      ],
      "source": [
        "M = np.arange(8).reshape(2,-1)\n",
        "M"
      ]
    },
    {
      "cell_type": "code",
      "execution_count": null,
      "metadata": {
        "colab": {
          "base_uri": "https://localhost:8080/"
        },
        "id": "bAx3IHvSp6sW",
        "outputId": "651fcaa9-078a-4b64-f48a-9c14ee621f9c"
      },
      "outputs": [
        {
          "output_type": "execute_result",
          "data": {
            "text/plain": [
              "array([[ 0,  2,  4,  6],\n",
              "       [ 4,  6,  8, 10]])"
            ]
          },
          "metadata": {},
          "execution_count": 153
        }
      ],
      "source": [
        "M + v"
      ]
    },
    {
      "cell_type": "code",
      "execution_count": null,
      "metadata": {
        "colab": {
          "base_uri": "https://localhost:8080/",
          "height": 165
        },
        "id": "BcxJyFo7p6sW",
        "outputId": "c4957fbf-1703-45ef-e793-3e76e4e796ab"
      },
      "outputs": [
        {
          "output_type": "error",
          "ename": "ValueError",
          "evalue": "ignored",
          "traceback": [
            "\u001b[0;31m---------------------------------------------------------------------------\u001b[0m",
            "\u001b[0;31mValueError\u001b[0m                                Traceback (most recent call last)",
            "\u001b[0;32m<ipython-input-154-1a7981558e60>\u001b[0m in \u001b[0;36m<module>\u001b[0;34m\u001b[0m\n\u001b[0;32m----> 1\u001b[0;31m \u001b[0mM\u001b[0m \u001b[0;34m+\u001b[0m \u001b[0mv\u001b[0m\u001b[0;34m.\u001b[0m\u001b[0mT\u001b[0m\u001b[0;34m\u001b[0m\u001b[0;34m\u001b[0m\u001b[0m\n\u001b[0m",
            "\u001b[0;31mValueError\u001b[0m: operands could not be broadcast together with shapes (2,4) (4,1) "
          ]
        }
      ],
      "source": [
        "M + v.T"
      ]
    },
    {
      "cell_type": "code",
      "execution_count": null,
      "metadata": {
        "colab": {
          "base_uri": "https://localhost:8080/"
        },
        "id": "-7MWjPn4p6sW",
        "outputId": "11e19801-407e-4028-ec8f-a020b2103352"
      },
      "outputs": [
        {
          "output_type": "execute_result",
          "data": {
            "text/plain": [
              "array([0, 1, 2, 3])"
            ]
          },
          "metadata": {},
          "execution_count": 155
        }
      ],
      "source": [
        "v = np.arange(4)\n",
        "v"
      ]
    },
    {
      "cell_type": "code",
      "execution_count": null,
      "metadata": {
        "colab": {
          "base_uri": "https://localhost:8080/"
        },
        "id": "T_dBDZW_p6sX",
        "outputId": "26cd4515-3d92-4ca1-f5b0-2af3cc6bd520"
      },
      "outputs": [
        {
          "output_type": "execute_result",
          "data": {
            "text/plain": [
              "array([[ 0,  2,  4,  6],\n",
              "       [ 4,  6,  8, 10]])"
            ]
          },
          "metadata": {},
          "execution_count": 156
        }
      ],
      "source": [
        "M + v"
      ]
    },
    {
      "cell_type": "code",
      "execution_count": null,
      "metadata": {
        "colab": {
          "base_uri": "https://localhost:8080/"
        },
        "id": "phOwfvgVp6sX",
        "outputId": "0257ae6f-bd9e-4614-cf82-e992497df1ea"
      },
      "outputs": [
        {
          "output_type": "execute_result",
          "data": {
            "text/plain": [
              "array([0, 1])"
            ]
          },
          "metadata": {},
          "execution_count": 157
        }
      ],
      "source": [
        "v = np.arange(2)\n",
        "v"
      ]
    },
    {
      "cell_type": "code",
      "execution_count": null,
      "metadata": {
        "colab": {
          "base_uri": "https://localhost:8080/",
          "height": 165
        },
        "id": "QGZdBot8p6sY",
        "outputId": "358e5194-3f01-40ef-caf5-469a2dd78de3"
      },
      "outputs": [
        {
          "output_type": "error",
          "ename": "ValueError",
          "evalue": "ignored",
          "traceback": [
            "\u001b[0;31m---------------------------------------------------------------------------\u001b[0m",
            "\u001b[0;31mValueError\u001b[0m                                Traceback (most recent call last)",
            "\u001b[0;32m<ipython-input-158-829bb6f9bba5>\u001b[0m in \u001b[0;36m<module>\u001b[0;34m\u001b[0m\n\u001b[0;32m----> 1\u001b[0;31m \u001b[0mM\u001b[0m \u001b[0;34m+\u001b[0m \u001b[0mv\u001b[0m\u001b[0;34m\u001b[0m\u001b[0;34m\u001b[0m\u001b[0m\n\u001b[0m",
            "\u001b[0;31mValueError\u001b[0m: operands could not be broadcast together with shapes (2,4) (2,) "
          ]
        }
      ],
      "source": [
        "M + v"
      ]
    },
    {
      "cell_type": "markdown",
      "metadata": {
        "id": "DTD8aX3_p6sY"
      },
      "source": [
        "## Matplotlib"
      ]
    },
    {
      "cell_type": "code",
      "execution_count": null,
      "metadata": {
        "id": "SQqPwyRjp6sY"
      },
      "outputs": [],
      "source": [
        "import matplotlib.pyplot as plt\n",
        "%matplotlib inline"
      ]
    },
    {
      "cell_type": "code",
      "execution_count": null,
      "metadata": {
        "id": "LMRp8xuyp6sY"
      },
      "outputs": [],
      "source": [
        "x = np.linspace(0,1,10)"
      ]
    },
    {
      "cell_type": "code",
      "execution_count": null,
      "metadata": {
        "colab": {
          "base_uri": "https://localhost:8080/",
          "height": 295
        },
        "id": "c4d-RqPDp6sZ",
        "outputId": "b79a64dd-3112-4713-c389-5567972e1507"
      },
      "outputs": [
        {
          "output_type": "display_data",
          "data": {
            "text/plain": [
              "<Figure size 432x288 with 1 Axes>"
            ],
            "image/png": "[encoded data removed]"
          },
          "metadata": {
            "needs_background": "light"
          }
        }
      ],
      "source": [
        "plt.plot(x, x**2, 'b.-', label='quadrado')\n",
        "plt.plot(x, np.sqrt(x), 'r.-', label='raiz quadrada')\n",
        "plt.xlabel('x');\n",
        "plt.ylabel('y');\n",
        "plt.title('Título');\n",
        "plt.legend();\n",
        "plt.show()"
      ]
    },
    {
      "cell_type": "code",
      "execution_count": null,
      "metadata": {
        "colab": {
          "base_uri": "https://localhost:8080/",
          "height": 250
        },
        "id": "exUhllCQp6sZ",
        "outputId": "7e985026-3229-466b-f6b7-dfbbf32ff231"
      },
      "outputs": [
        {
          "output_type": "display_data",
          "data": {
            "text/plain": [
              "<Figure size 432x288 with 2 Axes>"
            ],
            "image/png": "[encoded data removed]"
          },
          "metadata": {
            "needs_background": "light"
          }
        }
      ],
      "source": [
        "image = np.random.randn(200,200)\n",
        "plt.imshow(image, cmap=plt.cm.gray)\n",
        "plt.colorbar()\n",
        "plt.axis('off');"
      ]
    },
    {
      "cell_type": "markdown",
      "metadata": {
        "id": "CqWUVNuMp6sa"
      },
      "source": [
        "#### Mais\n",
        "- NumPy (https://numpy.org/doc/stable/user/quickstart.html#less-basic), por exemplo *Indexing with Boolean Arrays*\n",
        "- Pandas\n",
        "- JupyterLab"
      ]
    },
    {
      "cell_type": "markdown",
      "metadata": {
        "id": "11gfY7oRp6sa"
      },
      "source": [
        "## OpenCV"
      ]
    },
    {
      "cell_type": "code",
      "execution_count": null,
      "metadata": {
        "id": "GUxgzEJ0p6sa"
      },
      "outputs": [],
      "source": [
        "import cv2"
      ]
    },
    {
      "cell_type": "code",
      "execution_count": null,
      "metadata": {
        "id": "99D_tqYgp6sa"
      },
      "outputs": [],
      "source": [
        "img = cv2.imread('Fig0312(a)(kidney).tif',0)"
      ]
    },
    {
      "cell_type": "markdown",
      "metadata": {
        "id": "TGC4OXv0p6sb"
      },
      "source": [
        "Não use ícone `X vermelho` para fechar a janela da imagem, isso irá travar o kernel do Jupyter. Para fechar uma imagem, use aperte alguma tecla (ex: epaço ou enter)."
      ]
    },
    {
      "cell_type": "code",
      "source": [
        "from google.colab.patches import cv2_imshow"
      ],
      "metadata": {
        "id": "AWf_L9gQPsup"
      },
      "execution_count": null,
      "outputs": []
    },
    {
      "cell_type": "code",
      "execution_count": null,
      "metadata": {
        "colab": {
          "base_uri": "https://localhost:8080/",
          "height": 845
        },
        "id": "urHKZUBkp6sb",
        "outputId": "4a69b6bd-8fd8-469c-8af0-f9e22b5b652b"
      },
      "outputs": [
        {
          "output_type": "display_data",
          "data": {
            "text/plain": [
              "<PIL.Image.Image image mode=L size=720x828 at 0x7F6B986B2150>"
            ],
            "image/png": "[encoded data removed]"
          },
          "metadata": {}
        }
      ],
      "source": [
        "cv2_imshow(img)\n",
        "#cv2.waitKey(0)\n",
        "#cv2.destroyAllWindows()"
      ]
    },
    {
      "cell_type": "markdown",
      "metadata": {
        "id": "UXttehcap6sc"
      },
      "source": [
        "#### Observação\n",
        "\n",
        "No Google Colab, você defe importar a `cv2_imshow` para poder exibir uma imagem, caso contrário você irá travar o kernel do Colab.\n",
        "\n",
        "use:\n",
        "\n",
        "`from google.colab.patches import cv2_imshow`\n",
        "\n",
        "...\n",
        "\n",
        "`img = cv2.imread(<imagem>,0)`\n",
        "\n",
        "....\n",
        "\n",
        "`cv2_imshow(img) \n",
        "cv2.waitKey(0)\n",
        "cv2.destroyAllWindows()`"
      ]
    },
    {
      "cell_type": "code",
      "execution_count": null,
      "metadata": {
        "colab": {
          "base_uri": "https://localhost:8080/"
        },
        "id": "pEDFSa0kp6sc",
        "outputId": "ef2cfa15-09c1-4853-dc87-49d31a7bd63d"
      },
      "outputs": [
        {
          "output_type": "execute_result",
          "data": {
            "text/plain": [
              "numpy.ndarray"
            ]
          },
          "metadata": {},
          "execution_count": 175
        }
      ],
      "source": [
        "type(img)"
      ]
    },
    {
      "cell_type": "code",
      "execution_count": null,
      "metadata": {
        "colab": {
          "base_uri": "https://localhost:8080/"
        },
        "id": "Sgl9OahZp6sc",
        "outputId": "b312cd95-c8c5-4802-d044-b9206ddb1fa5"
      },
      "outputs": [
        {
          "output_type": "execute_result",
          "data": {
            "text/plain": [
              "(828, 720)"
            ]
          },
          "metadata": {},
          "execution_count": 176
        }
      ],
      "source": [
        "img.shape  #lembrando que retorna (linhas, colunas)"
      ]
    },
    {
      "cell_type": "code",
      "execution_count": null,
      "metadata": {
        "colab": {
          "base_uri": "https://localhost:8080/"
        },
        "id": "3RHBS9qup6sd",
        "outputId": "cbe668f0-249a-4d47-cd52-7b8b73eca8bb"
      },
      "outputs": [
        {
          "output_type": "execute_result",
          "data": {
            "text/plain": [
              "True"
            ]
          },
          "metadata": {},
          "execution_count": 169
        }
      ],
      "source": [
        "cv2.imwrite('img_after_save.png', img)"
      ]
    },
    {
      "cell_type": "code",
      "execution_count": null,
      "metadata": {
        "colab": {
          "base_uri": "https://localhost:8080/",
          "height": 165
        },
        "id": "ZGrqWr7Pp6sd",
        "outputId": "473f38c3-4a28-42cc-902d-2c3415c4d7eb"
      },
      "outputs": [
        {
          "output_type": "error",
          "ename": "ValueError",
          "evalue": "ignored",
          "traceback": [
            "\u001b[0;31m---------------------------------------------------------------------------\u001b[0m",
            "\u001b[0;31mValueError\u001b[0m                                Traceback (most recent call last)",
            "\u001b[0;32m<ipython-input-177-d83d8899c568>\u001b[0m in \u001b[0;36m<module>\u001b[0;34m\u001b[0m\n\u001b[0;32m----> 1\u001b[0;31m \u001b[0mB\u001b[0m\u001b[0;34m,\u001b[0m \u001b[0mG\u001b[0m\u001b[0;34m,\u001b[0m \u001b[0mR\u001b[0m \u001b[0;34m=\u001b[0m \u001b[0mcv2\u001b[0m\u001b[0;34m.\u001b[0m\u001b[0msplit\u001b[0m\u001b[0;34m(\u001b[0m\u001b[0mimg\u001b[0m\u001b[0;34m)\u001b[0m\u001b[0;34m\u001b[0m\u001b[0;34m\u001b[0m\u001b[0m\n\u001b[0m",
            "\u001b[0;31mValueError\u001b[0m: not enough values to unpack (expected 3, got 1)"
          ]
        }
      ],
      "source": [
        "B, G, R = cv2.split(img)"
      ]
    },
    {
      "cell_type": "code",
      "execution_count": null,
      "metadata": {
        "colab": {
          "base_uri": "https://localhost:8080/",
          "height": 1000
        },
        "id": "V6Hg-dRKp6sd",
        "outputId": "f57d7621-0bb6-4f5f-bb75-a122fb623c1d"
      },
      "outputs": [
        {
          "output_type": "display_data",
          "data": {
            "text/plain": [
              "<PIL.Image.Image image mode=RGB size=720x828 at 0x7F6B986C2D10>"
            ],
            "image/png": "[encoded data removed]"
          },
          "metadata": {}
        },
        {
          "output_type": "display_data",
          "data": {
            "text/plain": [
              "<PIL.Image.Image image mode=L size=720x828 at 0x7F6B98734550>"
            ],
            "image/png": "[encoded data removed]"
          },
          "metadata": {}
        },
        {
          "output_type": "display_data",
          "data": {
            "text/plain": [
              "<PIL.Image.Image image mode=L size=720x828 at 0x7F6B986C2190>"
            ],
            "image/png": "[encoded data removed]"
          },
          "metadata": {}
        },
        {
          "output_type": "display_data",
          "data": {
            "text/plain": [
              "<PIL.Image.Image image mode=L size=720x828 at 0x7F6B986C2C50>"
            ],
            "image/png": "[encoded data removed]"
          },
          "metadata": {}
        },
        {
          "output_type": "execute_result",
          "data": {
            "text/plain": [
              "-1"
            ]
          },
          "metadata": {},
          "execution_count": 172
        }
      ],
      "source": [
        "cv2_imshow(img) \n",
        "cv2.waitKey(0) \n",
        "  \n",
        "cv2_imshow( B) \n",
        "cv2.waitKey(0) \n",
        "  \n",
        "cv2_imshow(G) \n",
        "cv2.waitKey(0) \n",
        "  \n",
        "cv2_imshow(R) \n",
        "cv2.waitKey(0) \n",
        "  \n",
        "#cv2.destroyAllWindows() "
      ]
    },
    {
      "cell_type": "code",
      "execution_count": null,
      "metadata": {
        "id": "qCsctBeSp6se",
        "outputId": "b75c5a3b-0357-40fe-dea0-9ec75d079778"
      },
      "outputs": [
        {
          "name": "stdout",
          "output_type": "stream",
          "text": [
            "[[33 29 29 ... 12 12 12]\n",
            " [33 32 32 ... 12 13 12]\n",
            " [41 38 39 ... 14 12 12]\n",
            " ...\n",
            " [46 26 19 ... 16 15 16]\n",
            " [28 22 17 ... 16 14 17]\n",
            " [24 19 16 ... 34 22 16]]\n"
          ]
        }
      ],
      "source": [
        "image1 = cv2.imread('data/t1.jpg',0)  \n",
        "image2 = cv2.imread('data/t2.jpg',0) \n",
        " \n",
        "weightedSum = cv2.addWeighted(image1, 0.5, image2, 0.4, 0) \n",
        "\n",
        "cv2.imshow('Weighted Image', weightedSum) \n",
        "  \n",
        "cv2.waitKey(0)\n",
        "cv2.destroyAllWindows()  \n",
        "\n",
        "print(weightedSum)"
      ]
    },
    {
      "cell_type": "code",
      "execution_count": null,
      "metadata": {
        "id": "_gdVpiNip6se",
        "outputId": "ec8ee559-777c-4365-94ac-7c1ef6ccfd47"
      },
      "outputs": [
        {
          "name": "stdout",
          "output_type": "stream",
          "text": [
            "(250, 500)\n",
            "(250, 500)\n",
            "[[32 32 32 ... 15 15 15]\n",
            " [32 32 32 ... 16 16 16]\n",
            " [32 32 32 ... 16 16 16]\n",
            " ...\n",
            " [27 27 25 ...  5  6  6]\n",
            " [31 25 22 ...  5  5  5]\n",
            " [31 25 22 ...  5  5  5]]\n"
          ]
        }
      ],
      "source": [
        "print(image1.shape)\n",
        "print(image2.shape)\n",
        "\n",
        "lines1, rows1 = image1.shape\n",
        "lines2, rows2 = image2.shape\n",
        "print(image1)"
      ]
    },
    {
      "cell_type": "code",
      "execution_count": null,
      "metadata": {
        "id": "24xekd4Np6se",
        "outputId": "f73c4df5-f57b-496d-f574-a16b5384d20a"
      },
      "outputs": [
        {
          "name": "stdout",
          "output_type": "stream",
          "text": [
            "(250, 500)\n",
            "[[32 29 29 ... 12 11 12]\n",
            " [33 32 32 ... 12 12 12]\n",
            " [40 38 39 ... 14 12 11]\n",
            " ...\n",
            " [45 25 18 ... 15 15 15]\n",
            " [27 21 17 ... 16 14 17]\n",
            " [23 19 16 ... 34 22 15]]\n"
          ]
        }
      ],
      "source": [
        "import numpy as np\n",
        "\n",
        "image_aux = np.zeros([lines1, rows1])\n",
        "image_out = np.zeros([lines1, rows1])\n",
        "print(image_out.shape)\n",
        "for i in range(lines1):\n",
        "    for j in range(rows1):\n",
        "        image_aux[i][j] = 0.5*image1[i][j]+0.4*image2[i][j]\n",
        "\n",
        "#image_aux = 0.5*image1+0.4*image2\n",
        "        \n",
        "image_out = np.array(image_aux, dtype=np.uint8)\n",
        "print(image_out)\n",
        "cv2.imshow('Image Out', image_out) \n",
        "\n",
        "cv2.waitKey(0)\n",
        "cv2.destroyAllWindows()\n"
      ]
    },
    {
      "cell_type": "code",
      "execution_count": null,
      "metadata": {
        "id": "UPXJ7cVQp6sf"
      },
      "outputs": [],
      "source": [
        "image1 = cv2.imread('data/t3.jpg',0)  \n",
        "image2 = cv2.imread('data/t4.jpg',0) \n",
        "   \n",
        "sub = cv2.subtract(image1, image2) \n",
        "  \n",
        "cv2.imshow('Subtracted Image', sub) \n",
        "\n",
        "cv2.waitKey(0)\n",
        "cv2.destroyAllWindows()  "
      ]
    },
    {
      "cell_type": "code",
      "execution_count": null,
      "metadata": {
        "id": "5cyDuce9p6sf",
        "outputId": "1dcd87d2-1909-4f2d-a56f-184b859f6a06"
      },
      "outputs": [
        {
          "name": "stdout",
          "output_type": "stream",
          "text": [
            "(168, 300)\n",
            "(168, 300)\n",
            "[[0 0 0 ... 0 0 0]\n",
            " [0 0 0 ... 0 0 0]\n",
            " [0 0 0 ... 0 0 0]\n",
            " ...\n",
            " [0 0 0 ... 0 0 0]\n",
            " [0 0 0 ... 0 0 0]\n",
            " [0 0 0 ... 0 0 0]]\n"
          ]
        }
      ],
      "source": [
        "print(image1.shape)\n",
        "print(image2.shape)\n",
        "\n",
        "lines1, rows1 = image1.shape\n",
        "lines2, rows2 = image2.shape\n",
        "print(image1)"
      ]
    },
    {
      "cell_type": "code",
      "execution_count": null,
      "metadata": {
        "id": "-2SCXgn3p6sg",
        "outputId": "0522dbd3-553d-4a38-ecd9-97e3c73a35fc"
      },
      "outputs": [
        {
          "name": "stdout",
          "output_type": "stream",
          "text": [
            "(168, 300)\n",
            "[[0 0 0 ... 0 0 0]\n",
            " [0 0 0 ... 0 0 0]\n",
            " [0 0 0 ... 0 0 0]\n",
            " ...\n",
            " [0 0 0 ... 0 0 0]\n",
            " [0 0 0 ... 0 0 0]\n",
            " [0 0 0 ... 0 0 0]]\n"
          ]
        }
      ],
      "source": [
        "image_aux1 = np.zeros([lines1, rows1])\n",
        "image_out1 = np.zeros([lines1, rows1])\n",
        "\n",
        "print(image_out1.shape)\n",
        "\n",
        "for i in range(lines1):\n",
        "    for j in range(rows1):\n",
        "        if (int(image1[i][j])-int(image2[i][j]) >= 0) and (int(image1[i][j])-int(image2[i][j]) <= 255):\n",
        "            image_aux1[i][j] = int(image1[i][j])-int(image2[i][j])\n",
        "        else:\n",
        "            image_aux1[i][j] = 0\n",
        "        \n",
        "image_out1 = np.array(image_aux1, dtype=np.uint8)\n",
        "print(image_out1)\n",
        "cv2.imshow('Image Out', image_out1) \n",
        "  \n",
        "cv2.waitKey(0)\n",
        "cv2.destroyAllWindows()"
      ]
    },
    {
      "cell_type": "code",
      "execution_count": null,
      "metadata": {
        "id": "bQhERvxgp6sg"
      },
      "outputs": [],
      "source": [
        "imgColored = cv2.imread('data/t1.jpg')\n",
        "gray_img = cv2.cvtColor(imgColored, cv2.COLOR_BGR2GRAY)\n",
        "\n",
        "cv2.imshow('Image in', imgColored) \n",
        "cv2.waitKey(0)\n",
        "\n",
        "cv2.imshow('Image Out', gray_img)  \n",
        "cv2.waitKey(0)\n",
        "\n",
        "cv2.destroyAllWindows()"
      ]
    },
    {
      "cell_type": "code",
      "execution_count": null,
      "metadata": {
        "id": "DxKCBBkDp6sg",
        "outputId": "86b5e1c8-f4e2-44fe-c1f9-d5bb813a9d7a"
      },
      "outputs": [
        {
          "name": "stdout",
          "output_type": "stream",
          "text": [
            "(250, 499)\n",
            "(250, 499)\n"
          ]
        }
      ],
      "source": [
        "image1 = cv2.imread('data/t5.png',0)  \n",
        "image2 = cv2.imread('data/t6.png',0) \n",
        "\n",
        "dest_and = cv2.bitwise_and(image1, image2, mask = None)\n",
        "\n",
        "cv2.imshow('AND Image', dest_and) \n",
        "\n",
        "cv2.waitKey(0)  \n",
        "cv2.destroyAllWindows()\n",
        "\n",
        "print(image1.shape)\n",
        "print(image2.shape)"
      ]
    },
    {
      "cell_type": "code",
      "execution_count": null,
      "metadata": {
        "id": "or7ynNPAp6sh",
        "outputId": "cc87c251-5ce9-4ce8-e987-1b5328501c87"
      },
      "outputs": [
        {
          "name": "stdout",
          "output_type": "stream",
          "text": [
            "(250, 499)\n",
            "[[0 0 0 ... 0 0 0]\n",
            " [0 0 0 ... 0 0 0]\n",
            " [0 0 0 ... 0 0 0]\n",
            " ...\n",
            " [0 0 0 ... 0 0 0]\n",
            " [0 0 0 ... 0 0 0]\n",
            " [0 0 0 ... 0 0 0]]\n"
          ]
        }
      ],
      "source": [
        "lines1, rows1 = image1.shape\n",
        "lines2, rows2 = image2.shape\n",
        "\n",
        "image_aux = np.zeros([lines1, rows1])\n",
        "image_out = np.zeros([lines1, rows1])\n",
        "\n",
        "print(image_out.shape)\n",
        "for i in range(lines1):\n",
        "    for j in range(rows1):\n",
        "        image_aux[i][j] = image1[i][j] & image2[i][j]  # tente com OR: |, XOR: ^, NOT: ~\n",
        "\n",
        "#image_aux = image1 & image2\n",
        "\n",
        "image_out = np.array(image_aux, dtype=np.uint8)\n",
        "print(image_out)\n",
        "cv2.imshow('AND Image', image_out)\n",
        "\n",
        "cv2.waitKey(0)  \n",
        "cv2.destroyAllWindows()"
      ]
    },
    {
      "cell_type": "code",
      "execution_count": null,
      "metadata": {
        "id": "_K6Nb8Cmp6sh"
      },
      "outputs": [],
      "source": []
    }
  ],
  "metadata": {
    "kernelspec": {
      "display_name": "Python 3",
      "language": "python",
      "name": "python3"
    },
    "language_info": {
      "codemirror_mode": {
        "name": "ipython",
        "version": 3
      },
      "file_extension": ".py",
      "mimetype": "text/x-python",
      "name": "python",
      "nbconvert_exporter": "python",
      "pygments_lexer": "ipython3",
      "version": "3.8.5"
    },
    "colab": {
      "provenance": [],
      "collapsed_sections": [
        "pZ1wPw3Kp6rv",
        "0k1E2BB9p6sR",
        "DTD8aX3_p6sY",
        "CqWUVNuMp6sa",
        "11gfY7oRp6sa",
        "UXttehcap6sc"
      ],
      "include_colab_link": true
    }
  },
  "nbformat": 4,
  "nbformat_minor": 0
}